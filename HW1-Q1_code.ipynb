{
 "cells": [
  {
   "cell_type": "markdown",
   "metadata": {},
   "source": [
    "# Problem 1\n",
    "\n"
   ]
  },
  {
   "cell_type": "code",
   "execution_count": 84,
   "metadata": {},
   "outputs": [],
   "source": [
    "from scipy.io import loadmat\n",
    "ocr = loadmat('ocr.mat')\n",
    "\n",
    "import matplotlib.pyplot as plt\n",
    "import numpy as np\n",
    "import random"
   ]
  },
  {
   "cell_type": "markdown",
   "metadata": {},
   "source": [
    "\n",
    "### Nearest neighbor classifier"
   ]
  },
  {
   "cell_type": "code",
   "execution_count": 85,
   "metadata": {},
   "outputs": [],
   "source": [
    "def n_n_classifier(X, Y, test):\n",
    "    \"\"\"Implements the nearest neighbor classifier \n",
    "    \n",
    "    Arguments:\n",
    "        X: matrix of training feature vectors X (one data point per row).\n",
    "        Y: vector of corresponding labels.\n",
    "        test: matrix of test feature vectors (one test vector per row). \n",
    "    \n",
    "    Returns:    \n",
    "        vector of the predicted labels for all test vectors\"\"\"\n",
    "\n",
    "    sqdist = np.sum(X**2, axis=1)[:, np.newaxis] - 2 * np.matmul(X, test.T) + np.sum(test**2, axis=1)  \n",
    "    preds = Y[sqdist.argmin(0)]\n",
    "    return preds"
   ]
  },
  {
   "cell_type": "markdown",
   "metadata": {},
   "source": [
    "\n",
    "### Evaluating the nearest neighbor classifier"
   ]
  },
  {
   "cell_type": "code",
   "execution_count": 86,
   "metadata": {},
   "outputs": [
    {
     "data": {
      "text/plain": [
       "<matplotlib.text.Text at 0x1110e898>"
      ]
     },
     "execution_count": 86,
     "metadata": {},
     "output_type": "execute_result"
    },
    {
     "data": {
      "image/png": "[encoded data removed]",
      "text/plain": [
       "<matplotlib.figure.Figure at 0x14a05b70>"
      ]
     },
     "metadata": {},
     "output_type": "display_data"
    }
   ],
   "source": [
    "def test_error_rates(training, labels, test, test_labels, N, i):\n",
    "    \"\"\"compute matrix of test error rates for the n-n classifier \n",
    "    \n",
    "    Arguments:\n",
    "        X: matrix of training feature vectors X (one data point per row).\n",
    "        Y: vector of corresponding training labels.\n",
    "        test: matrix of test feature vectors (one test vector per row).\n",
    "        test_labels: vector of corresponding test labels.\n",
    "        N: vector containing various sizes of training samples to be randomly selected\n",
    "        i: number of repetitions to compute average test error rates for each random training sample\n",
    "    \n",
    "    Returns:    \n",
    "        Matrix of i test error rate vectors. The i-th row vector of size |N|, contains the test error\n",
    "        rates for each training sample size in N, for the i-th repetition\"\"\"\n",
    "    \n",
    "    err_lists = []\n",
    "    for k in range(i):         \n",
    "        test_error_rate = []\n",
    "        for n in N:   \n",
    "            sel = random.sample(xrange(60000),n)\n",
    "            X = training[sel]\n",
    "            Y = labels[sel]           \n",
    "            preds = n_n_classifier(X, Y, test)\n",
    "            error_rate = np.sum(preds <> test_labels) / float(len(test))\n",
    "            test_error_rate.append(error_rate)\n",
    "        err_lists.append(test_error_rate)\n",
    "    return err_lists\n",
    "\n",
    "\n",
    "N = [1000, 2000, 4000, 8000]\n",
    "i = 10\n",
    "training = ocr['data'].astype('float')\n",
    "labels = ocr['labels']\n",
    "test = ocr['testdata'].astype('float')\n",
    "test_labels = ocr['testlabels']\n",
    "err_lists = test_error_rates(training, labels, test, test_labels, N, i)\n",
    "\n",
    "\n",
    "%matplotlib inline\n",
    "plt.errorbar(N, np.mean(err_lists, axis=0), yerr=np.std(err_lists, axis=0), marker='8', capsize = 4)\n",
    "plt.title('Learning curve - NN classifier')\n",
    "plt.ylabel('average test error rate')\n",
    "plt.xlabel('training sample size')"
   ]
  }
 ],
 "metadata": {
  "kernelspec": {
   "display_name": "Python 2",
   "language": "python",
   "name": "python2"
  },
  "language_info": {
   "codemirror_mode": {
    "name": "ipython",
    "version": 2
   },
   "file_extension": ".py",
   "mimetype": "text/x-python",
   "name": "python",
   "nbconvert_exporter": "python",
   "pygments_lexer": "ipython2",
   "version": "2.7.13"
  }
 },
 "nbformat": 4,
 "nbformat_minor": 1
}
