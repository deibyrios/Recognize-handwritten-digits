{
 "cells": [
  {
   "cell_type": "markdown",
   "metadata": {},
   "source": [
    "# Problem 1\n",
    "\n"
   ]
  },
  {
   "cell_type": "code",
   "execution_count": 13,
   "metadata": {},
   "outputs": [],
   "source": [
    "from scipy.io import loadmat\n",
    "ocr = loadmat('ocr.mat')\n",
    "\n",
    "import matplotlib.pyplot as plt\n",
    "import numpy as np\n",
    "import random"
   ]
  },
  {
   "cell_type": "markdown",
   "metadata": {},
   "source": [
    "\n",
    "### Nearest neighbor classifier"
   ]
  },
  {
   "cell_type": "code",
   "execution_count": 14,
   "metadata": {
    "collapsed": true
   },
   "outputs": [],
   "source": [
    "def n_n_classifier(X, Y, test):\n",
    "    \"\"\"Implements the nearest neighbor classifier \n",
    "    \n",
    "    Arguments:\n",
    "        X: matrix of training feature vectors X (one data point per row).\n",
    "        Y: vector of corresponding labels.\n",
    "        test: matrix of test feature vectors (one test vector per row). \n",
    "    \n",
    "    Returns:    \n",
    "        vector of the predicted labels for all test vectors\"\"\"\n",
    "\n",
    "    sqdist = np.sum(X**2, axis=1)[:, np.newaxis] - 2 * np.matmul(X, test.T) + np.sum(test**2, axis=1)  \n",
    "    preds = Y[sqdist.argmin(0)]\n",
    "    return preds"
   ]
  },
  {
   "cell_type": "markdown",
   "metadata": {},
   "source": [
    "\n",
    "### Testing correctness of 10 randomly selected predictions:"
   ]
  },
  {
   "cell_type": "code",
   "execution_count": 15,
   "metadata": {},
   "outputs": [
    {
     "name": "stdout",
     "output_type": "stream",
     "text": [
      "This is what the  9641  test point looks like:\n"
     ]
    },
    {
     "data": {
      "image/png": "[encoded data removed]",
      "text/plain": [
       "<matplotlib.figure.Figure at 0xebffef0>"
      ]
     },
     "metadata": {},
     "output_type": "display_data"
    },
    {
     "name": "stdout",
     "output_type": "stream",
     "text": [
      "This is what our code predicted:  [1]\n",
      "This is what our the actual test label vector says:  [1] \n",
      "\n",
      "This is what the  8490  test point looks like:\n"
     ]
    },
    {
     "data": {
      "image/png": "[encoded data removed]",
      "text/plain": [
       "<matplotlib.figure.Figure at 0xf5d0be0>"
      ]
     },
     "metadata": {},
     "output_type": "display_data"
    },
    {
     "name": "stdout",
     "output_type": "stream",
     "text": [
      "This is what our code predicted:  [0]\n",
      "This is what our the actual test label vector says:  [0] \n",
      "\n",
      "This is what the  9551  test point looks like:\n"
     ]
    },
    {
     "data": {
      "image/png": "[encoded data removed]",
      "text/plain": [
       "<matplotlib.figure.Figure at 0xf1d2eb8>"
      ]
     },
     "metadata": {},
     "output_type": "display_data"
    },
    {
     "name": "stdout",
     "output_type": "stream",
     "text": [
      "This is what our code predicted:  [4]\n",
      "This is what our the actual test label vector says:  [4] \n",
      "\n",
      "This is what the  5108  test point looks like:\n"
     ]
    },
    {
     "data": {
      "image/png": "[encoded data removed]",
      "text/plain": [
       "<matplotlib.figure.Figure at 0xf5e0be0>"
      ]
     },
     "metadata": {},
     "output_type": "display_data"
    },
    {
     "name": "stdout",
     "output_type": "stream",
     "text": [
      "This is what our code predicted:  [0]\n",
      "This is what our the actual test label vector says:  [0] \n",
      "\n",
      "This is what the  370  test point looks like:\n"
     ]
    },
    {
     "data": {
      "image/png": "[encoded data removed]",
      "text/plain": [
       "<matplotlib.figure.Figure at 0xca99828>"
      ]
     },
     "metadata": {},
     "output_type": "display_data"
    },
    {
     "name": "stdout",
     "output_type": "stream",
     "text": [
      "This is what our code predicted:  [7]\n",
      "This is what our the actual test label vector says:  [7] \n",
      "\n",
      "This is what the  8946  test point looks like:\n"
     ]
    },
    {
     "data": {
      "image/png": "[encoded data removed]",
      "text/plain": [
       "<matplotlib.figure.Figure at 0xf150358>"
      ]
     },
     "metadata": {},
     "output_type": "display_data"
    },
    {
     "name": "stdout",
     "output_type": "stream",
     "text": [
      "This is what our code predicted:  [3]\n",
      "This is what our the actual test label vector says:  [3] \n",
      "\n",
      "This is what the  9250  test point looks like:\n"
     ]
    },
    {
     "data": {
      "image/png": "[encoded data removed]",
      "text/plain": [
       "<matplotlib.figure.Figure at 0xf5d0c18>"
      ]
     },
     "metadata": {},
     "output_type": "display_data"
    },
    {
     "name": "stdout",
     "output_type": "stream",
     "text": [
      "This is what our code predicted:  [9]\n",
      "This is what our the actual test label vector says:  [9] \n",
      "\n",
      "This is what the  2979  test point looks like:\n"
     ]
    },
    {
     "data": {
      "image/png": "[encoded data removed]",
      "text/plain": [
       "<matplotlib.figure.Figure at 0xf7332e8>"
      ]
     },
     "metadata": {},
     "output_type": "display_data"
    },
    {
     "name": "stdout",
     "output_type": "stream",
     "text": [
      "This is what our code predicted:  [9]\n",
      "This is what our the actual test label vector says:  [9] \n",
      "\n",
      "This is what the  3729  test point looks like:\n"
     ]
    },
    {
     "data": {
      "image/png": "[encoded data removed]",
      "text/plain": [
       "<matplotlib.figure.Figure at 0xfa98c50>"
      ]
     },
     "metadata": {},
     "output_type": "display_data"
    },
    {
     "name": "stdout",
     "output_type": "stream",
     "text": [
      "This is what our code predicted:  [2]\n",
      "This is what our the actual test label vector says:  [2] \n",
      "\n",
      "This is what the  9596  test point looks like:\n"
     ]
    },
    {
     "data": {
      "image/png": "[encoded data removed]",
      "text/plain": [
       "<matplotlib.figure.Figure at 0xcc87470>"
      ]
     },
     "metadata": {},
     "output_type": "display_data"
    },
    {
     "name": "stdout",
     "output_type": "stream",
     "text": [
      "This is what our code predicted:  [8]\n",
      "This is what our the actual test label vector says:  [8] \n",
      "\n"
     ]
    }
   ],
   "source": [
    "preds = n_n_classifier(ocr['data'].astype('float'), ocr['labels'], ocr['testdata'].astype('float'))\n",
    "    \n",
    "from matplotlib import cm\n",
    "for n in range(10):\n",
    "    i = random.randint(0, 9999)\n",
    "    plt.imshow(ocr['testdata'][i].reshape((28,28)), cmap=cm.gray_r)\n",
    "    print \"This is what the \", i, \" test point looks like:\"\n",
    "    plt.show()\n",
    "    print \"This is what our code predicted: \", preds[i]\n",
    "    print \"This is what our the actual test label vector says: \", ocr['testlabels'][i], \"\\n\"### Testing correct predictions"
   ]
  }
 ],
 "metadata": {
  "kernelspec": {
   "display_name": "Python 2",
   "language": "python",
   "name": "python2"
  },
  "language_info": {
   "codemirror_mode": {
    "name": "ipython",
    "version": 2
   },
   "file_extension": ".py",
   "mimetype": "text/x-python",
   "name": "python",
   "nbconvert_exporter": "python",
   "pygments_lexer": "ipython2",
   "version": "2.7.13"
  }
 },
 "nbformat": 4,
 "nbformat_minor": 1
}
