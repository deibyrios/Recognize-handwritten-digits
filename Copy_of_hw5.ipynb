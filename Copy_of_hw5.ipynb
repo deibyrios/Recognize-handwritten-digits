{
  "nbformat": 4,
  "nbformat_minor": 0,
  "metadata": {
    "colab": {
      "name": "Copy of hw5.ipynb",
      "version": "0.3.2",
      "provenance": [],
      "include_colab_link": true
    },
    "language_info": {
      "codemirror_mode": {
        "name": "ipython",
        "version": 3
      },
      "file_extension": ".py",
      "mimetype": "text/x-python",
      "name": "python",
      "nbconvert_exporter": "python",
      "pygments_lexer": "ipython3",
      "version": "3.7.2"
    },
    "kernelspec": {
      "name": "python3",
      "display_name": "Python 3"
    },
    "accelerator": "GPU"
  },
  "cells": [
    {
      "cell_type": "markdown",
      "metadata": {
        "id": "view-in-github",
        "colab_type": "text"
      },
      "source": [
        "<a href=\"https://colab.research.google.com/github/deibyrios/Recognize-handwritten-digits/blob/master/Copy_of_hw5.ipynb\" target=\"_parent\"><img src=\"https://colab.research.google.com/assets/colab-badge.svg\" alt=\"Open In Colab\"/></a>"
      ]
    },
    {
      "metadata": {
        "colab_type": "text",
        "id": "1Nj5m2SblZsn"
      },
      "cell_type": "markdown",
      "source": [
        "<h1 >Applied Machine Learning - Homework 5"
      ]
    },
    {
      "metadata": {
        "colab_type": "text",
        "id": "k0_tcNqxlZsr"
      },
      "cell_type": "markdown",
      "source": [
        "## Task 1 - Multilayer perceptron with two hidden layers on iris dataset\n",
        "  \n",
        "Run a multilayer perceptron with two hidden layers and rectified linear nonlinearities on the iris dataset using the keras Sequential interface. \n",
        "\n",
        "Include code for selecting regularization strength and number of hidden units using GridSearchCV and evaluation on an independent test-set."
      ]
    },
    {
      "metadata": {
        "colab_type": "code",
        "id": "uoZrllhulZss",
        "outputId": "c2293add-eccf-4def-b3d1-55195de9d488",
        "colab": {
          "base_uri": "https://localhost:8080/",
          "height": 34
        }
      },
      "cell_type": "code",
      "source": [
        "import pandas as pd\n",
        "import numpy as np\n",
        "import matplotlib\n",
        "import matplotlib.pyplot as plt\n",
        "%matplotlib inline\n",
        "import warnings\n",
        "import os\n",
        "from zipfile import ZipFile\n",
        "\n",
        "import keras\n",
        "from keras.models import Sequential\n",
        "from keras.layers import Dense, Activation, Dropout, BatchNormalization\n",
        "from keras.initializers import glorot_uniform\n",
        "from keras import regularizers\n",
        "from keras.wrappers.scikit_learn import KerasClassifier\n",
        "\n",
        "from sklearn.datasets import load_iris\n",
        "from sklearn.model_selection import train_test_split\n",
        "from sklearn.model_selection import StratifiedShuffleSplit\n",
        "from sklearn.model_selection import GridSearchCV\n",
        "from sklearn.pipeline import Pipeline\n",
        "from sklearn.preprocessing import StandardScaler"
      ],
      "execution_count": 0,
      "outputs": [
        {
          "output_type": "stream",
          "text": [
            "Using TensorFlow backend.\n"
          ],
          "name": "stderr"
        }
      ]
    },
    {
      "metadata": {
        "id": "M7NVFfnYYSpg",
        "colab_type": "code",
        "outputId": "77f410eb-6731-44b4-b8f2-b1f8d1221577",
        "colab": {
          "base_uri": "https://localhost:8080/",
          "height": 34
        }
      },
      "cell_type": "code",
      "source": [
        "from keras import backend as K\n",
        "if K.backend() == \"tensorflow\":\n",
        "    import tensorflow as tf\n",
        "    device_name = tf.test.gpu_device_name()\n",
        "    if device_name == '':\n",
        "        device_name = \"None\"\n",
        "    print('Using TensorFlow version:', tf.__version__, ', GPU:', device_name)"
      ],
      "execution_count": 0,
      "outputs": [
        {
          "output_type": "stream",
          "text": [
            "Using TensorFlow version: 1.13.1 , GPU: /device:GPU:0\n"
          ],
          "name": "stdout"
        }
      ]
    },
    {
      "metadata": {
        "colab_type": "text",
        "id": "CSUOVM-yozIA"
      },
      "cell_type": "markdown",
      "source": [
        "<h4> Let's load the iris dataset and get features and targets:"
      ]
    },
    {
      "metadata": {
        "colab_type": "code",
        "id": "VbPXa0BDnB8f",
        "outputId": "60a53c1f-e465-409c-fbbf-13d752f2f4a4",
        "colab": {
          "base_uri": "https://localhost:8080/",
          "height": 68
        }
      },
      "cell_type": "code",
      "source": [
        "#from sklearn.datasets import load_iris\n",
        "\n",
        "iris = load_iris()\n",
        "feature_names = iris['feature_names']\n",
        "target_names = iris['target_names']\n",
        "num_features = len(feature_names)\n",
        "num_classes = len(target_names)\n",
        "\n",
        "X = iris['data']\n",
        "y = iris['target']\n",
        "y = keras.utils.to_categorical(y, num_classes)\n",
        "\n",
        "print('Features: ', feature_names)\n",
        "print('\\nTarget Classes :', target_names)"
      ],
      "execution_count": 0,
      "outputs": [
        {
          "output_type": "stream",
          "text": [
            "Features:  ['sepal length (cm)', 'sepal width (cm)', 'petal length (cm)', 'petal width (cm)']\n",
            "\n",
            "Target Classes : ['setosa' 'versicolor' 'virginica']\n"
          ],
          "name": "stdout"
        }
      ]
    },
    {
      "metadata": {
        "colab_type": "text",
        "id": "CcaH3L7RlZsx"
      },
      "cell_type": "markdown",
      "source": [
        "<h4> Let's split data into training and test sets:\n"
      ]
    },
    {
      "metadata": {
        "colab_type": "code",
        "id": "W68rwffllZsy",
        "outputId": "6661cdfa-0b78-4821-8265-6870b070e668",
        "colab": {
          "base_uri": "https://localhost:8080/",
          "height": 51
        }
      },
      "cell_type": "code",
      "source": [
        "#from sklearn.model_selection import train_test_split\n",
        "\n",
        "X_train, X_test, y_train, y_test = train_test_split(X, y, test_size=0.25,\n",
        "                                                    stratify=y, random_state=0)\n",
        "print('No. of training samples :', len(y_train), '\\nNo. of test samples :',\n",
        "      len(y_test))"
      ],
      "execution_count": 0,
      "outputs": [
        {
          "output_type": "stream",
          "text": [
            "No. of training samples : 112 \n",
            "No. of test samples : 38\n"
          ],
          "name": "stdout"
        }
      ]
    },
    {
      "metadata": {
        "colab_type": "text",
        "id": "Kl_3SOSvlZtY"
      },
      "cell_type": "markdown",
      "source": [
        "### Include code for selecting regularization strength and number of hidden units using GridSearchCV:"
      ]
    },
    {
      "metadata": {
        "colab_type": "text",
        "id": "Z3-TXa86QqWo"
      },
      "cell_type": "markdown",
      "source": [
        "#### Let's create our keras' scikit-learn model wrapper:"
      ]
    },
    {
      "metadata": {
        "colab_type": "code",
        "id": "oZoqYooOlZtZ",
        "outputId": "756a7a5d-4060-4aa6-eed4-5bd489ab5d81",
        "colab": {
          "base_uri": "https://localhost:8080/",
          "height": 51
        }
      },
      "cell_type": "code",
      "source": [
        "#from keras.models import Sequential\n",
        "#from keras.layers import Dense\n",
        "#from keras import regularizers\n",
        "#from keras.wrappers.scikit_learn import KerasClassifier\n",
        "#from keras.initializers import glorot_uniform\n",
        "\n",
        "def make_sklearn_mlp(n_features, n_classes, l2_reg=0, hidden_units=8):\n",
        "  mlp = Sequential([\n",
        "    Dense(hidden_units, input_shape=(n_features,), activation='relu', \n",
        "        kernel_regularizer=regularizers.l2(l2_reg),\n",
        "        kernel_initializer = glorot_uniform(0)),\n",
        "    Dense(hidden_units, activation='relu',\n",
        "        kernel_initializer = glorot_uniform(0)),\n",
        "    Dense(n_classes, activation='softmax',\n",
        "        kernel_regularizer=regularizers.l2(l2_reg),\n",
        "        kernel_initializer = glorot_uniform(0))])\n",
        "  mlp.compile(\"adam\", \"categorical_crossentropy\", metrics=['accuracy'])\n",
        "  return mlp\n",
        "\n",
        "clf = KerasClassifier(make_sklearn_mlp, n_features=num_features,\n",
        "                      n_classes=num_classes, epochs=100, batch_size=4, \n",
        "                      shuffle=True, verbose=0)\n",
        "print('keras wrapper object: \\n', type(clf))"
      ],
      "execution_count": 0,
      "outputs": [
        {
          "output_type": "stream",
          "text": [
            "keras wrapper object: \n",
            " <class 'keras.wrappers.scikit_learn.KerasClassifier'>\n"
          ],
          "name": "stdout"
        }
      ]
    },
    {
      "metadata": {
        "colab_type": "text",
        "id": "lJ60FGM9lZti"
      },
      "cell_type": "markdown",
      "source": [
        "#### Let's tune the regularization strength and number of hidden units using GridSearchCV:"
      ]
    },
    {
      "metadata": {
        "colab_type": "code",
        "id": "8m_nRWI_lZtj",
        "outputId": "cf6f8a48-4987-48b3-befa-6d70e451316f",
        "colab": {
          "base_uri": "https://localhost:8080/",
          "height": 760
        }
      },
      "cell_type": "code",
      "source": [
        "#from sklearn.model_selection import StratifiedShuffleSplit\n",
        "#from sklearn.model_selection import GridSearchCV\n",
        "\n",
        "sss = StratifiedShuffleSplit(n_splits=1, test_size=.2, random_state=0)\n",
        "\n",
        "param_grid = {'l2_reg': np.logspace(-5, -3, 6),\n",
        "              'hidden_units': [8, 16, 32]}\n",
        "\n",
        "grid = GridSearchCV(clf, param_grid=param_grid, cv=sss, return_train_score=True)\n",
        "grid.fit(X_train, y_train)\n",
        "\n",
        "results = pd.DataFrame(grid.cv_results_)\n",
        "results.pivot_table(index=[\"param_l2_reg\", \"param_hidden_units\"],\n",
        "                values=['mean_train_score', \"mean_test_score\"])"
      ],
      "execution_count": 0,
      "outputs": [
        {
          "output_type": "stream",
          "text": [
            "WARNING:tensorflow:From /usr/local/lib/python3.6/dist-packages/tensorflow/python/framework/op_def_library.py:263: colocate_with (from tensorflow.python.framework.ops) is deprecated and will be removed in a future version.\n",
            "Instructions for updating:\n",
            "Colocations handled automatically by placer.\n",
            "WARNING:tensorflow:From /usr/local/lib/python3.6/dist-packages/tensorflow/python/ops/math_ops.py:3066: to_int32 (from tensorflow.python.ops.math_ops) is deprecated and will be removed in a future version.\n",
            "Instructions for updating:\n",
            "Use tf.cast instead.\n"
          ],
          "name": "stdout"
        },
        {
          "output_type": "execute_result",
          "data": {
            "text/html": [
              "<div>\n",
              "<style scoped>\n",
              "    .dataframe tbody tr th:only-of-type {\n",
              "        vertical-align: middle;\n",
              "    }\n",
              "\n",
              "    .dataframe tbody tr th {\n",
              "        vertical-align: top;\n",
              "    }\n",
              "\n",
              "    .dataframe thead th {\n",
              "        text-align: right;\n",
              "    }\n",
              "</style>\n",
              "<table border=\"1\" class=\"dataframe\">\n",
              "  <thead>\n",
              "    <tr style=\"text-align: right;\">\n",
              "      <th></th>\n",
              "      <th></th>\n",
              "      <th>mean_test_score</th>\n",
              "      <th>mean_train_score</th>\n",
              "    </tr>\n",
              "    <tr>\n",
              "      <th>param_l2_reg</th>\n",
              "      <th>param_hidden_units</th>\n",
              "      <th></th>\n",
              "      <th></th>\n",
              "    </tr>\n",
              "  </thead>\n",
              "  <tbody>\n",
              "    <tr>\n",
              "      <th rowspan=\"3\" valign=\"top\">0.000010</th>\n",
              "      <th>8</th>\n",
              "      <td>0.956522</td>\n",
              "      <td>0.977528</td>\n",
              "    </tr>\n",
              "    <tr>\n",
              "      <th>16</th>\n",
              "      <td>0.956522</td>\n",
              "      <td>0.988764</td>\n",
              "    </tr>\n",
              "    <tr>\n",
              "      <th>32</th>\n",
              "      <td>0.956522</td>\n",
              "      <td>0.966292</td>\n",
              "    </tr>\n",
              "    <tr>\n",
              "      <th rowspan=\"3\" valign=\"top\">0.000025</th>\n",
              "      <th>8</th>\n",
              "      <td>0.956522</td>\n",
              "      <td>0.955056</td>\n",
              "    </tr>\n",
              "    <tr>\n",
              "      <th>16</th>\n",
              "      <td>0.956522</td>\n",
              "      <td>0.966292</td>\n",
              "    </tr>\n",
              "    <tr>\n",
              "      <th>32</th>\n",
              "      <td>0.956522</td>\n",
              "      <td>0.977528</td>\n",
              "    </tr>\n",
              "    <tr>\n",
              "      <th rowspan=\"3\" valign=\"top\">0.000063</th>\n",
              "      <th>8</th>\n",
              "      <td>0.913043</td>\n",
              "      <td>0.977528</td>\n",
              "    </tr>\n",
              "    <tr>\n",
              "      <th>16</th>\n",
              "      <td>0.956522</td>\n",
              "      <td>0.988764</td>\n",
              "    </tr>\n",
              "    <tr>\n",
              "      <th>32</th>\n",
              "      <td>0.956522</td>\n",
              "      <td>0.988764</td>\n",
              "    </tr>\n",
              "    <tr>\n",
              "      <th rowspan=\"3\" valign=\"top\">0.000158</th>\n",
              "      <th>8</th>\n",
              "      <td>0.956522</td>\n",
              "      <td>0.955056</td>\n",
              "    </tr>\n",
              "    <tr>\n",
              "      <th>16</th>\n",
              "      <td>0.956522</td>\n",
              "      <td>0.977528</td>\n",
              "    </tr>\n",
              "    <tr>\n",
              "      <th>32</th>\n",
              "      <td>1.000000</td>\n",
              "      <td>0.955056</td>\n",
              "    </tr>\n",
              "    <tr>\n",
              "      <th rowspan=\"3\" valign=\"top\">0.000398</th>\n",
              "      <th>8</th>\n",
              "      <td>0.956522</td>\n",
              "      <td>0.955056</td>\n",
              "    </tr>\n",
              "    <tr>\n",
              "      <th>16</th>\n",
              "      <td>0.956522</td>\n",
              "      <td>0.966292</td>\n",
              "    </tr>\n",
              "    <tr>\n",
              "      <th>32</th>\n",
              "      <td>0.956522</td>\n",
              "      <td>0.955056</td>\n",
              "    </tr>\n",
              "    <tr>\n",
              "      <th rowspan=\"3\" valign=\"top\">0.001000</th>\n",
              "      <th>8</th>\n",
              "      <td>0.913043</td>\n",
              "      <td>0.977528</td>\n",
              "    </tr>\n",
              "    <tr>\n",
              "      <th>16</th>\n",
              "      <td>0.956522</td>\n",
              "      <td>0.977528</td>\n",
              "    </tr>\n",
              "    <tr>\n",
              "      <th>32</th>\n",
              "      <td>0.956522</td>\n",
              "      <td>0.966292</td>\n",
              "    </tr>\n",
              "  </tbody>\n",
              "</table>\n",
              "</div>"
            ],
            "text/plain": [
              "                                 mean_test_score  mean_train_score\n",
              "param_l2_reg param_hidden_units                                   \n",
              "0.000010     8                          0.956522          0.977528\n",
              "             16                         0.956522          0.988764\n",
              "             32                         0.956522          0.966292\n",
              "0.000025     8                          0.956522          0.955056\n",
              "             16                         0.956522          0.966292\n",
              "             32                         0.956522          0.977528\n",
              "0.000063     8                          0.913043          0.977528\n",
              "             16                         0.956522          0.988764\n",
              "             32                         0.956522          0.988764\n",
              "0.000158     8                          0.956522          0.955056\n",
              "             16                         0.956522          0.977528\n",
              "             32                         1.000000          0.955056\n",
              "0.000398     8                          0.956522          0.955056\n",
              "             16                         0.956522          0.966292\n",
              "             32                         0.956522          0.955056\n",
              "0.001000     8                          0.913043          0.977528\n",
              "             16                         0.956522          0.977528\n",
              "             32                         0.956522          0.966292"
            ]
          },
          "metadata": {
            "tags": []
          },
          "execution_count": 6
        }
      ]
    },
    {
      "metadata": {
        "colab_type": "text",
        "id": "R6fl19kMBYog"
      },
      "cell_type": "markdown",
      "source": [
        "#### From the above, we can see that 16 and 32 hidden units perform ver similar, though 32 units with regularization of 1.58e-4 are the best combination of parameters:"
      ]
    },
    {
      "metadata": {
        "id": "bqeM0B_j6mb9",
        "colab_type": "code",
        "outputId": "71de640f-8327-4d1b-fe9c-8485829823d2",
        "colab": {
          "base_uri": "https://localhost:8080/",
          "height": 653
        }
      },
      "cell_type": "code",
      "source": [
        "print('\\nBest Parameters: \\n', grid.best_params_, '\\n\\n')\n",
        "\n",
        "results = pd.DataFrame(grid.cv_results_)\n",
        "results.pivot_table(index=[\"param_hidden_units\"],\n",
        "                values=[\"mean_test_score\"]).plot()\n",
        "\n",
        "results.pivot_table(index=[\"param_l2_reg\"],\n",
        "                values=[\"mean_test_score\"]).plot()"
      ],
      "execution_count": 0,
      "outputs": [
        {
          "output_type": "stream",
          "text": [
            "\n",
            "Best Parameters: \n",
            " {'hidden_units': 32, 'l2_reg': 0.00015848931924611142} \n",
            "\n",
            "\n"
          ],
          "name": "stdout"
        },
        {
          "output_type": "execute_result",
          "data": {
            "text/plain": [
              "<matplotlib.axes._subplots.AxesSubplot at 0x7fd529b045c0>"
            ]
          },
          "metadata": {
            "tags": []
          },
          "execution_count": 7
        },
        {
          "output_type": "display_data",
          "data": {
            "image/png": "[encoded data removed]",
            "text/plain": [
              "<Figure size 432x288 with 1 Axes>"
            ]
          },
          "metadata": {
            "tags": []
          }
        },
        {
          "output_type": "display_data",
          "data": {
            "image/png": "[encoded data removed]",
            "text/plain": [
              "<Figure size 432x288 with 1 Axes>"
            ]
          },
          "metadata": {
            "tags": []
          }
        }
      ]
    },
    {
      "metadata": {
        "id": "JiKOiFm_YMYF",
        "colab_type": "text"
      },
      "cell_type": "markdown",
      "source": [
        "#### Let's train our tuned model on the entire training set (including validation ) and evaluate it on an independent test-set:"
      ]
    },
    {
      "metadata": {
        "id": "lxfrd-Hq8P1I",
        "colab_type": "code",
        "outputId": "e91dcfd3-23fc-4da6-8c16-6427c6985fd6",
        "colab": {
          "base_uri": "https://localhost:8080/",
          "height": 102
        }
      },
      "cell_type": "code",
      "source": [
        "best_clf = grid.best_estimator_\n",
        "best_clf.fit(X_train, y_train)\n",
        "score = best_clf.score(X_test, y_test)\n",
        "print(\"\\nTest Accuracy: {:.3f}\".format(score))\n",
        "\n",
        "print('\\nNo. of training samples :', len(y_train), '\\nNo. of test samples :',\n",
        "      len(y_test))"
      ],
      "execution_count": 0,
      "outputs": [
        {
          "output_type": "stream",
          "text": [
            "\n",
            "Test Accuracy: 1.000\n",
            "\n",
            "No. of training samples : 112 \n",
            "No. of test samples : 38\n"
          ],
          "name": "stdout"
        }
      ]
    },
    {
      "metadata": {
        "id": "JEkxbuKBYMYL",
        "colab_type": "text"
      },
      "cell_type": "markdown",
      "source": [
        "#### We got a test accuraccy of 100%. Though we put apart 25% of the data for test, the dataset size is only 150 samples so the test set is just 38 samples. That may be the reason why we are getting 100% accuracy as it is a very small test set.\n",
        "<br><br><br>"
      ]
    },
    {
      "metadata": {
        "id": "3fYns7LhYMYP",
        "colab_type": "text"
      },
      "cell_type": "markdown",
      "source": [
        "## Task 2 - Multilayer perceptron on the Fashion MNIST dataset\n",
        "  \n",
        "Train a multilayer perceptron (fully connected) on the Fashion MNIST dataset using the traditional train/test split as given by fashion_mnist.load_data in keras. \n",
        "\n",
        "Use a separate 10000 samples (from the training set) for model selection and to compute learning curves (accuracy vs epochs, not vs n_samples). \n",
        "\n",
        "Compare a “vanilla” model with a model using drop-out (potentially a bigger model), and to a model using batch normalization and residual connections (but not dropout). Visualize learning curves for all models."
      ]
    },
    {
      "metadata": {
        "id": "Rh4ec3nrbSrG",
        "colab_type": "text"
      },
      "cell_type": "markdown",
      "source": [
        "#### From the keras datasets [documentation for Fashion-MINST](https://keras.io/datasets/#fashion-mnist-database-of-fashion-articles):\n",
        "\n",
        "\n",
        "#### Fashion-MNIST database of fashion articles\n",
        "\n",
        "Dataset of 60,000 28x28 grayscale images of 10 fashion categories, along with a test set of 10,000 images. This dataset can be used as a drop-in replacement for MNIST. \n",
        "\n",
        "**The class labels are:**\n",
        "\n",
        "Label\tDescription\n",
        "\n",
        "0. T-shirt/top\n",
        "1. Trouser\n",
        "2. Pullover\n",
        "3. Dress\n",
        "4. Coat\n",
        "5. Sandal\n",
        "6.\tShirt\n",
        "7.\tSneaker\n",
        "8.\tBag\n",
        "9.\tAnkle boot\n",
        "\n",
        "#### Usage:\n",
        "from keras.datasets import fashion_mnist\n",
        "\n",
        "(x_train, y_train), (x_test, y_test) = fashion_mnist.load_data()\n",
        "\n",
        "#### Returns:\n",
        "2 tuples:\n",
        "* x_train, x_test: uint8 array of grayscale image data with shape (num_samples, 28, 28).\n",
        "* y_train, y_test: uint8 array of labels (integers in range 0-9) with shape (num_samples,)."
      ]
    },
    {
      "metadata": {
        "id": "cd9_3gH0bagN",
        "colab_type": "text"
      },
      "cell_type": "markdown",
      "source": [
        "#### Let's download the data:"
      ]
    },
    {
      "metadata": {
        "colab_type": "code",
        "id": "yfCx0j21C9Ok",
        "outputId": "e9734dc8-2b2c-4df8-c324-8e2e8f31db2f",
        "colab": {
          "base_uri": "https://localhost:8080/",
          "height": 153
        }
      },
      "cell_type": "code",
      "source": [
        "(X_train, y_train), (X_test, y_test) = keras.datasets.fashion_mnist.load_data()"
      ],
      "execution_count": 0,
      "outputs": [
        {
          "output_type": "stream",
          "text": [
            "Downloading data from http://fashion-mnist.s3-website.eu-central-1.amazonaws.com/train-labels-idx1-ubyte.gz\n",
            "32768/29515 [=================================] - 0s 3us/step\n",
            "Downloading data from http://fashion-mnist.s3-website.eu-central-1.amazonaws.com/train-images-idx3-ubyte.gz\n",
            "26427392/26421880 [==============================] - 2s 0us/step\n",
            "Downloading data from http://fashion-mnist.s3-website.eu-central-1.amazonaws.com/t10k-labels-idx1-ubyte.gz\n",
            "8192/5148 [===============================================] - 0s 0us/step\n",
            "Downloading data from http://fashion-mnist.s3-website.eu-central-1.amazonaws.com/t10k-images-idx3-ubyte.gz\n",
            "4423680/4422102 [==============================] - 1s 0us/step\n"
          ],
          "name": "stdout"
        }
      ]
    },
    {
      "metadata": {
        "id": "urK6ej0xbku6",
        "colab_type": "code",
        "outputId": "bcb67320-2712-43b4-b1a6-0bef94ccad7f",
        "colab": {
          "base_uri": "https://localhost:8080/",
          "height": 119
        }
      },
      "cell_type": "code",
      "source": [
        "print('\\nTraining data shape: ', X_train.shape)\n",
        "print('Training labels shape: ', y_train.shape)\n",
        "print('\\nTest data shape: ', X_test.shape)\n",
        "print('Test labels shape: ', y_test.shape)"
      ],
      "execution_count": 0,
      "outputs": [
        {
          "output_type": "stream",
          "text": [
            "\n",
            "Training data shape:  (60000, 28, 28)\n",
            "Training labels shape:  (60000,)\n",
            "\n",
            "Test data shape:  (10000, 28, 28)\n",
            "Test labels shape:  (10000,)\n"
          ],
          "name": "stdout"
        }
      ]
    },
    {
      "metadata": {
        "id": "PrKPkc8Xbho6",
        "colab_type": "text"
      },
      "cell_type": "markdown",
      "source": [
        "#### Let's visualize a sample of the data:"
      ]
    },
    {
      "metadata": {
        "colab_type": "code",
        "id": "SujbyDAA70VP",
        "outputId": "66e9a90c-5595-466a-f356-403848b98825",
        "colab": {
          "base_uri": "https://localhost:8080/",
          "height": 499
        }
      },
      "cell_type": "code",
      "source": [
        "target_names = ['T-shirt/top', 'Trouser', 'Pullover', 'Dress', 'Coat',\n",
        "                 'Sandal', 'Shirt', 'Sneaker', 'Bag', 'Ankle boot']\n",
        "\n",
        "#We randomly choose 25 images from the train dataset.\n",
        "fig, axes1 = plt.subplots(5,5,figsize=(8,8))\n",
        "for j in range(5):\n",
        "    for k in range(5):\n",
        "        i = np.random.choice(range(len(X_train)))\n",
        "        axes1[j][k].set_axis_off()\n",
        "        axes1[j][k].imshow(X_train[i], cmap=\"gray\")\n",
        "        axes1[j][k].set_title(target_names[y_train[i]])"
      ],
      "execution_count": 0,
      "outputs": [
        {
          "output_type": "display_data",
          "data": {
            "image/png": "[encoded data removed]",
            "text/plain": [
              "<Figure size 576x576 with 25 Axes>"
            ]
          },
          "metadata": {
            "tags": []
          }
        }
      ]
    },
    {
      "metadata": {
        "id": "TTT0Jb37b2J7",
        "colab_type": "text"
      },
      "cell_type": "markdown",
      "source": [
        "#### Since we will be working with a fully connected MLP, we need to flatten the features.\n",
        "\n",
        "#### Let's flatten the features and one-hot-encode the targets:"
      ]
    },
    {
      "metadata": {
        "colab_type": "code",
        "id": "Barb6avR8nah",
        "outputId": "fdf0bbb4-7588-4a70-e3b2-a32296e5ddcc",
        "colab": {
          "base_uri": "https://localhost:8080/",
          "height": 153
        }
      },
      "cell_type": "code",
      "source": [
        "X_train = X_train.reshape(X_train.shape[0], 28 * 28)\n",
        "X_test = X_test.reshape(X_test.shape[0], 28 * 28)\n",
        "\n",
        "num_classes = len(target_names)\n",
        "\n",
        "y_train = keras.utils.to_categorical(y_train, num_classes)\n",
        "y_test = keras.utils.to_categorical(y_test, num_classes)\n",
        "\n",
        "print('\\nTraining data shape: ', X_train.shape)\n",
        "print('Training labels shape: ', y_train.shape)\n",
        "print('\\nTest data shape: ', X_test.shape)\n",
        "print('Test labels shape: ', y_test.shape)\n",
        "\n",
        "print('\\nTraining features scale: ', [np.min(X_train), np.max(X_train)])"
      ],
      "execution_count": 0,
      "outputs": [
        {
          "output_type": "stream",
          "text": [
            "\n",
            "Training data shape:  (60000, 784)\n",
            "Training labels shape:  (60000, 10)\n",
            "\n",
            "Test data shape:  (10000, 784)\n",
            "Test labels shape:  (10000, 10)\n",
            "\n",
            "Training features scale:  [0, 255]\n"
          ],
          "name": "stdout"
        }
      ]
    },
    {
      "metadata": {
        "id": "sUhdaPSQb9sF",
        "colab_type": "text"
      },
      "cell_type": "markdown",
      "source": [
        "#### As we can see above, the pixels are in [0, 255] scale. There is not need to normalize then, but let's just scale to [0, 1]:"
      ]
    },
    {
      "metadata": {
        "colab_type": "code",
        "id": "4QIiz8YV1cNH",
        "outputId": "e34b2b13-1d40-4b2c-b19b-f086063837ad",
        "colab": {
          "base_uri": "https://localhost:8080/",
          "height": 68
        }
      },
      "cell_type": "code",
      "source": [
        "X_train, X_test = X_train/255.0, X_test/255.0\n",
        "print('\\nTraining features scale: ', [np.min(X_train), np.max(X_train)])\n",
        "print('Test features scale: ', [np.min(X_test), np.max(X_test)])"
      ],
      "execution_count": 0,
      "outputs": [
        {
          "output_type": "stream",
          "text": [
            "\n",
            "Training features scale:  [0.0, 1.0]\n",
            "Test features scale:  [0.0, 1.0]\n"
          ],
          "name": "stdout"
        }
      ]
    },
    {
      "metadata": {
        "id": "X1vpNaglcMtc",
        "colab_type": "text"
      },
      "cell_type": "markdown",
      "source": [
        "#### Let's separate 10,000 samples (from the training set) as validation set to be used for model selection and to compute learning curves (accuracy vs epochs): "
      ]
    },
    {
      "metadata": {
        "id": "y5uSv0QWDknH",
        "colab_type": "code",
        "cellView": "both",
        "outputId": "d0505a4e-214b-451e-aa2a-a62460765947",
        "colab": {
          "base_uri": "https://localhost:8080/",
          "height": 85
        }
      },
      "cell_type": "code",
      "source": [
        "mask = np.random.permutation(X_train.shape[0])\n",
        "\n",
        "X_train = X_train[mask]\n",
        "y_train = y_train[mask]\n",
        "\n",
        "num_validation = 10000\n",
        "num_training = X_train.shape[0] - num_validation\n",
        "\n",
        "X_val = X_train[-num_validation:, :]\n",
        "y_val = y_train[-num_validation:]\n",
        "\n",
        "X_train = X_train[:num_training, :]\n",
        "y_train = y_train[:num_training]\n",
        "\n",
        "print('Train data shape: ', X_train.shape)\n",
        "print('Train labels shape: ', y_train.shape)\n",
        "print('Validation data shape: ', X_val.shape)\n",
        "print('Validation labels shape: ', y_val.shape)"
      ],
      "execution_count": 0,
      "outputs": [
        {
          "output_type": "stream",
          "text": [
            "Train data shape:  (50000, 784)\n",
            "Train labels shape:  (50000, 10)\n",
            "Validation data shape:  (10000, 784)\n",
            "Validation labels shape:  (10000, 10)\n"
          ],
          "name": "stdout"
        }
      ]
    },
    {
      "metadata": {
        "id": "JfwR4APOGXYx",
        "colab_type": "text"
      },
      "cell_type": "markdown",
      "source": [
        "#### As additional preprocessing: let's subtract the mean value across every dimension for training data:"
      ]
    },
    {
      "metadata": {
        "id": "m9ZDQeoFGYFI",
        "colab_type": "code",
        "outputId": "ab06e297-330a-4d8f-d08f-15ccbd8a9a22",
        "colab": {
          "base_uri": "https://localhost:8080/",
          "height": 85
        }
      },
      "cell_type": "code",
      "source": [
        "mean_image = np.mean(X_train, axis=0)\n",
        "X_train = X_train - mean_image\n",
        "X_val = X_val - mean_image\n",
        "X_test = X_test - mean_image\n",
        "\n",
        "num_features = X_train.shape[1]\n",
        "\n",
        "print('\\nTraining data shape: ', X_train.shape)\n",
        "print('Validation data shape: ', X_val.shape)\n",
        "print('Test data shape: ', X_test.shape)"
      ],
      "execution_count": 0,
      "outputs": [
        {
          "output_type": "stream",
          "text": [
            "\n",
            "Training data shape:  (50000, 784)\n",
            "Validation data shape:  (10000, 784)\n",
            "Test data shape:  (10000, 784)\n"
          ],
          "name": "stdout"
        }
      ]
    },
    {
      "metadata": {
        "id": "CVfrJAq5cVi0",
        "colab_type": "text"
      },
      "cell_type": "markdown",
      "source": [
        "### Let's build a baseline model: "
      ]
    },
    {
      "metadata": {
        "colab_type": "code",
        "id": "GN95Jk1sutJS",
        "outputId": "3bba77db-6f77-4739-cc0e-b95fd97c9421",
        "colab": {
          "base_uri": "https://localhost:8080/",
          "height": 238
        }
      },
      "cell_type": "code",
      "source": [
        "mlp = Sequential([\n",
        "    Dense(32, input_shape=(num_features,), activation='relu',\n",
        "         kernel_initializer = glorot_uniform(0)),\n",
        "    Dense(32, activation='relu',\n",
        "         kernel_initializer = glorot_uniform(0)),\n",
        "    Dense(num_classes, activation='softmax',\n",
        "         kernel_initializer = glorot_uniform(0))])\n",
        "mlp.compile(\"adam\", \"categorical_crossentropy\", metrics=['accuracy'])\n",
        "mlp.summary()"
      ],
      "execution_count": 0,
      "outputs": [
        {
          "output_type": "stream",
          "text": [
            "_________________________________________________________________\n",
            "Layer (type)                 Output Shape              Param #   \n",
            "=================================================================\n",
            "dense_61 (Dense)             (None, 32)                25120     \n",
            "_________________________________________________________________\n",
            "dense_62 (Dense)             (None, 32)                1056      \n",
            "_________________________________________________________________\n",
            "dense_63 (Dense)             (None, 10)                330       \n",
            "=================================================================\n",
            "Total params: 26,506\n",
            "Trainable params: 26,506\n",
            "Non-trainable params: 0\n",
            "_________________________________________________________________\n"
          ],
          "name": "stdout"
        }
      ]
    },
    {
      "metadata": {
        "colab_type": "text",
        "id": "uRzaB6S2lZtn"
      },
      "cell_type": "markdown",
      "source": [
        "#### Let's train and validate our baseline model:\n"
      ]
    },
    {
      "metadata": {
        "id": "T4oyAC7ycsww",
        "colab_type": "code",
        "outputId": "3c1a42a4-19c9-4448-cccd-0f4f69551432",
        "colab": {
          "base_uri": "https://localhost:8080/",
          "height": 813
        }
      },
      "cell_type": "code",
      "source": [
        "history_callback = mlp.fit(X_train, y_train, batch_size=16, epochs=15,\n",
        "                           shuffle=True, verbose=1,\n",
        "                           validation_data=(X_val, y_val))\n",
        "pd.DataFrame(history_callback.history).plot()"
      ],
      "execution_count": 0,
      "outputs": [
        {
          "output_type": "stream",
          "text": [
            "Train on 50000 samples, validate on 10000 samples\n",
            "Epoch 1/15\n",
            "50000/50000 [==============================] - 13s 267us/step - loss: 0.4811 - acc: 0.8271 - val_loss: 0.3881 - val_acc: 0.8626\n",
            "Epoch 2/15\n",
            "50000/50000 [==============================] - 12s 233us/step - loss: 0.3576 - acc: 0.8687 - val_loss: 0.3620 - val_acc: 0.8710\n",
            "Epoch 3/15\n",
            "50000/50000 [==============================] - 13s 263us/step - loss: 0.3284 - acc: 0.8788 - val_loss: 0.3640 - val_acc: 0.8698\n",
            "Epoch 4/15\n",
            "50000/50000 [==============================] - 12s 232us/step - loss: 0.3094 - acc: 0.8856 - val_loss: 0.3480 - val_acc: 0.8783\n",
            "Epoch 5/15\n",
            "50000/50000 [==============================] - 12s 232us/step - loss: 0.2928 - acc: 0.8909 - val_loss: 0.3479 - val_acc: 0.8754\n",
            "Epoch 6/15\n",
            "50000/50000 [==============================] - 12s 232us/step - loss: 0.2788 - acc: 0.8966 - val_loss: 0.3360 - val_acc: 0.8807\n",
            "Epoch 7/15\n",
            "50000/50000 [==============================] - 12s 232us/step - loss: 0.2672 - acc: 0.8999 - val_loss: 0.3295 - val_acc: 0.8854\n",
            "Epoch 8/15\n",
            "50000/50000 [==============================] - 13s 269us/step - loss: 0.2573 - acc: 0.9032 - val_loss: 0.3661 - val_acc: 0.8721\n",
            "Epoch 9/15\n",
            "50000/50000 [==============================] - 12s 245us/step - loss: 0.2492 - acc: 0.9075 - val_loss: 0.3618 - val_acc: 0.8749\n",
            "Epoch 10/15\n",
            "50000/50000 [==============================] - 12s 248us/step - loss: 0.2402 - acc: 0.9105 - val_loss: 0.3546 - val_acc: 0.8791\n",
            "Epoch 11/15\n",
            "50000/50000 [==============================] - 12s 231us/step - loss: 0.2343 - acc: 0.9126 - val_loss: 0.3557 - val_acc: 0.8797\n",
            "Epoch 12/15\n",
            "50000/50000 [==============================] - 12s 230us/step - loss: 0.2254 - acc: 0.9155 - val_loss: 0.3676 - val_acc: 0.8761\n",
            "Epoch 13/15\n",
            "50000/50000 [==============================] - 12s 231us/step - loss: 0.2224 - acc: 0.9167 - val_loss: 0.3748 - val_acc: 0.8788\n",
            "Epoch 14/15\n",
            "50000/50000 [==============================] - 12s 231us/step - loss: 0.2142 - acc: 0.9197 - val_loss: 0.3697 - val_acc: 0.8802\n",
            "Epoch 15/15\n",
            "50000/50000 [==============================] - 12s 231us/step - loss: 0.2103 - acc: 0.9212 - val_loss: 0.3678 - val_acc: 0.8805\n"
          ],
          "name": "stdout"
        },
        {
          "output_type": "execute_result",
          "data": {
            "text/plain": [
              "<matplotlib.axes._subplots.AxesSubplot at 0x7fd529c20048>"
            ]
          },
          "metadata": {
            "tags": []
          },
          "execution_count": 17
        },
        {
          "output_type": "display_data",
          "data": {
            "image/png": "[encoded data removed]",
            "text/plain": [
              "<Figure size 432x288 with 1 Axes>"
            ]
          },
          "metadata": {
            "tags": []
          }
        }
      ]
    },
    {
      "metadata": {
        "id": "lB5db8o5jMUG",
        "colab_type": "text"
      },
      "cell_type": "markdown",
      "source": [
        "### Let's build a model using drop-out (with number of units compensating dropout rate): "
      ]
    },
    {
      "metadata": {
        "id": "5ouiztcei4Gc",
        "colab_type": "code",
        "colab": {}
      },
      "cell_type": "code",
      "source": [
        "def make_sklearn_mlp(n_features, n_classes, keep=1):\n",
        "  drop = 1 - keep\n",
        "  mlp = Sequential([\n",
        "      Dense(int(32/keep), input_shape=(num_features,), activation='relu',\n",
        "           kernel_initializer = glorot_uniform(0)),\n",
        "      Dropout(drop, seed=0),\n",
        "      Dense(int(32/keep), activation='relu',\n",
        "           kernel_initializer = glorot_uniform(0)),\n",
        "      Dropout(drop, seed=0),\n",
        "      Dense(num_classes, activation='softmax',\n",
        "           kernel_initializer = glorot_uniform(0))])\n",
        "  mlp.compile(\"adam\", \"categorical_crossentropy\", metrics=['accuracy'])\n",
        "  return mlp"
      ],
      "execution_count": 0,
      "outputs": []
    },
    {
      "metadata": {
        "colab_type": "text",
        "id": "lVNmenfzlZty"
      },
      "cell_type": "markdown",
      "source": [
        "#### Let's try dropping out rate of 10% (keep 90%): "
      ]
    },
    {
      "metadata": {
        "colab_type": "code",
        "id": "SbMqfzu8lZtz",
        "outputId": "1cc60374-ee5d-40df-add9-bdc329090261",
        "colab": {
          "base_uri": "https://localhost:8080/",
          "height": 884
        }
      },
      "cell_type": "code",
      "source": [
        "clf = KerasClassifier(make_sklearn_mlp, n_features=num_features,\n",
        "                      n_classes=num_classes,  keep=0.9)\n",
        "\n",
        "history_callback = clf.fit(X_train, y_train, batch_size=16, epochs=15,\n",
        "                           shuffle=True, verbose=1,\n",
        "                           validation_data=(X_val, y_val))\n",
        "pd.DataFrame(history_callback.history).plot()"
      ],
      "execution_count": 0,
      "outputs": [
        {
          "output_type": "stream",
          "text": [
            "WARNING:tensorflow:From /usr/local/lib/python3.6/dist-packages/keras/backend/tensorflow_backend.py:3445: calling dropout (from tensorflow.python.ops.nn_ops) with keep_prob is deprecated and will be removed in a future version.\n",
            "Instructions for updating:\n",
            "Please use `rate` instead of `keep_prob`. Rate should be set to `rate = 1 - keep_prob`.\n",
            "Train on 50000 samples, validate on 10000 samples\n",
            "Epoch 1/15\n",
            "50000/50000 [==============================] - 15s 310us/step - loss: 0.5516 - acc: 0.8024 - val_loss: 0.3921 - val_acc: 0.8583\n",
            "Epoch 2/15\n",
            "50000/50000 [==============================] - 12s 240us/step - loss: 0.4141 - acc: 0.8508 - val_loss: 0.3708 - val_acc: 0.8682\n",
            "Epoch 3/15\n",
            "50000/50000 [==============================] - 12s 240us/step - loss: 0.3845 - acc: 0.8613 - val_loss: 0.3544 - val_acc: 0.8703\n",
            "Epoch 4/15\n",
            "50000/50000 [==============================] - 12s 238us/step - loss: 0.3592 - acc: 0.8686 - val_loss: 0.3350 - val_acc: 0.8754\n",
            "Epoch 5/15\n",
            "50000/50000 [==============================] - 12s 238us/step - loss: 0.3485 - acc: 0.8716 - val_loss: 0.3461 - val_acc: 0.8763\n",
            "Epoch 6/15\n",
            "50000/50000 [==============================] - 12s 245us/step - loss: 0.3329 - acc: 0.8767 - val_loss: 0.3485 - val_acc: 0.8749\n",
            "Epoch 7/15\n",
            "50000/50000 [==============================] - 13s 260us/step - loss: 0.3270 - acc: 0.8805 - val_loss: 0.3458 - val_acc: 0.8743\n",
            "Epoch 8/15\n",
            "50000/50000 [==============================] - 14s 272us/step - loss: 0.3189 - acc: 0.8818 - val_loss: 0.3425 - val_acc: 0.8732\n",
            "Epoch 9/15\n",
            "50000/50000 [==============================] - 12s 239us/step - loss: 0.3091 - acc: 0.8851 - val_loss: 0.3361 - val_acc: 0.8769\n",
            "Epoch 10/15\n",
            "50000/50000 [==============================] - 12s 239us/step - loss: 0.3058 - acc: 0.8856 - val_loss: 0.3268 - val_acc: 0.8809\n",
            "Epoch 11/15\n",
            "50000/50000 [==============================] - 12s 245us/step - loss: 0.2995 - acc: 0.8897 - val_loss: 0.3307 - val_acc: 0.8826\n",
            "Epoch 12/15\n",
            "50000/50000 [==============================] - 12s 250us/step - loss: 0.2937 - acc: 0.8898 - val_loss: 0.3284 - val_acc: 0.8832\n",
            "Epoch 13/15\n",
            "50000/50000 [==============================] - 13s 262us/step - loss: 0.2902 - acc: 0.8935 - val_loss: 0.3320 - val_acc: 0.8793\n",
            "Epoch 14/15\n",
            "50000/50000 [==============================] - 14s 272us/step - loss: 0.2847 - acc: 0.8945 - val_loss: 0.3281 - val_acc: 0.8834\n",
            "Epoch 15/15\n",
            "50000/50000 [==============================] - 12s 239us/step - loss: 0.2800 - acc: 0.8952 - val_loss: 0.3300 - val_acc: 0.8829\n"
          ],
          "name": "stdout"
        },
        {
          "output_type": "execute_result",
          "data": {
            "text/plain": [
              "<matplotlib.axes._subplots.AxesSubplot at 0x7fd5259ac0b8>"
            ]
          },
          "metadata": {
            "tags": []
          },
          "execution_count": 19
        },
        {
          "output_type": "display_data",
          "data": {
            "image/png": "[encoded data removed]",
            "text/plain": [
              "<Figure size 432x288 with 1 Axes>"
            ]
          },
          "metadata": {
            "tags": []
          }
        }
      ]
    },
    {
      "metadata": {
        "colab_type": "text",
        "id": "dZ_catGOlZt4"
      },
      "cell_type": "markdown",
      "source": [
        "#### Looking at the above results and learning curves, we can see that whithout dropout, our model was ovefitting but dropout of 10% helped to regularize our model and improved validation accuracy results.\n",
        "\n",
        "#### Let's now try dropping out rate of 30% (keep 70%): "
      ]
    },
    {
      "metadata": {
        "colab_type": "code",
        "id": "YJGhTBhQlZt6",
        "outputId": "822c2690-ff61-4d79-fc35-a3c14bc3687e",
        "colab": {
          "base_uri": "https://localhost:8080/",
          "height": 813
        }
      },
      "cell_type": "code",
      "source": [
        "clf = KerasClassifier(make_sklearn_mlp, n_features=num_features,\n",
        "                      n_classes=num_classes,  keep=0.7)\n",
        "\n",
        "history_callback = clf.fit(X_train, y_train, batch_size=16, epochs=15,\n",
        "                           shuffle=True, verbose=1,\n",
        "                           validation_data=(X_val, y_val))\n",
        "pd.DataFrame(history_callback.history).plot()\n"
      ],
      "execution_count": 0,
      "outputs": [
        {
          "output_type": "stream",
          "text": [
            "Train on 50000 samples, validate on 10000 samples\n",
            "Epoch 1/15\n",
            "50000/50000 [==============================] - 13s 270us/step - loss: 0.6635 - acc: 0.7647 - val_loss: 0.4138 - val_acc: 0.8513\n",
            "Epoch 2/15\n",
            "50000/50000 [==============================] - 12s 245us/step - loss: 0.4952 - acc: 0.8264 - val_loss: 0.3850 - val_acc: 0.8638\n",
            "Epoch 3/15\n",
            "50000/50000 [==============================] - 14s 271us/step - loss: 0.4577 - acc: 0.8381 - val_loss: 0.4014 - val_acc: 0.8559\n",
            "Epoch 4/15\n",
            "50000/50000 [==============================] - 12s 246us/step - loss: 0.4304 - acc: 0.8457 - val_loss: 0.3710 - val_acc: 0.8642\n",
            "Epoch 5/15\n",
            "50000/50000 [==============================] - 14s 271us/step - loss: 0.4154 - acc: 0.8495 - val_loss: 0.3760 - val_acc: 0.8635\n",
            "Epoch 6/15\n",
            "50000/50000 [==============================] - 12s 248us/step - loss: 0.4031 - acc: 0.8549 - val_loss: 0.3570 - val_acc: 0.8705\n",
            "Epoch 7/15\n",
            "50000/50000 [==============================] - 12s 246us/step - loss: 0.3976 - acc: 0.8581 - val_loss: 0.3619 - val_acc: 0.8715\n",
            "Epoch 8/15\n",
            "50000/50000 [==============================] - 12s 247us/step - loss: 0.3854 - acc: 0.8602 - val_loss: 0.3603 - val_acc: 0.8709\n",
            "Epoch 9/15\n",
            "50000/50000 [==============================] - 12s 248us/step - loss: 0.3793 - acc: 0.8642 - val_loss: 0.3563 - val_acc: 0.8708\n",
            "Epoch 10/15\n",
            "50000/50000 [==============================] - 12s 249us/step - loss: 0.3697 - acc: 0.8675 - val_loss: 0.3509 - val_acc: 0.8757\n",
            "Epoch 11/15\n",
            "50000/50000 [==============================] - 13s 258us/step - loss: 0.3640 - acc: 0.8678 - val_loss: 0.3615 - val_acc: 0.8689\n",
            "Epoch 12/15\n",
            "50000/50000 [==============================] - 13s 266us/step - loss: 0.3587 - acc: 0.8703 - val_loss: 0.3592 - val_acc: 0.8712\n",
            "Epoch 13/15\n",
            "50000/50000 [==============================] - 12s 250us/step - loss: 0.3525 - acc: 0.8723 - val_loss: 0.3621 - val_acc: 0.8667\n",
            "Epoch 14/15\n",
            "50000/50000 [==============================] - 12s 250us/step - loss: 0.3520 - acc: 0.8723 - val_loss: 0.3513 - val_acc: 0.8764\n",
            "Epoch 15/15\n",
            "50000/50000 [==============================] - 12s 248us/step - loss: 0.3491 - acc: 0.8740 - val_loss: 0.3572 - val_acc: 0.8682\n"
          ],
          "name": "stdout"
        },
        {
          "output_type": "execute_result",
          "data": {
            "text/plain": [
              "<matplotlib.axes._subplots.AxesSubplot at 0x7fd5253c1198>"
            ]
          },
          "metadata": {
            "tags": []
          },
          "execution_count": 20
        },
        {
          "output_type": "display_data",
          "data": {
            "image/png": "[encoded data removed]",
            "text/plain": [
              "<Figure size 432x288 with 1 Axes>"
            ]
          },
          "metadata": {
            "tags": []
          }
        }
      ]
    },
    {
      "metadata": {
        "colab_type": "text",
        "id": "DXpHgrjPlZuB"
      },
      "cell_type": "markdown",
      "source": [
        "#### As we can see, increasing the dropout rate from 10% to 30%, increases regularization effect but it decreases the validation accuracy / performance of our model."
      ]
    },
    {
      "metadata": {
        "id": "wJtFYOnJFc2j",
        "colab_type": "text"
      },
      "cell_type": "markdown",
      "source": [
        "\n",
        "\n",
        "### Let's build a model using batch-normalization: "
      ]
    },
    {
      "metadata": {
        "id": "79Ot5Egagejq",
        "colab_type": "code",
        "colab": {}
      },
      "cell_type": "code",
      "source": [
        "def make_sklearn_mlp(n_features, n_classes):\n",
        "  mlp = Sequential([\n",
        "      Dense(32, input_shape=(num_features,),\n",
        "            kernel_initializer = glorot_uniform(0)),\n",
        "      BatchNormalization(),\n",
        "      Activation('relu'),\n",
        "      Dense(32,\n",
        "            kernel_initializer = glorot_uniform(0)),\n",
        "      BatchNormalization(),\n",
        "      Activation('relu'),\n",
        "      Dense(num_classes, activation='softmax',\n",
        "           kernel_initializer = glorot_uniform(0))])\n",
        "  mlp.compile(\"adam\", \"categorical_crossentropy\", metrics=['accuracy'])\n",
        "  return mlp"
      ],
      "execution_count": 0,
      "outputs": []
    },
    {
      "metadata": {
        "colab_type": "text",
        "id": "LKixtJl4lZuJ"
      },
      "cell_type": "markdown",
      "source": [
        "#### Let's train and validate our batch-normalization model:"
      ]
    },
    {
      "metadata": {
        "colab_type": "code",
        "id": "9LRUxCKElZuJ",
        "outputId": "33024457-dd01-4b6d-d633-2472643c373d",
        "colab": {
          "base_uri": "https://localhost:8080/",
          "height": 813
        }
      },
      "cell_type": "code",
      "source": [
        "clf = KerasClassifier(make_sklearn_mlp, n_features=num_features,\n",
        "                      n_classes=num_classes)\n",
        "\n",
        "history_callback = clf.fit(X_train, y_train, batch_size=16, epochs=15,\n",
        "                           shuffle=True, verbose=1,\n",
        "                           validation_data=(X_val, y_val))\n",
        "pd.DataFrame(history_callback.history).plot()"
      ],
      "execution_count": 0,
      "outputs": [
        {
          "output_type": "stream",
          "text": [
            "Train on 50000 samples, validate on 10000 samples\n",
            "Epoch 1/15\n",
            "50000/50000 [==============================] - 22s 430us/step - loss: 0.5931 - acc: 0.7975 - val_loss: 0.4120 - val_acc: 0.8505\n",
            "Epoch 2/15\n",
            "50000/50000 [==============================] - 20s 404us/step - loss: 0.4439 - acc: 0.8438 - val_loss: 0.3700 - val_acc: 0.8673\n",
            "Epoch 3/15\n",
            "50000/50000 [==============================] - 19s 388us/step - loss: 0.4114 - acc: 0.8513 - val_loss: 0.3792 - val_acc: 0.8594\n",
            "Epoch 4/15\n",
            "50000/50000 [==============================] - 21s 417us/step - loss: 0.3883 - acc: 0.8587 - val_loss: 0.3521 - val_acc: 0.8722\n",
            "Epoch 5/15\n",
            "50000/50000 [==============================] - 20s 391us/step - loss: 0.3743 - acc: 0.8649 - val_loss: 0.3417 - val_acc: 0.8773\n",
            "Epoch 6/15\n",
            "50000/50000 [==============================] - 21s 422us/step - loss: 0.3614 - acc: 0.8691 - val_loss: 0.3357 - val_acc: 0.8816\n",
            "Epoch 7/15\n",
            "50000/50000 [==============================] - 19s 387us/step - loss: 0.3542 - acc: 0.8726 - val_loss: 0.3386 - val_acc: 0.8772\n",
            "Epoch 8/15\n",
            "50000/50000 [==============================] - 21s 417us/step - loss: 0.3441 - acc: 0.8743 - val_loss: 0.3418 - val_acc: 0.8775\n",
            "Epoch 9/15\n",
            "50000/50000 [==============================] - 19s 388us/step - loss: 0.3377 - acc: 0.8748 - val_loss: 0.3234 - val_acc: 0.8832\n",
            "Epoch 10/15\n",
            "50000/50000 [==============================] - 19s 388us/step - loss: 0.3315 - acc: 0.8784 - val_loss: 0.3396 - val_acc: 0.8786\n",
            "Epoch 11/15\n",
            "50000/50000 [==============================] - 19s 389us/step - loss: 0.3198 - acc: 0.8809 - val_loss: 0.3278 - val_acc: 0.8818\n",
            "Epoch 12/15\n",
            "50000/50000 [==============================] - 21s 420us/step - loss: 0.3217 - acc: 0.8812 - val_loss: 0.3366 - val_acc: 0.8803\n",
            "Epoch 13/15\n",
            "50000/50000 [==============================] - 19s 390us/step - loss: 0.3139 - acc: 0.8849 - val_loss: 0.3271 - val_acc: 0.8823\n",
            "Epoch 14/15\n",
            "50000/50000 [==============================] - 19s 390us/step - loss: 0.3104 - acc: 0.8845 - val_loss: 0.3260 - val_acc: 0.8842\n",
            "Epoch 15/15\n",
            "50000/50000 [==============================] - 19s 389us/step - loss: 0.3071 - acc: 0.8875 - val_loss: 0.3259 - val_acc: 0.8830\n"
          ],
          "name": "stdout"
        },
        {
          "output_type": "execute_result",
          "data": {
            "text/plain": [
              "<matplotlib.axes._subplots.AxesSubplot at 0x7fd523d38978>"
            ]
          },
          "metadata": {
            "tags": []
          },
          "execution_count": 24
        },
        {
          "output_type": "display_data",
          "data": {
            "image/png": "[encoded data removed]",
            "text/plain": [
              "<Figure size 432x288 with 1 Axes>"
            ]
          },
          "metadata": {
            "tags": []
          }
        }
      ]
    },
    {
      "metadata": {
        "colab_type": "text",
        "id": "lCKCEEqTlZuQ"
      },
      "cell_type": "markdown",
      "source": [
        "#### Looking at the above results and learning curves, we can see that, similarly to using dropout, batch-normalization helped to regularize our model and improved validation accuracy results."
      ]
    },
    {
      "metadata": {
        "id": "eENrKq5OkjVw",
        "colab_type": "text"
      },
      "cell_type": "markdown",
      "source": [
        "### Let's build a model using residual connections:"
      ]
    },
    {
      "metadata": {
        "colab_type": "code",
        "id": "ZBNo831RlZuR",
        "colab": {}
      },
      "cell_type": "code",
      "source": [
        " def make_sklearn_mlp(n_features, n_classes):\n",
        "  mlp = Sequential([\n",
        "      Dense(32, input_shape=(num_features,),\n",
        "            kernel_initializer = glorot_uniform(0)),\n",
        "      BatchNormalization(),\n",
        "      Activation('relu'),\n",
        "      Dense(32,\n",
        "            kernel_initializer = glorot_uniform(0)),\n",
        "      BatchNormalization(),\n",
        "      Activation('relu'),\n",
        "      Dense(num_classes, activation='softmax',\n",
        "           kernel_initializer = glorot_uniform(0))])\n",
        "  mlp.compile(\"adam\", \"categorical_crossentropy\", metrics=['accuracy'])\n",
        "  return mlp"
      ],
      "execution_count": 0,
      "outputs": []
    },
    {
      "metadata": {
        "id": "Jy3wMKS6qmKv",
        "colab_type": "text"
      },
      "cell_type": "markdown",
      "source": [
        "#### Some text here:"
      ]
    },
    {
      "metadata": {
        "id": "bYIJNmXLKe4I",
        "colab_type": "code",
        "colab": {}
      },
      "cell_type": "code",
      "source": [
        "clf = KerasClassifier(make_sklearn_mlp, n_features=num_features,\n",
        "                      n_classes=num_classes)\n",
        "\n",
        "history_callback = clf.fit(X_train, y_train, batch_size=16, epochs=15,\n",
        "                           shuffle=True, verbose=1,\n",
        "                           validation_data=(X_val, y_val))\n",
        "pd.DataFrame(history_callback.history).plot()"
      ],
      "execution_count": 0,
      "outputs": []
    },
    {
      "metadata": {
        "colab_type": "text",
        "id": "lEbodXgUlZuU"
      },
      "cell_type": "markdown",
      "source": [
        "<h2> Task 3 - Train a convolutional neural network\n",
        "  \n",
        " <h3>  Let's perform all necessary steps to download the dataset from Kaggle into Google's Colab, using Kaggle CLI:"
      ]
    },
    {
      "metadata": {
        "id": "z7QVWDxlVkCj",
        "colab_type": "code",
        "outputId": "154b2d5a-8bca-4fd1-c392-40aa4b4ddc06",
        "colab": {
          "base_uri": "https://localhost:8080/",
          "height": 204
        }
      },
      "cell_type": "code",
      "source": [
        "# Install Kaggle CLI:\n",
        "!pip install kaggle"
      ],
      "execution_count": 0,
      "outputs": [
        {
          "output_type": "stream",
          "text": [
            "Requirement already satisfied: kaggle in /usr/local/lib/python3.6/dist-packages (1.5.3)\n",
            "Requirement already satisfied: urllib3<1.25,>=1.21.1 in /usr/local/lib/python3.6/dist-packages (from kaggle) (1.22)\n",
            "Requirement already satisfied: six>=1.10 in /usr/local/lib/python3.6/dist-packages (from kaggle) (1.11.0)\n",
            "Requirement already satisfied: certifi in /usr/local/lib/python3.6/dist-packages (from kaggle) (2019.3.9)\n",
            "Requirement already satisfied: python-dateutil in /usr/local/lib/python3.6/dist-packages (from kaggle) (2.5.3)\n",
            "Requirement already satisfied: requests in /usr/local/lib/python3.6/dist-packages (from kaggle) (2.18.4)\n",
            "Requirement already satisfied: tqdm in /usr/local/lib/python3.6/dist-packages (from kaggle) (4.28.1)\n",
            "Requirement already satisfied: python-slugify in /usr/local/lib/python3.6/dist-packages (from kaggle) (3.0.2)\n",
            "Requirement already satisfied: chardet<3.1.0,>=3.0.2 in /usr/local/lib/python3.6/dist-packages (from requests->kaggle) (3.0.4)\n",
            "Requirement already satisfied: idna<2.7,>=2.5 in /usr/local/lib/python3.6/dist-packages (from requests->kaggle) (2.6)\n",
            "Requirement already satisfied: text-unidecode==1.2 in /usr/local/lib/python3.6/dist-packages (from python-slugify->kaggle) (1.2)\n"
          ],
          "name": "stdout"
        }
      ]
    },
    {
      "metadata": {
        "id": "v_pVBI7IVOMA",
        "colab_type": "code",
        "outputId": "dcd59be6-fd4a-4d16-ffaf-4c8f38470a3c",
        "colab": {
          "base_uri": "https://localhost:8080/",
          "height": 34
        }
      },
      "cell_type": "code",
      "source": [
        "# Authorize Colab to access Kagle by importing kaggle.json from google drive:\n",
        "# This snippet will output a link which needs authentication from google account\n",
        "from googleapiclient.discovery import build\n",
        "import io, os\n",
        "from googleapiclient.http import MediaIoBaseDownload\n",
        "from google.colab import auth\n",
        "auth.authenticate_user()\n",
        "drive_service = build('drive', 'v3')\n",
        "results = drive_service.files().list(\n",
        "        q=\"name = 'kaggle.json'\", fields=\"files(id)\").execute()\n",
        "kaggle_api_key = results.get('files', [])\n",
        "filename = \"/root/.kaggle/kaggle.json\"\n",
        "os.makedirs(os.path.dirname(filename), exist_ok=True)\n",
        "request = drive_service.files().get_media(fileId=kaggle_api_key[0]['id'])\n",
        "fh = io.FileIO(filename, 'wb')\n",
        "downloader = MediaIoBaseDownload(fh, request)\n",
        "done = False\n",
        "while done is False:\n",
        "    status, done = downloader.next_chunk()\n",
        "    print(\"Download %d%%.\" % int(status.progress() * 100))\n",
        "os.chmod(filename, 600)"
      ],
      "execution_count": 0,
      "outputs": [
        {
          "output_type": "stream",
          "text": [
            "Download 100%.\n"
          ],
          "name": "stdout"
        }
      ]
    },
    {
      "metadata": {
        "id": "rSC8e_WBoNTk",
        "colab_type": "text"
      },
      "cell_type": "markdown",
      "source": [
        "#### List all Kaggle datasets with the keyword 'Histopathology':"
      ]
    },
    {
      "metadata": {
        "id": "yb1aS0uDcCq-",
        "colab_type": "code",
        "outputId": "56b51630-2630-467e-c0f0-6ede55dac3d3",
        "colab": {
          "base_uri": "https://localhost:8080/",
          "height": 119
        }
      },
      "cell_type": "code",
      "source": [
        "!kaggle datasets list -s Histopathology"
      ],
      "execution_count": 0,
      "outputs": [
        {
          "output_type": "stream",
          "text": [
            "ref                                             title                            size  lastUpdated          downloadCount  \n",
            "----------------------------------------------  -------------------------------  ----  -------------------  -------------  \n",
            "paultimothymooney/breast-histopathology-images  Breast Histopathology Images      1GB  2017-12-19 05:46:40           4316  \n",
            "kmader/skin-cancer-mnist-ham10000               Skin Cancer MNIST: HAM10000       3GB  2018-09-20 20:36:13           7667  \n",
            "tywangty/histopathologiccancerwsi               histopathologic-cancer-WSI        5MB  2019-03-14 13:21:16             27  \n",
            "discdiver/mnist1000-with-one-image-folder       MNIST1000_with_one_image_folder   3GB  2019-03-20 17:30:54             27  \n"
          ],
          "name": "stdout"
        }
      ]
    },
    {
      "metadata": {
        "id": "NTxor_QXoe6-",
        "colab_type": "text"
      },
      "cell_type": "markdown",
      "source": [
        "#### Download the dataset to Google's Colab:"
      ]
    },
    {
      "metadata": {
        "id": "pcHgdj0xdd0i",
        "colab_type": "code",
        "outputId": "4dfa1ba8-a09d-43bc-d97d-be7019823325",
        "colab": {
          "base_uri": "https://localhost:8080/",
          "height": 68
        }
      },
      "cell_type": "code",
      "source": [
        "!kaggle datasets download -d paultimothymooney/breast-histopathology-images"
      ],
      "execution_count": 0,
      "outputs": [
        {
          "output_type": "stream",
          "text": [
            "Downloading breast-histopathology-images.zip to /content\n",
            " 98% 1.47G/1.49G [00:13<00:00, 129MB/s]\n",
            "100% 1.49G/1.49G [00:13<00:00, 119MB/s]\n"
          ],
          "name": "stdout"
        }
      ]
    },
    {
      "metadata": {
        "id": "aLI6c-9Fo2q9",
        "colab_type": "text"
      },
      "cell_type": "markdown",
      "source": [
        "#### Let's check the name of the dowloaded file:"
      ]
    },
    {
      "metadata": {
        "id": "3WcImvwSeolh",
        "colab_type": "code",
        "outputId": "d6e50fec-34b3-495c-d3f7-4af4980f11e1",
        "colab": {
          "base_uri": "https://localhost:8080/",
          "height": 119
        }
      },
      "cell_type": "code",
      "source": [
        "#import os\n",
        "\n",
        "os.listdir()"
      ],
      "execution_count": 0,
      "outputs": [
        {
          "output_type": "execute_result",
          "data": {
            "text/plain": [
              "['.config',\n",
              " 'adc.json',\n",
              " 'data',\n",
              " 'IDC_regular_ps50_idx5.zip',\n",
              " 'breast-histopathology-images.zip',\n",
              " 'sample_data']"
            ]
          },
          "metadata": {
            "tags": []
          },
          "execution_count": 2
        }
      ]
    },
    {
      "metadata": {
        "id": "DMqDHW32pDcJ",
        "colab_type": "text"
      },
      "cell_type": "markdown",
      "source": [
        "#### Let's unzip 'breast-histopathology-images.zip' and check unzipped files:"
      ]
    },
    {
      "metadata": {
        "id": "1Grol061gvXK",
        "colab_type": "code",
        "outputId": "af003b1b-b5d1-44dd-b3d7-b1284d034bee",
        "colab": {
          "base_uri": "https://localhost:8080/",
          "height": 34
        }
      },
      "cell_type": "code",
      "source": [
        "!unzip breast-histopathology-images.zip\n",
        "os.remove('breast-histopathology-images.zip')\n",
        "os.listdir()"
      ],
      "execution_count": 0,
      "outputs": [
        {
          "output_type": "execute_result",
          "data": {
            "text/plain": [
              "['.config', 'adc.json', 'data', 'IDC_regular_ps50_idx5.zip', 'sample_data']"
            ]
          },
          "metadata": {
            "tags": []
          },
          "execution_count": 3
        }
      ]
    },
    {
      "metadata": {
        "id": "390UJvVZpR_W",
        "colab_type": "text"
      },
      "cell_type": "markdown",
      "source": [
        "#### Let's unzip 'IDC_regular_ps50_idx5.zip' into a folder named 'data':"
      ]
    },
    {
      "metadata": {
        "id": "nwvDHf0LkGdl",
        "colab_type": "code",
        "outputId": "f6880362-3494-4b90-de98-871e196fa3da",
        "colab": {
          "base_uri": "https://localhost:8080/",
          "height": 34
        }
      },
      "cell_type": "code",
      "source": [
        "#from zipfile import ZipFile \n",
        "  \n",
        "file_name = 'IDC_regular_ps50_idx5.zip'\n",
        "with ZipFile(file_name, 'r') as zip: \n",
        "    print('Unzipping...') \n",
        "    zip.extractall('data') \n",
        "    print('Done Unzipping!') \n",
        "os.remove('IDC_regular_ps50_idx5.zip')\n",
        "os.listdir()"
      ],
      "execution_count": 0,
      "outputs": [
        {
          "output_type": "execute_result",
          "data": {
            "text/plain": [
              "['.config', 'adc.json', 'data', 'sample_data']"
            ]
          },
          "metadata": {
            "tags": []
          },
          "execution_count": 5
        }
      ]
    },
    {
      "metadata": {
        "id": "p2bCOUb_pvHM",
        "colab_type": "text"
      },
      "cell_type": "markdown",
      "source": [
        "#### Let's check the content of the 'data' Dir: "
      ]
    },
    {
      "metadata": {
        "id": "9maGblfxhaty",
        "colab_type": "code",
        "outputId": "7cfa7d7a-36c7-4a98-ee44-1cf37ab9e122",
        "colab": {
          "base_uri": "https://localhost:8080/",
          "height": 4760
        }
      },
      "cell_type": "code",
      "source": [
        "os.listdir('./data')"
      ],
      "execution_count": 0,
      "outputs": [
        {
          "output_type": "execute_result",
          "data": {
            "text/plain": [
              "['12810',\n",
              " '9076',\n",
              " '8956',\n",
              " '9178',\n",
              " '8959',\n",
              " '12951',\n",
              " '10259',\n",
              " '14191',\n",
              " '12869',\n",
              " '9291',\n",
              " '12894',\n",
              " '12934',\n",
              " '12626',\n",
              " '14211',\n",
              " '14154',\n",
              " '14212',\n",
              " '12892',\n",
              " '10293',\n",
              " '14189',\n",
              " '9383',\n",
              " '9228',\n",
              " '9125',\n",
              " '9175',\n",
              " '13616',\n",
              " '15839',\n",
              " '15634',\n",
              " '16569',\n",
              " '10286',\n",
              " '9257',\n",
              " '10253',\n",
              " '16552',\n",
              " '9258',\n",
              " '12820',\n",
              " '13591',\n",
              " '15513',\n",
              " '16568',\n",
              " '14305',\n",
              " '13693',\n",
              " '9075',\n",
              " '9266',\n",
              " '14082',\n",
              " '9181',\n",
              " '16895',\n",
              " '14081',\n",
              " '12881',\n",
              " '14192',\n",
              " '15472',\n",
              " '8863',\n",
              " '12954',\n",
              " '9174',\n",
              " '8975',\n",
              " '12891',\n",
              " '10306',\n",
              " '12752',\n",
              " '13403',\n",
              " '12900',\n",
              " '10268',\n",
              " '8957',\n",
              " '10257',\n",
              " '9177',\n",
              " '12821',\n",
              " '13402',\n",
              " '9225',\n",
              " '9262',\n",
              " '13025',\n",
              " '9035',\n",
              " '8865',\n",
              " '13694',\n",
              " '9254',\n",
              " '10305',\n",
              " '9227',\n",
              " '15632',\n",
              " '12811',\n",
              " '9173',\n",
              " '8864',\n",
              " '8918',\n",
              " '12907',\n",
              " '12884',\n",
              " '8951',\n",
              " '10282',\n",
              " '10307',\n",
              " '10308',\n",
              " '10261',\n",
              " '16555',\n",
              " '10295',\n",
              " '16014',\n",
              " '10290',\n",
              " '9261',\n",
              " '12905',\n",
              " '14078',\n",
              " '10260',\n",
              " '10302',\n",
              " '13458',\n",
              " '14321',\n",
              " '12890',\n",
              " '15633',\n",
              " '12819',\n",
              " '9073',\n",
              " '8913',\n",
              " '13106',\n",
              " '13691',\n",
              " '8950',\n",
              " '14156',\n",
              " '12875',\n",
              " '9260',\n",
              " '16554',\n",
              " '13459',\n",
              " '9036',\n",
              " '12750',\n",
              " '12896',\n",
              " '16166',\n",
              " '10255',\n",
              " '10254',\n",
              " '8955',\n",
              " '9135',\n",
              " '15840',\n",
              " '12871',\n",
              " '12826',\n",
              " '13688',\n",
              " '12955',\n",
              " '8914',\n",
              " '13019',\n",
              " '12241',\n",
              " '13023',\n",
              " '12242',\n",
              " '12948',\n",
              " '12949',\n",
              " '9077',\n",
              " '13916',\n",
              " '16551',\n",
              " '10285',\n",
              " '12901',\n",
              " '9044',\n",
              " '14079',\n",
              " '9346',\n",
              " '9381',\n",
              " '13617',\n",
              " '10299',\n",
              " '9323',\n",
              " '12873',\n",
              " '15473',\n",
              " '13666',\n",
              " '16533',\n",
              " '14188',\n",
              " '12877',\n",
              " '15512',\n",
              " '14209',\n",
              " '13404',\n",
              " '12876',\n",
              " '13460',\n",
              " '9265',\n",
              " '12749',\n",
              " '15471',\n",
              " '12931',\n",
              " '9325',\n",
              " '9255',\n",
              " '14210',\n",
              " '10258',\n",
              " '12930',\n",
              " '12886',\n",
              " '9226',\n",
              " '16896',\n",
              " '10300',\n",
              " '16550',\n",
              " '12897',\n",
              " '12947',\n",
              " '12895',\n",
              " '12893',\n",
              " '12817',\n",
              " '9319',\n",
              " '12823',\n",
              " '10275',\n",
              " '13024',\n",
              " '12818',\n",
              " '12748',\n",
              " '8984',\n",
              " '12910',\n",
              " '9322',\n",
              " '9029',\n",
              " '8916',\n",
              " '14304',\n",
              " '9022',\n",
              " '16085',\n",
              " '16165',\n",
              " '12933',\n",
              " '16531',\n",
              " '14190',\n",
              " '10269',\n",
              " '12872',\n",
              " '8867',\n",
              " '10301',\n",
              " '12906',\n",
              " '13692',\n",
              " '9324',\n",
              " '10274',\n",
              " '12822',\n",
              " '15516',\n",
              " '12882',\n",
              " '16532',\n",
              " '13021',\n",
              " '12908',\n",
              " '10288',\n",
              " '10276',\n",
              " '9176',\n",
              " '12879',\n",
              " '16167',\n",
              " '9037',\n",
              " '10277',\n",
              " '13022',\n",
              " '15510',\n",
              " '15515',\n",
              " '13613',\n",
              " '9078',\n",
              " '14155',\n",
              " '12932',\n",
              " '9256',\n",
              " '8980',\n",
              " '9083',\n",
              " '10303',\n",
              " '9321',\n",
              " '10256',\n",
              " '14306',\n",
              " '12911',\n",
              " '13689',\n",
              " '12929',\n",
              " '9347',\n",
              " '9023',\n",
              " '12751',\n",
              " '10292',\n",
              " '9320',\n",
              " '12878',\n",
              " '9250',\n",
              " '9123',\n",
              " '14153',\n",
              " '10272',\n",
              " '9259',\n",
              " '9290',\n",
              " '13462',\n",
              " '9126',\n",
              " '10262',\n",
              " '9041',\n",
              " '12867',\n",
              " '12898',\n",
              " '9345',\n",
              " '13018',\n",
              " '13400',\n",
              " '12883',\n",
              " '9081',\n",
              " '14213',\n",
              " '9267',\n",
              " '8917',\n",
              " '12880',\n",
              " '15514',\n",
              " '10278',\n",
              " '13020',\n",
              " '13461',\n",
              " '15902',\n",
              " '9124',\n",
              " '16570',\n",
              " '10291',\n",
              " '9382',\n",
              " '8974',\n",
              " '10279',\n",
              " '9043',\n",
              " '16534',\n",
              " '12935',\n",
              " '9344',\n",
              " '13401',\n",
              " '16553',\n",
              " '12824',\n",
              " '14157',\n",
              " '10304',\n",
              " '12868',\n",
              " '10264',\n",
              " '10273',\n",
              " '15903',\n",
              " '13687',\n",
              " '12909',\n",
              " '12870']"
            ]
          },
          "metadata": {
            "tags": []
          },
          "execution_count": 7
        }
      ]
    },
    {
      "metadata": {
        "id": "vr3o8eX1rp6K",
        "colab_type": "text"
      },
      "cell_type": "markdown",
      "source": [
        "#### There are several folders which, according to the metadata, each folder would correspond to a patient ID.\n",
        "\n",
        "#### Inside each patient ID's folder, there are 2 sub-folders named '0'  and '1', where '0' stores the images with no IDC (I'nvasive Ductal Carcinoma' breast cancer) and '1' stores images with IDC:"
      ]
    },
    {
      "metadata": {
        "id": "i8z8xVqOhd8a",
        "colab_type": "code",
        "outputId": "b3a451e0-15a0-48d4-eaf4-d0bb3ce70511",
        "colab": {
          "base_uri": "https://localhost:8080/",
          "height": 34
        }
      },
      "cell_type": "code",
      "source": [
        "os.listdir('./data/12810')"
      ],
      "execution_count": 0,
      "outputs": [
        {
          "output_type": "execute_result",
          "data": {
            "text/plain": [
              "['1', '0']"
            ]
          },
          "metadata": {
            "tags": []
          },
          "execution_count": 10
        }
      ]
    },
    {
      "metadata": {
        "id": "QVMX0NUJu24v",
        "colab_type": "code",
        "outputId": "cfa685a6-b451-4587-f229-e9b6416ce835",
        "colab": {
          "base_uri": "https://localhost:8080/",
          "height": 255
        }
      },
      "cell_type": "code",
      "source": [
        "print('\\nFirst five (5) non-IDC images for patient ID ¨12810¨:')\n",
        "for img in os.listdir('./data/12810/0')[:5]:\n",
        "  print('  *', img)\n",
        "\n",
        "print('\\nFirst five (5) IDC images for patient ID ¨12810¨:')\n",
        "for img in os.listdir('./data/12810/1')[:5]:\n",
        "  print('  *', img)"
      ],
      "execution_count": 0,
      "outputs": [
        {
          "output_type": "stream",
          "text": [
            "\n",
            "First five (5) non-IDC images for patient ID ¨12810¨:\n",
            "  * 12810_idx5_x1751_y451_class0.png\n",
            "  * 12810_idx5_x2901_y2951_class0.png\n",
            "  * 12810_idx5_x1451_y751_class0.png\n",
            "  * 12810_idx5_x1151_y401_class0.png\n",
            "  * 12810_idx5_x1101_y2551_class0.png\n",
            "\n",
            "First five (5) IDC images for patient ID ¨12810¨:\n",
            "  * 12810_idx5_x1701_y901_class1.png\n",
            "  * 12810_idx5_x2001_y1051_class1.png\n",
            "  * 12810_idx5_x1351_y801_class1.png\n",
            "  * 12810_idx5_x1901_y1151_class1.png\n",
            "  * 12810_idx5_x1101_y1001_class1.png\n"
          ],
          "name": "stdout"
        }
      ]
    },
    {
      "metadata": {
        "id": "ttG1zvfVu1qg",
        "colab_type": "text"
      },
      "cell_type": "markdown",
      "source": [
        ""
      ]
    },
    {
      "metadata": {
        "id": "rzylT5dK_0tq",
        "colab_type": "code",
        "outputId": "f03373f2-d937-4ad8-882c-f0f14b1caabc",
        "colab": {
          "base_uri": "https://localhost:8080/",
          "height": 51
        }
      },
      "cell_type": "code",
      "source": [
        "from urllib.request import urlretrieve\n",
        "import os\n",
        "\n",
        "def download(url, file):\n",
        "    if not os.path.isfile(file):\n",
        "        print(\"Download file... \" + file + \" ...\")\n",
        "        urlretrieve(url,file)\n",
        "        print(\"File downloaded\")\n",
        "\n",
        "download('https://www.kaggle.com/paultimothymooney/breast-histopathology-images/downloads/breast-histopathology-images.zip/1','breast_cancer2.zip')\n",
        "\n",
        "try:\n",
        "  os.system('7z x breast_cancer.zip')\n",
        "except Exception as e:\n",
        "  print(e)"
      ],
      "execution_count": 0,
      "outputs": [
        {
          "output_type": "stream",
          "text": [
            "Download file... breast_cancer2.zip ...\n",
            "File downloaded\n"
          ],
          "name": "stdout"
        }
      ]
    },
    {
      "metadata": {
        "id": "xYztO_00Jg-n",
        "colab_type": "code",
        "outputId": "7a89a12c-8c6c-47ca-c97a-0dfcbf8c5a02",
        "colab": {
          "base_uri": "https://localhost:8080/",
          "height": 374
        }
      },
      "cell_type": "code",
      "source": [
        "try:\n",
        "  !7z e breast_cancer.zip\n",
        "  print('unnzipped')\n",
        "  \n",
        "except Exception as e:\n",
        "  print(e)"
      ],
      "execution_count": 0,
      "outputs": [
        {
          "output_type": "stream",
          "text": [
            "\n",
            "7-Zip [64] 16.02 : Copyright (c) 1999-2016 Igor Pavlov : 2016-05-21\n",
            "p7zip Version 16.02 (locale=en_US.UTF-8,Utf16=on,HugeFiles=on,64 bits,2 CPUs Intel(R) Xeon(R) CPU @ 2.30GHz (306F0),ASM,AES-NI)\n",
            "\n",
            "Scanning the drive for archives:\n",
            "  0M Scan\b\b\b\b\b\b\b\b\b         \b\b\b\b\b\b\b\b\b1 file, 8543 bytes (9 KiB)\n",
            "\n",
            "Extracting archive: breast_cancer.zip\n",
            "ERROR: breast_cancer.zip\n",
            "breast_cancer.zip\n",
            "Open ERROR: Can not open the file as [zip] archive\n",
            "\n",
            "\n",
            "ERRORS:\n",
            "Is not archive\n",
            "  0%\b\b\b\b    \b\b\b\b\n",
            "Can't open as archive: 1\n",
            "Files: 0\n",
            "Size:       0\n",
            "Compressed: 0\n",
            "unnzipped\n"
          ],
          "name": "stdout"
        }
      ]
    },
    {
      "metadata": {
        "colab_type": "text",
        "id": "X51z0cw3lZuc"
      },
      "cell_type": "markdown",
      "source": [
        "#### Let's plot to see if there is any visually preceptible one-to-one relationship between the target and the newly derived features:"
      ]
    },
    {
      "metadata": {
        "colab_type": "code",
        "id": "4lE0xRUklZud",
        "outputId": "e594f6f9-b7a1-4b3e-ca6e-8ef93c2c1a06",
        "colab": {
          "base_uri": "https://localhost:8080/",
          "height": 34
        }
      },
      "cell_type": "code",
      "source": [
        "os.system( '7z x breast_cancer.zip -oPath/to/Name' )"
      ],
      "execution_count": 0,
      "outputs": [
        {
          "output_type": "execute_result",
          "data": {
            "text/plain": [
              "512"
            ]
          },
          "metadata": {
            "tags": []
          },
          "execution_count": 24
        }
      ]
    },
    {
      "metadata": {
        "colab_type": "text",
        "id": "gzBx9Z_klZuj"
      },
      "cell_type": "markdown",
      "source": [
        "#### It seems like these newly derived features do not encode much information about the target. Let's add them as additional features to our base model and see it it performs better:"
      ]
    },
    {
      "metadata": {
        "colab_type": "code",
        "id": "mO3NAtJ3lZuk",
        "colab": {}
      },
      "cell_type": "code",
      "source": [
        "X_train = bag.fit_transform(text_train)\n",
        "X_train"
      ],
      "execution_count": 0,
      "outputs": []
    },
    {
      "metadata": {
        "colab_type": "code",
        "id": "j8NU4pXHlZun",
        "colab": {}
      },
      "cell_type": "code",
      "source": [
        "new_features = df[new_cols]\n",
        "X_train = hstack((X_train, new_features))\n",
        "X_train"
      ],
      "execution_count": 0,
      "outputs": []
    },
    {
      "metadata": {
        "colab_type": "text",
        "id": "_G8ddlaYlZur"
      },
      "cell_type": "markdown",
      "source": [
        "### Let's evaluate our baseline model with these newly added features:"
      ]
    },
    {
      "metadata": {
        "colab_type": "code",
        "id": "lD4_m5bxlZur",
        "colab": {}
      },
      "cell_type": "code",
      "source": [
        "lr = LogisticRegressionCV(scoring=\"roc_auc\", random_state=0).fit(X_train, y_train)\n",
        "auc_roc_derived_features = lr.scores_[1].mean(axis=0).max()\n",
        "print ('\\nMax auc_roc baseline model: {:.8f}'.format(auc_roc_baseline))\n",
        "print ('Max auc_roc with newly derived features: {:.8f}'.format(auc_roc_derived_features))"
      ],
      "execution_count": 0,
      "outputs": []
    },
    {
      "metadata": {
        "colab_type": "text",
        "id": "bLNYoYi0lZuw"
      },
      "cell_type": "markdown",
      "source": [
        "#### Result didn't improve. \n",
        "\n",
        "### Let's now explore some other features we think may be important for this speficic task:"
      ]
    },
    {
      "metadata": {
        "colab_type": "code",
        "id": "VhL_IIRmlZux",
        "colab": {}
      },
      "cell_type": "code",
      "source": [
        "some_bad_strings = ['shit','fuck','dam','mother','father','dad','hate','sex'] # strings in bad words\n",
        "offense_words = ['you','your','they','their','our','ours','mom', 'comment'] # frequently used in offensive responses\n",
        "\n",
        "bad_words = lambda x: len([word for bad in some_bad_strings for word in x['body'].split() if bad in str.lower(word)])\n",
        "offensive = lambda x: len([word for offense in offense_words for word in x['body'].split() if offense == str.lower(word)])\n",
        "\n",
        "df = df[['body', 'REMOVED']]\n",
        "df['bad_words'] = df.apply(bad_words, axis=1)\n",
        "df['offensive'] = df.apply(offensive, axis=1)\n",
        "print(df[:20])"
      ],
      "execution_count": 0,
      "outputs": []
    },
    {
      "metadata": {
        "colab_type": "text",
        "id": "oXPewMJalZu2"
      },
      "cell_type": "markdown",
      "source": [
        "#### Let's add these newly derived features to our base model and see it it performs better:"
      ]
    },
    {
      "metadata": {
        "colab_type": "code",
        "id": "QylAJ3M8lZu3",
        "colab": {}
      },
      "cell_type": "code",
      "source": [
        "X_train = bag.fit_transform(text_train)\n",
        "X_train"
      ],
      "execution_count": 0,
      "outputs": []
    },
    {
      "metadata": {
        "colab_type": "code",
        "id": "SzgI6yRKlZu6",
        "colab": {}
      },
      "cell_type": "code",
      "source": [
        "new_cols = ['bad_words', 'offensive']\n",
        "new_features = df[new_cols]\n",
        "X_train = hstack((X_train, new_features))\n",
        "X_train"
      ],
      "execution_count": 0,
      "outputs": []
    },
    {
      "metadata": {
        "colab_type": "code",
        "id": "sx-unQy-lZu9",
        "colab": {}
      },
      "cell_type": "code",
      "source": [
        "lr = LogisticRegressionCV(scoring=\"roc_auc\", random_state=0).fit(X_train, y_train)\n",
        "auc_roc_derived_features = lr.scores_[1].mean(axis=0).max()\n",
        "print ('\\nMax auc_roc baseline model: {:.8f}'.format(auc_roc_baseline))\n",
        "print ('Max auc_roc with newly derived features: {:.8f}'.format(auc_roc_derived_features))"
      ],
      "execution_count": 0,
      "outputs": []
    },
    {
      "metadata": {
        "colab_type": "text",
        "id": "hWTZP-6nlZvC"
      },
      "cell_type": "markdown",
      "source": [
        "#### It worked this time!\n",
        "\n",
        "#### Though a very small improvement, we can see that adding the count of bad words and words we think are frequently used in offensive responses, slightly increases the performance of our classifier, using the same random state. "
      ]
    },
    {
      "metadata": {
        "colab_type": "text",
        "id": "y3I7y06hlZvD"
      },
      "cell_type": "markdown",
      "source": [
        "<h2 >Task 2 - Word Vectors\n",
        "\n",
        "### Use a pretrained word-embedding (word2vec, glove or fasttext) instead of the bag-of-words model."
      ]
    },
    {
      "metadata": {
        "colab_type": "text",
        "id": "B0vhuiezlZvF"
      },
      "cell_type": "markdown",
      "source": [
        "#### Let's use Google's Word2Vect pre-trained model:"
      ]
    },
    {
      "metadata": {
        "colab_type": "code",
        "id": "Da3azrW3lZvH",
        "colab": {}
      },
      "cell_type": "code",
      "source": [
        "import gensim as gensim\n",
        "\n",
        "W2V = gensim.models.KeyedVectors.load_word2vec_format('./Models/GoogleNews-vectors-negative300.bin', binary=True)"
      ],
      "execution_count": 0,
      "outputs": []
    },
    {
      "metadata": {
        "colab_type": "text",
        "id": "LcwjOYCnlZvK"
      },
      "cell_type": "markdown",
      "source": [
        "#### Let's get each document in our training dataset as a list of tokens for W2V model: "
      ]
    },
    {
      "metadata": {
        "colab_type": "code",
        "id": "Y4oi3sSmlZvK",
        "colab": {}
      },
      "cell_type": "code",
      "source": [
        "vect_w2v = CountVectorizer(vocabulary=W2V.index2word)\n",
        "vect_w2v.fit(text_train)\n",
        "docs = vect_w2v.inverse_transform(vect_w2v.transform(text_train))\n",
        "docs[0]"
      ],
      "execution_count": 0,
      "outputs": []
    },
    {
      "metadata": {
        "colab_type": "text",
        "id": "DZBg8NqalZvN"
      },
      "cell_type": "markdown",
      "source": [
        "#### Now for each document, we will replace each tokens in the document by a 300-dimensional vector, then represent each document by the mean of all the 300-dimensional vectors:"
      ]
    },
    {
      "metadata": {
        "colab_type": "code",
        "id": "JvJ1kb4ClZvO",
        "colab": {}
      },
      "cell_type": "code",
      "source": [
        "try:\n",
        "    X_train = np.vstack([np.mean(W2V[doc], axis=0) for doc in docs])\n",
        "    X_train.shape\n",
        "except Exception as e:\n",
        "    print('Got error/exception:', e)"
      ],
      "execution_count": 0,
      "outputs": []
    },
    {
      "metadata": {
        "colab_type": "text",
        "id": "mo2nUUU5lZvU"
      },
      "cell_type": "markdown",
      "source": [
        "#### We are getting an error: Let's see what is going on in the docs where we are getting that error:"
      ]
    },
    {
      "metadata": {
        "colab_type": "code",
        "id": "gadAsGGElZvV",
        "colab": {}
      },
      "cell_type": "code",
      "source": [
        "removed = 0\n",
        "non_removed = 0\n",
        "for i in range (len(docs)):\n",
        "    try:\n",
        "        W2V[docs[i]]\n",
        "    except Exception as e:\n",
        "        if df['REMOVED'][i] == True:\n",
        "            removed+=1\n",
        "        else: non_removed+=1    \n",
        "        print(i, text_train[i], 'REMOVED?:', df['REMOVED'][i])\n",
        "print('\\nn_removed: {},  n_non_removed: {}'.format(removed, non_removed))"
      ],
      "execution_count": 0,
      "outputs": []
    },
    {
      "metadata": {
        "colab_type": "text",
        "id": "vZiV4vZ4lZvd"
      },
      "cell_type": "markdown",
      "source": [
        "#### As we can see above, the error is taking place in documents wehre there is not a single recognizable word (not a single word that makes sense). So let's replace all those documents with the token 'UNK': "
      ]
    },
    {
      "metadata": {
        "colab_type": "code",
        "id": "bzyZB5eXlZvd",
        "colab": {}
      },
      "cell_type": "code",
      "source": [
        "text_train_repaired = []   \n",
        "for i in range (len(docs)):\n",
        "    try:\n",
        "        W2V[docs[i]]\n",
        "        text_train_repaired.append(text_train[i])\n",
        "    except Exception as e:\n",
        "        text_train_repaired.append('UNK')"
      ],
      "execution_count": 0,
      "outputs": []
    },
    {
      "metadata": {
        "colab_type": "text",
        "id": "GVTt6VxxlZvh"
      },
      "cell_type": "markdown",
      "source": [
        "#### Let's go back and get each document in our repaired training dataset as a list of tokens for W2V model: "
      ]
    },
    {
      "metadata": {
        "colab_type": "code",
        "id": "HPmL8Yu1lZvj",
        "colab": {}
      },
      "cell_type": "code",
      "source": [
        "vect_w2v = CountVectorizer(vocabulary=W2V.index2word)\n",
        "vect_w2v.fit(text_train_repaired)\n",
        "docs = vect_w2v.inverse_transform(vect_w2v.transform(text_train_repaired))\n",
        "docs[0]"
      ],
      "execution_count": 0,
      "outputs": []
    },
    {
      "metadata": {
        "colab_type": "text",
        "id": "NXB0sh8SlZvq"
      },
      "cell_type": "markdown",
      "source": [
        "#### Now for each document, we will replace each tokens in the document by a 300-dimensional vector, then represent each document by the mean of all the 300-dimensional vectors (should work this time):"
      ]
    },
    {
      "metadata": {
        "colab_type": "code",
        "id": "VaKsHxuYlZvr",
        "colab": {}
      },
      "cell_type": "code",
      "source": [
        "X_train = np.vstack([np.mean(W2V[doc], axis=0) for doc in docs])\n",
        "X_train.shape"
      ],
      "execution_count": 0,
      "outputs": []
    },
    {
      "metadata": {
        "colab_type": "text",
        "id": "cxHLtkDMlZvu"
      },
      "cell_type": "markdown",
      "source": [
        "#### It worked!"
      ]
    },
    {
      "metadata": {
        "colab_type": "text",
        "id": "cVEe_p0plZvv"
      },
      "cell_type": "markdown",
      "source": [
        "#### Let's now see what results we get using the pretrained word2vec as compared with the baseline bag-of-words model:"
      ]
    },
    {
      "metadata": {
        "colab_type": "code",
        "id": "Eb3Z6J-ylZvx",
        "colab": {}
      },
      "cell_type": "code",
      "source": [
        "lr = LogisticRegressionCV(scoring=\"roc_auc\", random_state=0).fit(X_train, y_train)\n",
        "auc_roc_w2v = lr.scores_[1].mean(axis=0).max()\n",
        "print ('\\nMax auc_roc baseline bag-of-words model : {:.8f}'.format(auc_roc_baseline))\n",
        "print ('\\nOur best model auc_roc (using character n-grams): {:.8f}'.format(auc_roc_char_ngrams))\n",
        "print ('\\nMax auc_roc using pretrained word2vec: {:.8f}'.format(auc_roc_w2v))"
      ],
      "execution_count": 0,
      "outputs": []
    },
    {
      "metadata": {
        "colab_type": "text",
        "id": "fFOHFSr9lZv0"
      },
      "cell_type": "markdown",
      "source": [
        "### Does this improve classification?"
      ]
    },
    {
      "metadata": {
        "colab_type": "text",
        "id": "NwGEjCk9lZv1"
      },
      "cell_type": "markdown",
      "source": [
        "Using a a pretrained word-embedding (word2vec) instead of the bag-of-words model didn't improve classification but we got an auc_roc of 0.7279, somewhat close to our baseline bag-of-words mode where we got an auc_roc of 0.7593, though far from our best result using character n-grams with an auc_roc of 0.7915"
      ]
    }
  ]
}