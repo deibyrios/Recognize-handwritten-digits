{
  "nbformat": 4,
  "nbformat_minor": 0,
  "metadata": {
    "colab": {
      "name": "Copy of hw5.ipynb",
      "version": "0.3.2",
      "provenance": [],
      "collapsed_sections": [
        "JiKOiFm_YMYF",
        "JEkxbuKBYMYL",
        "Rh4ec3nrbSrG",
        "cd9_3gH0bagN",
        "PrKPkc8Xbho6",
        "TTT0Jb37b2J7",
        "sUhdaPSQb9sF",
        "X1vpNaglcMtc",
        "JfwR4APOGXYx",
        "dXT7tsTvkbx4",
        "kHYBW9kTk3Br",
        "XWc8TWCE4P1E",
        "3hoTbNVS8zqQ",
        "x6uNPZkRcJ7H",
        "LA4jAMYKdGgp",
        "uRzaB6S2lZtn",
        "lB5db8o5jMUG",
        "dZ_catGOlZt4",
        "DXpHgrjPlZuB",
        "wJtFYOnJFc2j",
        "LKixtJl4lZuJ",
        "lCKCEEqTlZuQ",
        "eENrKq5OkjVw",
        "3YIjMU8uLcC4",
        "XGySDFuVWWsh",
        "Jy3wMKS6qmKv",
        "e_vXM4-Aa0UO",
        "J0B8vKKLsBym",
        "lGKa1Zflr8HO",
        "rSC8e_WBoNTk",
        "NTxor_QXoe6-",
        "aLI6c-9Fo2q9",
        "DMqDHW32pDcJ",
        "390UJvVZpR_W",
        "p2bCOUb_pvHM",
        "vr3o8eX1rp6K",
        "X51z0cw3lZuc",
        "gzBx9Z_klZuj",
        "_G8ddlaYlZur",
        "bLNYoYi0lZuw",
        "oXPewMJalZu2",
        "hWTZP-6nlZvC",
        "y3I7y06hlZvD",
        "B0vhuiezlZvF",
        "LcwjOYCnlZvK",
        "DZBg8NqalZvN",
        "mo2nUUU5lZvU",
        "vZiV4vZ4lZvd",
        "GVTt6VxxlZvh",
        "NXB0sh8SlZvq",
        "cxHLtkDMlZvu",
        "cVEe_p0plZvv",
        "fFOHFSr9lZv0"
      ],
      "include_colab_link": true
    },
    "language_info": {
      "codemirror_mode": {
        "name": "ipython",
        "version": 3
      },
      "file_extension": ".py",
      "mimetype": "text/x-python",
      "name": "python",
      "nbconvert_exporter": "python",
      "pygments_lexer": "ipython3",
      "version": "3.7.2"
    },
    "kernelspec": {
      "name": "python3",
      "display_name": "Python 3"
    },
    "accelerator": "GPU"
  },
  "cells": [
    {
      "cell_type": "markdown",
      "metadata": {
        "id": "view-in-github",
        "colab_type": "text"
      },
      "source": [
        "<a href=\"https://colab.research.google.com/github/deibyrios/Recognize-handwritten-digits/blob/master/Copy_of_hw5.ipynb\" target=\"_parent\"><img src=\"https://colab.research.google.com/assets/colab-badge.svg\" alt=\"Open In Colab\"/></a>"
      ]
    },
    {
      "metadata": {
        "colab_type": "text",
        "id": "1Nj5m2SblZsn"
      },
      "cell_type": "markdown",
      "source": [
        "<h1 >Applied Machine Learning - Homework 5"
      ]
    },
    {
      "metadata": {
        "colab_type": "text",
        "id": "k0_tcNqxlZsr"
      },
      "cell_type": "markdown",
      "source": [
        "## Task 1 - Multilayer perceptron with two hidden layers on iris dataset\n",
        "  \n",
        "Run a multilayer perceptron with two hidden layers and rectified linear nonlinearities on the iris dataset using the keras Sequential interface. \n",
        "\n",
        "Include code for selecting regularization strength and number of hidden units using GridSearchCV and evaluation on an independent test-set."
      ]
    },
    {
      "metadata": {
        "colab_type": "code",
        "id": "uoZrllhulZss",
        "colab": {
          "base_uri": "https://localhost:8080/",
          "height": 34
        },
        "outputId": "11c61c01-fd0f-4a3b-98cc-caf2073397a7"
      },
      "cell_type": "code",
      "source": [
        "import pandas as pd\n",
        "import numpy as np\n",
        "import matplotlib\n",
        "import matplotlib.pyplot as plt\n",
        "%matplotlib inline\n",
        "import warnings\n",
        "import os\n",
        "from zipfile import ZipFile\n",
        "\n",
        "import keras\n",
        "from keras.models import Model, Sequential\n",
        "from keras.layers import Input, Dense, Activation, Dropout, BatchNormalization\n",
        "from keras.initializers import glorot_uniform\n",
        "from keras import regularizers\n",
        "from keras.wrappers.scikit_learn import KerasClassifier\n",
        "from keras.optimizers import RMSprop, Adam, Adamax, Nadam\n",
        "from keras.callbacks import EarlyStopping\n",
        "\n",
        "from sklearn.datasets import load_iris\n",
        "from sklearn.model_selection import train_test_split\n",
        "from sklearn.model_selection import StratifiedShuffleSplit\n",
        "from sklearn.model_selection import GridSearchCV\n",
        "from sklearn.pipeline import Pipeline\n",
        "from sklearn.preprocessing import StandardScaler"
      ],
      "execution_count": 1,
      "outputs": [
        {
          "output_type": "stream",
          "text": [
            "Using TensorFlow backend.\n"
          ],
          "name": "stderr"
        }
      ]
    },
    {
      "metadata": {
        "id": "M7NVFfnYYSpg",
        "colab_type": "code",
        "outputId": "5c2dd100-a1b2-4987-c64e-4dce915992bf",
        "colab": {
          "base_uri": "https://localhost:8080/",
          "height": 34
        }
      },
      "cell_type": "code",
      "source": [
        "from keras import backend as K\n",
        "if K.backend() == \"tensorflow\":\n",
        "    import tensorflow as tf\n",
        "    device_name = tf.test.gpu_device_name()\n",
        "    if device_name == '':\n",
        "        device_name = \"None\"\n",
        "    print('Using TensorFlow version:', tf.__version__, ', GPU:', device_name)"
      ],
      "execution_count": 0,
      "outputs": [
        {
          "output_type": "stream",
          "text": [
            "Using TensorFlow version: 1.13.1 , GPU: /device:GPU:0\n"
          ],
          "name": "stdout"
        }
      ]
    },
    {
      "metadata": {
        "colab_type": "text",
        "id": "CSUOVM-yozIA"
      },
      "cell_type": "markdown",
      "source": [
        "<h4> Let's load the iris dataset and get features and targets:"
      ]
    },
    {
      "metadata": {
        "colab_type": "code",
        "id": "VbPXa0BDnB8f",
        "outputId": "81d23ebc-a31e-45fa-ae0d-4d141ea37638",
        "colab": {
          "base_uri": "https://localhost:8080/",
          "height": 68
        }
      },
      "cell_type": "code",
      "source": [
        "#from sklearn.datasets import load_iris\n",
        "\n",
        "iris = load_iris()\n",
        "feature_names = iris['feature_names']\n",
        "target_names = iris['target_names']\n",
        "num_features = len(feature_names)\n",
        "num_classes = len(target_names)\n",
        "\n",
        "X = iris['data']\n",
        "y = iris['target']\n",
        "y = keras.utils.to_categorical(y, num_classes)\n",
        "\n",
        "print('Features: ', feature_names)\n",
        "print('\\nTarget Classes :', target_names)"
      ],
      "execution_count": 0,
      "outputs": [
        {
          "output_type": "stream",
          "text": [
            "Features:  ['sepal length (cm)', 'sepal width (cm)', 'petal length (cm)', 'petal width (cm)']\n",
            "\n",
            "Target Classes : ['setosa' 'versicolor' 'virginica']\n"
          ],
          "name": "stdout"
        }
      ]
    },
    {
      "metadata": {
        "colab_type": "text",
        "id": "CcaH3L7RlZsx"
      },
      "cell_type": "markdown",
      "source": [
        "<h4> Let's split data into training and test sets:\n"
      ]
    },
    {
      "metadata": {
        "colab_type": "code",
        "id": "W68rwffllZsy",
        "outputId": "ac8f9aae-dc43-44a7-9011-afea4f7ec74d",
        "colab": {
          "base_uri": "https://localhost:8080/",
          "height": 51
        }
      },
      "cell_type": "code",
      "source": [
        "#from sklearn.model_selection import train_test_split\n",
        "\n",
        "X_train, X_test, y_train, y_test = train_test_split(X, y, test_size=0.25,\n",
        "                                                    stratify=y, random_state=0)\n",
        "print('No. of training samples :', len(y_train), '\\nNo. of test samples :',\n",
        "      len(y_test))"
      ],
      "execution_count": 0,
      "outputs": [
        {
          "output_type": "stream",
          "text": [
            "No. of training samples : 112 \n",
            "No. of test samples : 38\n"
          ],
          "name": "stdout"
        }
      ]
    },
    {
      "metadata": {
        "colab_type": "text",
        "id": "Kl_3SOSvlZtY"
      },
      "cell_type": "markdown",
      "source": [
        "### Include code for selecting regularization strength and number of hidden units using GridSearchCV:"
      ]
    },
    {
      "metadata": {
        "colab_type": "text",
        "id": "Z3-TXa86QqWo"
      },
      "cell_type": "markdown",
      "source": [
        "#### Let's create our keras' scikit-learn model wrapper:"
      ]
    },
    {
      "metadata": {
        "colab_type": "code",
        "id": "oZoqYooOlZtZ",
        "outputId": "9780e20f-b033-4c44-89ca-7dd6d652b432",
        "colab": {
          "base_uri": "https://localhost:8080/",
          "height": 51
        }
      },
      "cell_type": "code",
      "source": [
        "#from keras.models import Sequential\n",
        "#from keras.layers import Dense\n",
        "#from keras import regularizers\n",
        "#from keras.wrappers.scikit_learn import KerasClassifier\n",
        "#from keras.initializers import glorot_uniform\n",
        "\n",
        "def make_sklearn_mlp(n_features, n_classes, l2_reg=0, hidden_units=8):\n",
        "  mlp = Sequential([\n",
        "    Dense(hidden_units, input_shape=(n_features,), activation='relu', \n",
        "        kernel_regularizer=regularizers.l2(l2_reg),\n",
        "        kernel_initializer = glorot_uniform(0)),\n",
        "    Dense(hidden_units, activation='relu',\n",
        "        kernel_initializer = glorot_uniform(0)),\n",
        "    Dense(n_classes, activation='softmax',\n",
        "        kernel_regularizer=regularizers.l2(l2_reg),\n",
        "        kernel_initializer = glorot_uniform(0))])\n",
        "  mlp.compile(\"adam\", \"categorical_crossentropy\", metrics=['accuracy'])\n",
        "  return mlp\n",
        "\n",
        "clf = KerasClassifier(make_sklearn_mlp, n_features=num_features,\n",
        "                      n_classes=num_classes, epochs=100, batch_size=4, \n",
        "                      shuffle=True, verbose=0)\n",
        "print('keras wrapper object: \\n', type(clf))"
      ],
      "execution_count": 0,
      "outputs": [
        {
          "output_type": "stream",
          "text": [
            "keras wrapper object: \n",
            " <class 'keras.wrappers.scikit_learn.KerasClassifier'>\n"
          ],
          "name": "stdout"
        }
      ]
    },
    {
      "metadata": {
        "colab_type": "text",
        "id": "lJ60FGM9lZti"
      },
      "cell_type": "markdown",
      "source": [
        "#### Let's tune the regularization strength and number of hidden units using GridSearchCV:"
      ]
    },
    {
      "metadata": {
        "colab_type": "code",
        "id": "8m_nRWI_lZtj",
        "outputId": "3012e0d8-4cec-4d1d-a8c4-ba5bff905d14",
        "colab": {
          "base_uri": "https://localhost:8080/",
          "height": 638
        }
      },
      "cell_type": "code",
      "source": [
        "#from sklearn.model_selection import StratifiedShuffleSplit\n",
        "#from sklearn.model_selection import GridSearchCV\n",
        "\n",
        "sss = StratifiedShuffleSplit(n_splits=1, test_size=.2, random_state=0)\n",
        "\n",
        "param_grid = {'l2_reg': np.logspace(-5, -3, 6),\n",
        "              'hidden_units': [8, 16, 32]}\n",
        "\n",
        "grid = GridSearchCV(clf, param_grid=param_grid, cv=sss, return_train_score=True)\n",
        "grid.fit(X_train, y_train)\n",
        "\n",
        "results = pd.DataFrame(grid.cv_results_)\n",
        "results.pivot_table(index=[\"param_l2_reg\", \"param_hidden_units\"],\n",
        "                values=['mean_train_score', \"mean_test_score\"])"
      ],
      "execution_count": 0,
      "outputs": [
        {
          "output_type": "execute_result",
          "data": {
            "text/html": [
              "<div>\n",
              "<style scoped>\n",
              "    .dataframe tbody tr th:only-of-type {\n",
              "        vertical-align: middle;\n",
              "    }\n",
              "\n",
              "    .dataframe tbody tr th {\n",
              "        vertical-align: top;\n",
              "    }\n",
              "\n",
              "    .dataframe thead th {\n",
              "        text-align: right;\n",
              "    }\n",
              "</style>\n",
              "<table border=\"1\" class=\"dataframe\">\n",
              "  <thead>\n",
              "    <tr style=\"text-align: right;\">\n",
              "      <th></th>\n",
              "      <th></th>\n",
              "      <th>mean_test_score</th>\n",
              "      <th>mean_train_score</th>\n",
              "    </tr>\n",
              "    <tr>\n",
              "      <th>param_l2_reg</th>\n",
              "      <th>param_hidden_units</th>\n",
              "      <th></th>\n",
              "      <th></th>\n",
              "    </tr>\n",
              "  </thead>\n",
              "  <tbody>\n",
              "    <tr>\n",
              "      <th rowspan=\"3\" valign=\"top\">0.000010</th>\n",
              "      <th>8</th>\n",
              "      <td>0.956522</td>\n",
              "      <td>0.955056</td>\n",
              "    </tr>\n",
              "    <tr>\n",
              "      <th>16</th>\n",
              "      <td>0.956522</td>\n",
              "      <td>0.977528</td>\n",
              "    </tr>\n",
              "    <tr>\n",
              "      <th>32</th>\n",
              "      <td>0.956522</td>\n",
              "      <td>0.966292</td>\n",
              "    </tr>\n",
              "    <tr>\n",
              "      <th rowspan=\"3\" valign=\"top\">0.000025</th>\n",
              "      <th>8</th>\n",
              "      <td>0.956522</td>\n",
              "      <td>0.966292</td>\n",
              "    </tr>\n",
              "    <tr>\n",
              "      <th>16</th>\n",
              "      <td>0.956522</td>\n",
              "      <td>0.966292</td>\n",
              "    </tr>\n",
              "    <tr>\n",
              "      <th>32</th>\n",
              "      <td>0.913043</td>\n",
              "      <td>0.966292</td>\n",
              "    </tr>\n",
              "    <tr>\n",
              "      <th rowspan=\"3\" valign=\"top\">0.000063</th>\n",
              "      <th>8</th>\n",
              "      <td>0.913043</td>\n",
              "      <td>0.977528</td>\n",
              "    </tr>\n",
              "    <tr>\n",
              "      <th>16</th>\n",
              "      <td>0.956522</td>\n",
              "      <td>0.988764</td>\n",
              "    </tr>\n",
              "    <tr>\n",
              "      <th>32</th>\n",
              "      <td>0.956522</td>\n",
              "      <td>0.966292</td>\n",
              "    </tr>\n",
              "    <tr>\n",
              "      <th rowspan=\"3\" valign=\"top\">0.000158</th>\n",
              "      <th>8</th>\n",
              "      <td>0.956522</td>\n",
              "      <td>0.977528</td>\n",
              "    </tr>\n",
              "    <tr>\n",
              "      <th>16</th>\n",
              "      <td>0.956522</td>\n",
              "      <td>0.988764</td>\n",
              "    </tr>\n",
              "    <tr>\n",
              "      <th>32</th>\n",
              "      <td>0.956522</td>\n",
              "      <td>0.977528</td>\n",
              "    </tr>\n",
              "    <tr>\n",
              "      <th rowspan=\"3\" valign=\"top\">0.000398</th>\n",
              "      <th>8</th>\n",
              "      <td>0.913043</td>\n",
              "      <td>0.977528</td>\n",
              "    </tr>\n",
              "    <tr>\n",
              "      <th>16</th>\n",
              "      <td>0.956522</td>\n",
              "      <td>0.977528</td>\n",
              "    </tr>\n",
              "    <tr>\n",
              "      <th>32</th>\n",
              "      <td>0.956522</td>\n",
              "      <td>0.966292</td>\n",
              "    </tr>\n",
              "    <tr>\n",
              "      <th rowspan=\"3\" valign=\"top\">0.001000</th>\n",
              "      <th>8</th>\n",
              "      <td>0.956522</td>\n",
              "      <td>0.977528</td>\n",
              "    </tr>\n",
              "    <tr>\n",
              "      <th>16</th>\n",
              "      <td>0.956522</td>\n",
              "      <td>0.966292</td>\n",
              "    </tr>\n",
              "    <tr>\n",
              "      <th>32</th>\n",
              "      <td>0.956522</td>\n",
              "      <td>0.966292</td>\n",
              "    </tr>\n",
              "  </tbody>\n",
              "</table>\n",
              "</div>"
            ],
            "text/plain": [
              "                                 mean_test_score  mean_train_score\n",
              "param_l2_reg param_hidden_units                                   \n",
              "0.000010     8                          0.956522          0.955056\n",
              "             16                         0.956522          0.977528\n",
              "             32                         0.956522          0.966292\n",
              "0.000025     8                          0.956522          0.966292\n",
              "             16                         0.956522          0.966292\n",
              "             32                         0.913043          0.966292\n",
              "0.000063     8                          0.913043          0.977528\n",
              "             16                         0.956522          0.988764\n",
              "             32                         0.956522          0.966292\n",
              "0.000158     8                          0.956522          0.977528\n",
              "             16                         0.956522          0.988764\n",
              "             32                         0.956522          0.977528\n",
              "0.000398     8                          0.913043          0.977528\n",
              "             16                         0.956522          0.977528\n",
              "             32                         0.956522          0.966292\n",
              "0.001000     8                          0.956522          0.977528\n",
              "             16                         0.956522          0.966292\n",
              "             32                         0.956522          0.966292"
            ]
          },
          "metadata": {
            "tags": []
          },
          "execution_count": 151
        }
      ]
    },
    {
      "metadata": {
        "colab_type": "text",
        "id": "R6fl19kMBYog"
      },
      "cell_type": "markdown",
      "source": [
        "#### From the above, we can see that for very small regularizations, 8, 16 and 32 hidden units perform very similar so our simpler model would be 8 units with minimum regularization, which is indeed the the one returned by  'grid.best_params_':"
      ]
    },
    {
      "metadata": {
        "id": "bqeM0B_j6mb9",
        "colab_type": "code",
        "outputId": "e85187fe-eec6-4066-d18f-5e14e760e2ee",
        "colab": {
          "base_uri": "https://localhost:8080/",
          "height": 68
        }
      },
      "cell_type": "code",
      "source": [
        "print('\\nBest Parameters: \\n', grid.best_params_)"
      ],
      "execution_count": 0,
      "outputs": [
        {
          "output_type": "stream",
          "text": [
            "\n",
            "Best Parameters: \n",
            " {'hidden_units': 8, 'l2_reg': 1e-05}\n"
          ],
          "name": "stdout"
        }
      ]
    },
    {
      "metadata": {
        "id": "JiKOiFm_YMYF",
        "colab_type": "text"
      },
      "cell_type": "markdown",
      "source": [
        "#### Let's train our tuned model on the entire training set (including validation ) and evaluate it on an independent test-set:"
      ]
    },
    {
      "metadata": {
        "id": "lxfrd-Hq8P1I",
        "colab_type": "code",
        "outputId": "82d73066-d50a-46dd-8b08-27dc416c0bec",
        "colab": {
          "base_uri": "https://localhost:8080/",
          "height": 102
        }
      },
      "cell_type": "code",
      "source": [
        "best_clf = grid.best_estimator_\n",
        "best_clf.fit(X_train, y_train)\n",
        "score = best_clf.score(X_test, y_test)\n",
        "print(\"\\nTest Accuracy: {:.3f}\".format(score))\n",
        "\n",
        "print('\\nNo. of training samples :', len(y_train), '\\nNo. of test samples :',\n",
        "      len(y_test))"
      ],
      "execution_count": 0,
      "outputs": [
        {
          "output_type": "stream",
          "text": [
            "\n",
            "Test Accuracy: 1.000\n",
            "\n",
            "No. of training samples : 112 \n",
            "No. of test samples : 38\n"
          ],
          "name": "stdout"
        }
      ]
    },
    {
      "metadata": {
        "id": "JEkxbuKBYMYL",
        "colab_type": "text"
      },
      "cell_type": "markdown",
      "source": [
        "#### We got a test accuraccy of 100%. Though we put apart 25% of the data for test, the dataset size is only 150 samples so the test set is just 38 samples. That may be the reason why we are getting 100% accuracy as it is a very small test set.\n",
        "<br><br>"
      ]
    },
    {
      "metadata": {
        "id": "3fYns7LhYMYP",
        "colab_type": "text"
      },
      "cell_type": "markdown",
      "source": [
        "## Task 2 - Multilayer perceptron on the Fashion MNIST dataset\n",
        "  \n",
        "Train a multilayer perceptron (fully connected) on the Fashion MNIST dataset using the traditional train/test split as given by fashion_mnist.load_data in keras. \n",
        "\n",
        "Use a separate 10000 samples (from the training set) for model selection and to compute learning curves (accuracy vs epochs, not vs n_samples). \n",
        "\n",
        "Compare a “vanilla” model with a model using drop-out (potentially a bigger model), and to a model using batch normalization and residual connections (but not dropout). Visualize learning curves for all models."
      ]
    },
    {
      "metadata": {
        "id": "Rh4ec3nrbSrG",
        "colab_type": "text"
      },
      "cell_type": "markdown",
      "source": [
        "#### From the keras datasets [documentation for Fashion-MINST](https://keras.io/datasets/#fashion-mnist-database-of-fashion-articles):\n",
        "\n",
        "\n",
        "#### Fashion-MNIST database of fashion articles\n",
        "\n",
        "Dataset of 60,000 28x28 grayscale images of 10 fashion categories, along with a test set of 10,000 images. This dataset can be used as a drop-in replacement for MNIST. \n",
        "\n",
        "**The class labels are:**\n",
        "\n",
        "Label\tDescription\n",
        "\n",
        "0. T-shirt/top\n",
        "1. Trouser\n",
        "2. Pullover\n",
        "3. Dress\n",
        "4. Coat\n",
        "5. Sandal\n",
        "6.\tShirt\n",
        "7.\tSneaker\n",
        "8.\tBag\n",
        "9.\tAnkle boot\n",
        "\n",
        "#### Usage:\n",
        "from keras.datasets import fashion_mnist\n",
        "\n",
        "(x_train, y_train), (x_test, y_test) = fashion_mnist.load_data()\n",
        "\n",
        "#### Returns:\n",
        "2 tuples:\n",
        "* x_train, x_test: uint8 array of grayscale image data with shape (num_samples, 28, 28).\n",
        "* y_train, y_test: uint8 array of labels (integers in range 0-9) with shape (num_samples,)."
      ]
    },
    {
      "metadata": {
        "id": "cd9_3gH0bagN",
        "colab_type": "text"
      },
      "cell_type": "markdown",
      "source": [
        "#### Let's download the data:"
      ]
    },
    {
      "metadata": {
        "colab_type": "code",
        "id": "yfCx0j21C9Ok",
        "outputId": "dbcfd491-4892-4735-8971-74b9a67c6b1f",
        "colab": {
          "base_uri": "https://localhost:8080/",
          "height": 153
        }
      },
      "cell_type": "code",
      "source": [
        "(X_train, y_train), (X_test, y_test) = keras.datasets.fashion_mnist.load_data()"
      ],
      "execution_count": 0,
      "outputs": [
        {
          "output_type": "stream",
          "text": [
            "Downloading data from http://fashion-mnist.s3-website.eu-central-1.amazonaws.com/train-labels-idx1-ubyte.gz\n",
            "32768/29515 [=================================] - 0s 4us/step\n",
            "Downloading data from http://fashion-mnist.s3-website.eu-central-1.amazonaws.com/train-images-idx3-ubyte.gz\n",
            "26427392/26421880 [==============================] - 2s 0us/step\n",
            "Downloading data from http://fashion-mnist.s3-website.eu-central-1.amazonaws.com/t10k-labels-idx1-ubyte.gz\n",
            "8192/5148 [===============================================] - 0s 0us/step\n",
            "Downloading data from http://fashion-mnist.s3-website.eu-central-1.amazonaws.com/t10k-images-idx3-ubyte.gz\n",
            "4423680/4422102 [==============================] - 1s 0us/step\n"
          ],
          "name": "stdout"
        }
      ]
    },
    {
      "metadata": {
        "id": "urK6ej0xbku6",
        "colab_type": "code",
        "outputId": "76345540-46b1-4b7f-e5fa-5d5bdb7e3f48",
        "colab": {
          "base_uri": "https://localhost:8080/",
          "height": 119
        }
      },
      "cell_type": "code",
      "source": [
        "print('\\nTraining data shape: ', X_train.shape)\n",
        "print('Training labels shape: ', y_train.shape)\n",
        "print('\\nTest data shape: ', X_test.shape)\n",
        "print('Test labels shape: ', y_test.shape)"
      ],
      "execution_count": 0,
      "outputs": [
        {
          "output_type": "stream",
          "text": [
            "\n",
            "Training data shape:  (60000, 28, 28)\n",
            "Training labels shape:  (60000,)\n",
            "\n",
            "Test data shape:  (10000, 28, 28)\n",
            "Test labels shape:  (10000,)\n"
          ],
          "name": "stdout"
        }
      ]
    },
    {
      "metadata": {
        "id": "PrKPkc8Xbho6",
        "colab_type": "text"
      },
      "cell_type": "markdown",
      "source": [
        "#### Let's visualize a sample of the data:"
      ]
    },
    {
      "metadata": {
        "colab_type": "code",
        "id": "SujbyDAA70VP",
        "outputId": "dc3e06b0-e3d0-4500-d71b-e84d9b7831d1",
        "colab": {
          "base_uri": "https://localhost:8080/",
          "height": 499
        }
      },
      "cell_type": "code",
      "source": [
        "target_names = ['T-shirt/top', 'Trouser', 'Pullover', 'Dress', 'Coat',\n",
        "                 'Sandal', 'Shirt', 'Sneaker', 'Bag', 'Ankle boot']\n",
        "\n",
        "#We randomly choose 25 images from the train dataset.\n",
        "fig, axes1 = plt.subplots(5,5,figsize=(8,8))\n",
        "for j in range(5):\n",
        "    for k in range(5):\n",
        "        i = np.random.choice(range(len(X_train)))\n",
        "        axes1[j][k].set_axis_off()\n",
        "        axes1[j][k].imshow(X_train[i], cmap=\"gray\")\n",
        "        axes1[j][k].set_title(target_names[y_train[i]])"
      ],
      "execution_count": 0,
      "outputs": [
        {
          "output_type": "display_data",
          "data": {
            "image/png": "[encoded data removed]",
            "text/plain": [
              "<Figure size 576x576 with 25 Axes>"
            ]
          },
          "metadata": {
            "tags": []
          }
        }
      ]
    },
    {
      "metadata": {
        "id": "TTT0Jb37b2J7",
        "colab_type": "text"
      },
      "cell_type": "markdown",
      "source": [
        "#### Since we will be working with a fully connected MLP, we need to flatten the features:\n",
        "\n",
        "#### Let's flatten the features and one-hot-encode the targets:"
      ]
    },
    {
      "metadata": {
        "colab_type": "code",
        "id": "Barb6avR8nah",
        "outputId": "8ce4cd43-6604-44d2-809e-4c67408492aa",
        "colab": {
          "base_uri": "https://localhost:8080/",
          "height": 153
        }
      },
      "cell_type": "code",
      "source": [
        "X_train = X_train.reshape(X_train.shape[0], -1)\n",
        "X_test = X_test.reshape(X_test.shape[0], -1)\n",
        "\n",
        "num_classes = len(target_names)\n",
        "y_train = keras.utils.to_categorical(y_train, num_classes)\n",
        "y_test = keras.utils.to_categorical(y_test, num_classes)\n",
        "\n",
        "print('\\nTraining data shape: ', X_train.shape)\n",
        "print('Train data shape: ', X_train.shape)\n",
        "\n",
        "print('\\nTest data shape: ', X_test.shape)\n",
        "print('Train labels shape: ', y_train.shape)\n",
        "\n",
        "print('\\nTraining features scale: ', [np.min(X_train), np.max(X_train)])"
      ],
      "execution_count": 0,
      "outputs": [
        {
          "output_type": "stream",
          "text": [
            "\n",
            "Training data shape:  (60000, 784)\n",
            "Train data shape:  (60000, 784)\n",
            "\n",
            "Test data shape:  (10000, 784)\n",
            "Train labels shape:  (60000, 10)\n",
            "\n",
            "Training features scale:  [0, 255]\n"
          ],
          "name": "stdout"
        }
      ]
    },
    {
      "metadata": {
        "id": "sUhdaPSQb9sF",
        "colab_type": "text"
      },
      "cell_type": "markdown",
      "source": [
        "#### As we can see above, the pixels are in [0, 255] scale. There is not need to normalize then, but let's just scale to [0, 1]:"
      ]
    },
    {
      "metadata": {
        "colab_type": "code",
        "id": "4QIiz8YV1cNH",
        "outputId": "534dcd56-a11f-4663-e24c-bead79ac6161",
        "colab": {
          "base_uri": "https://localhost:8080/",
          "height": 68
        }
      },
      "cell_type": "code",
      "source": [
        "X_train, X_test = X_train/255.0, X_test/255.0\n",
        "print('\\nTraining features scale: ', [np.min(X_train), np.max(X_train)])\n",
        "print('Test features scale: ', [np.min(X_test), np.max(X_test)])"
      ],
      "execution_count": 0,
      "outputs": [
        {
          "output_type": "stream",
          "text": [
            "\n",
            "Training features scale:  [0.0, 1.0]\n",
            "Test features scale:  [0.0, 1.0]\n"
          ],
          "name": "stdout"
        }
      ]
    },
    {
      "metadata": {
        "id": "X1vpNaglcMtc",
        "colab_type": "text"
      },
      "cell_type": "markdown",
      "source": [
        "#### Let's separate 10,000 samples (from the training set) as holdout validation set to be used for model selection and to compute learning curves (accuracy vs epochs): "
      ]
    },
    {
      "metadata": {
        "id": "y5uSv0QWDknH",
        "colab_type": "code",
        "cellView": "both",
        "outputId": "a30f473e-cb16-4533-f3fa-5b1c08156876",
        "colab": {
          "base_uri": "https://localhost:8080/",
          "height": 85
        }
      },
      "cell_type": "code",
      "source": [
        "X_train, X_val, y_train, y_val = train_test_split(X_train, y_train,\n",
        "                                                  test_size=10000,\n",
        "                                                  stratify=y_train,\n",
        "                                                  random_state=0)\n",
        "print('Train data shape: ', X_train.shape)\n",
        "print('Train labels shape: ', y_train.shape)\n",
        "print('Validation data shape: ', X_val.shape)\n",
        "print('Validation labels shape: ', y_val.shape)"
      ],
      "execution_count": 0,
      "outputs": [
        {
          "output_type": "stream",
          "text": [
            "Train data shape:  (50000, 784)\n",
            "Train labels shape:  (50000, 10)\n",
            "Validation data shape:  (10000, 784)\n",
            "Validation labels shape:  (10000, 10)\n"
          ],
          "name": "stdout"
        }
      ]
    },
    {
      "metadata": {
        "id": "JfwR4APOGXYx",
        "colab_type": "text"
      },
      "cell_type": "markdown",
      "source": [
        "#### As additional preprocessing: let's subtract the mean value across every dimension for training data:"
      ]
    },
    {
      "metadata": {
        "id": "m9ZDQeoFGYFI",
        "colab_type": "code",
        "colab": {}
      },
      "cell_type": "code",
      "source": [
        "mean_image = np.mean(X_train, axis=0)\n",
        "X_train = X_train - mean_image\n",
        "X_val = X_val - mean_image\n",
        "X_test = X_test - mean_image\n",
        "\n",
        "num_features = X_train.shape[1]"
      ],
      "execution_count": 0,
      "outputs": []
    },
    {
      "metadata": {
        "id": "dXT7tsTvkbx4",
        "colab_type": "text"
      },
      "cell_type": "markdown",
      "source": [
        "#### Let's separate 10,000 training samples for development and initial model selection:"
      ]
    },
    {
      "metadata": {
        "id": "DZPxH25_hwzA",
        "colab_type": "code",
        "outputId": "6af5612c-7031-4126-b95f-524c27d843f5",
        "colab": {
          "base_uri": "https://localhost:8080/",
          "height": 85
        }
      },
      "cell_type": "code",
      "source": [
        "_, X_dev, _, y_dev = train_test_split(X_train, y_train,\n",
        "                                                  test_size=10000,\n",
        "                                                  stratify=y_train,\n",
        "                                                  random_state=0)\n",
        "_, X_dev_val, _, y_dev_val = train_test_split(X_test, y_test,\n",
        "                                                  test_size=2500,\n",
        "                                                  stratify=y_test,\n",
        "                                                  random_state=0)\n",
        "print('Development data shape: ', X_dev.shape)\n",
        "print('Development labels shape: ', y_dev.shape)\n",
        "print('Dev validation data shape: ', X_dev_val.shape)\n",
        "print('Dev validation labels shape: ', y_dev_val.shape)"
      ],
      "execution_count": 0,
      "outputs": [
        {
          "output_type": "stream",
          "text": [
            "Development data shape:  (10000, 784)\n",
            "Development labels shape:  (10000, 10)\n",
            "Dev validation data shape:  (2500, 784)\n",
            "Dev validation labels shape:  (2500, 10)\n"
          ],
          "name": "stdout"
        }
      ]
    },
    {
      "metadata": {
        "id": "kHYBW9kTk3Br",
        "colab_type": "text"
      },
      "cell_type": "markdown",
      "source": [
        "#### Let's create a re-utilizable function called \"make_mlp\", where we can define the number of layers and number of hidden units per layer, whether to use batch normalization or not, the dropout rate (0 if no dropout) and we can also specify the optimizer, learning rate and the learning rate decay. \n",
        "\n",
        "#### We can then just re-utilize this \"make_mlp\" function as needed during this task 2:"
      ]
    },
    {
      "metadata": {
        "id": "qUoOnqXqkyqY",
        "colab_type": "code",
        "colab": {}
      },
      "cell_type": "code",
      "source": [
        "#from keras.optimizers import RMSprop, Adam, Adamax, Nadam\n",
        "\n",
        "def make_mlp(n_features, n_classes, hidden_units=[4],\n",
        "                     optimizer=keras.optimizers.Adam, lr=1e-3, decay=0,\n",
        "                    batchnorm=True, drop=0):\n",
        "  \"\"\"\n",
        "  Function for keras' scikit-learn classifier wrapper\n",
        "  Developed by Andres Rios, dar2196, Columbia AML HW5 Spring 2019  \n",
        "  :param n_features: Integer. Number of training features.\n",
        "  :param n_classes: Integer. Number of classes for classification.\n",
        "  :param hidden_units: List. List with number of hidden units per layer\n",
        "  :param optimizer: A kers optimizer from keras.optimizers\n",
        "  :param lr: Float. learning rate for the optimizer.\n",
        "  :param decay: Float. learning rate decay for the optimizer.\n",
        "  :param batchnorm: Boolean. True to use batchnormalization.\n",
        "  :param drop: Float. Dropout rate.\n",
        "  return: keras MLP classifier\n",
        "  \"\"\"\n",
        "  keep = 1 - drop \n",
        "  mlp = Sequential()\n",
        "  mlp.add(Dense(int(hidden_units[0]/keep), input_shape=(num_features,),\n",
        "            kernel_initializer = glorot_uniform(0)))\n",
        "  if batchnorm:\n",
        "    mlp.add(BatchNormalization())\n",
        "  mlp.add(Activation('relu'))\n",
        "  if drop > 0:\n",
        "    mlp.add(Dropout(drop, seed=0))\n",
        "  if len(hidden_units) > 1:\n",
        "    for i in range(1, len(hidden_units)):\n",
        "        mlp.add(Dense(int(hidden_units[i]/keep),\n",
        "            kernel_initializer = glorot_uniform(0)))\n",
        "        if batchnorm:\n",
        "          mlp.add(BatchNormalization())\n",
        "        mlp.add(Activation('relu'))\n",
        "        if drop > 0:\n",
        "          mlp.add(Dropout(drop, seed=0))\n",
        "  mlp.add(Dense(num_classes, activation='softmax',\n",
        "           kernel_initializer = glorot_uniform(0)))\n",
        "  if optimizer == keras.optimizers.Nadam:\n",
        "    mlp.compile(optimizer(lr=lr, schedule_decay=decay),\n",
        "                \"categorical_crossentropy\", metrics=['accuracy'])\n",
        "  else:\n",
        "    mlp.compile(optimizer(lr=lr, decay=decay), \"categorical_crossentropy\",\n",
        "              metrics=['accuracy'])\n",
        "  #mlp.summary()\n",
        "  return mlp"
      ],
      "execution_count": 0,
      "outputs": []
    },
    {
      "metadata": {
        "id": "XWc8TWCE4P1E",
        "colab_type": "text"
      },
      "cell_type": "markdown",
      "source": [
        "#### Let's tune the number of hidden layers and the number of hidden units per layer, using the small development set only, as a pre-model selection.\n",
        "\n",
        "#### For that purpose, let's first use our \"make_mlp\" function above, to create a keras' scikit-learn model wrapper where we can tune the number of layers, number of hidden units per layer and any other parameter in our \"make_mlp\" function or in the keras model of in the “fit” parameters:"
      ]
    },
    {
      "metadata": {
        "id": "uP8gEmdH4Q4H",
        "colab_type": "code",
        "outputId": "c756e3d7-b235-403b-ad7a-ea82bbc42114",
        "colab": {
          "base_uri": "https://localhost:8080/",
          "height": 51
        }
      },
      "cell_type": "code",
      "source": [
        "clf = KerasClassifier(make_mlp, n_features=num_features,\n",
        "                      n_classes=num_classes, shuffle=True, verbose=0)\n",
        "print('keras wrapper object: \\n', type(clf))"
      ],
      "execution_count": 0,
      "outputs": [
        {
          "output_type": "stream",
          "text": [
            "keras wrapper object: \n",
            " <class 'keras.wrappers.scikit_learn.KerasClassifier'>\n"
          ],
          "name": "stdout"
        }
      ]
    },
    {
      "metadata": {
        "id": "3hoTbNVS8zqQ",
        "colab_type": "text"
      },
      "cell_type": "markdown",
      "source": [
        "#### Now, let's GridSearch the number of hidden layers and the number of hidden units per layer, using the small development set only, as a pre-model selection:"
      ]
    },
    {
      "metadata": {
        "id": "5aSo8w1G1sMT",
        "colab_type": "code",
        "outputId": "4451c86f-92c9-404f-f67c-037125927c59",
        "colab": {
          "base_uri": "https://localhost:8080/",
          "height": 235
        }
      },
      "cell_type": "code",
      "source": [
        "callbacks = [EarlyStopping(monitor='val_loss', patience=10)]\n",
        "\n",
        "sss = StratifiedShuffleSplit(n_splits=1, test_size=.5, random_state=0)\n",
        "\n",
        "param_grid = {'hidden_units': [[256,256],[512,512],[256,256,256],[512,512,512],\n",
        "                              [256,256,256,256,256],[512,512,512,512,512]],\n",
        "             'epochs': [100],\n",
        "             'batch_size': [32],\n",
        "             'verbose': [0],\n",
        "             'validation_data': [(X_dev_val, y_dev_val)],\n",
        "             'callbacks': [callbacks]}\n",
        "\n",
        "grid = GridSearchCV(clf, param_grid=param_grid, cv=sss, return_train_score=True)\n",
        "grid.fit(X_dev, y_dev)\n",
        "\n",
        "results = pd.DataFrame(grid.cv_results_)\n",
        "results[[\"param_hidden_units\", 'mean_train_score', \"mean_test_score\"]]"
      ],
      "execution_count": 0,
      "outputs": [
        {
          "output_type": "execute_result",
          "data": {
            "text/html": [
              "<div>\n",
              "<style scoped>\n",
              "    .dataframe tbody tr th:only-of-type {\n",
              "        vertical-align: middle;\n",
              "    }\n",
              "\n",
              "    .dataframe tbody tr th {\n",
              "        vertical-align: top;\n",
              "    }\n",
              "\n",
              "    .dataframe thead th {\n",
              "        text-align: right;\n",
              "    }\n",
              "</style>\n",
              "<table border=\"1\" class=\"dataframe\">\n",
              "  <thead>\n",
              "    <tr style=\"text-align: right;\">\n",
              "      <th></th>\n",
              "      <th>param_hidden_units</th>\n",
              "      <th>mean_train_score</th>\n",
              "      <th>mean_test_score</th>\n",
              "    </tr>\n",
              "  </thead>\n",
              "  <tbody>\n",
              "    <tr>\n",
              "      <th>0</th>\n",
              "      <td>[256, 256]</td>\n",
              "      <td>0.9802</td>\n",
              "      <td>0.8426</td>\n",
              "    </tr>\n",
              "    <tr>\n",
              "      <th>1</th>\n",
              "      <td>[512, 512]</td>\n",
              "      <td>0.9830</td>\n",
              "      <td>0.8436</td>\n",
              "    </tr>\n",
              "    <tr>\n",
              "      <th>2</th>\n",
              "      <td>[256, 256, 256]</td>\n",
              "      <td>0.9844</td>\n",
              "      <td>0.8544</td>\n",
              "    </tr>\n",
              "    <tr>\n",
              "      <th>3</th>\n",
              "      <td>[512, 512, 512]</td>\n",
              "      <td>0.9918</td>\n",
              "      <td>0.8514</td>\n",
              "    </tr>\n",
              "    <tr>\n",
              "      <th>4</th>\n",
              "      <td>[256, 256, 256, 256, 256]</td>\n",
              "      <td>0.9622</td>\n",
              "      <td>0.8396</td>\n",
              "    </tr>\n",
              "    <tr>\n",
              "      <th>5</th>\n",
              "      <td>[512, 512, 512, 512, 512]</td>\n",
              "      <td>0.9674</td>\n",
              "      <td>0.8428</td>\n",
              "    </tr>\n",
              "  </tbody>\n",
              "</table>\n",
              "</div>"
            ],
            "text/plain": [
              "          param_hidden_units  mean_train_score  mean_test_score\n",
              "0                 [256, 256]            0.9802           0.8426\n",
              "1                 [512, 512]            0.9830           0.8436\n",
              "2            [256, 256, 256]            0.9844           0.8544\n",
              "3            [512, 512, 512]            0.9918           0.8514\n",
              "4  [256, 256, 256, 256, 256]            0.9622           0.8396\n",
              "5  [512, 512, 512, 512, 512]            0.9674           0.8428"
            ]
          },
          "metadata": {
            "tags": []
          },
          "execution_count": 16
        }
      ]
    },
    {
      "metadata": {
        "id": "x6uNPZkRcJ7H",
        "colab_type": "text"
      },
      "cell_type": "markdown",
      "source": [
        "#### From the above results, it seems the the best structure from the ones that we specified is the one with 3 hidden layers with 256 units each layer.\n",
        "\n",
        "#### We can also see that increasing the number of layers from 3 to 5, reduced validation accuracy results instead of increasing it.\n",
        "\n"
      ]
    },
    {
      "metadata": {
        "id": "LA4jAMYKdGgp",
        "colab_type": "text"
      },
      "cell_type": "markdown",
      "source": [
        "### Let's build our “vanilla” baseline model using 3 hidden layers with 256 units each:"
      ]
    },
    {
      "metadata": {
        "id": "cyn-9uOm_kDM",
        "colab_type": "code",
        "outputId": "1283fcab-c2aa-4748-fb77-4eac43cae215",
        "colab": {
          "base_uri": "https://localhost:8080/",
          "height": 374
        }
      },
      "cell_type": "code",
      "source": [
        "mlp = make_mlp(n_features=num_features, n_classes=num_classes,\n",
        "                       hidden_units=[256, 256, 256], batchnorm=False, drop=0)\n",
        "mlp.summary()"
      ],
      "execution_count": 0,
      "outputs": [
        {
          "output_type": "stream",
          "text": [
            "_________________________________________________________________\n",
            "Layer (type)                 Output Shape              Param #   \n",
            "=================================================================\n",
            "dense_38 (Dense)             (None, 256)               200960    \n",
            "_________________________________________________________________\n",
            "activation_29 (Activation)   (None, 256)               0         \n",
            "_________________________________________________________________\n",
            "dense_39 (Dense)             (None, 256)               65792     \n",
            "_________________________________________________________________\n",
            "activation_30 (Activation)   (None, 256)               0         \n",
            "_________________________________________________________________\n",
            "dense_40 (Dense)             (None, 256)               65792     \n",
            "_________________________________________________________________\n",
            "activation_31 (Activation)   (None, 256)               0         \n",
            "_________________________________________________________________\n",
            "dense_41 (Dense)             (None, 10)                2570      \n",
            "=================================================================\n",
            "Total params: 335,114\n",
            "Trainable params: 335,114\n",
            "Non-trainable params: 0\n",
            "_________________________________________________________________\n"
          ],
          "name": "stdout"
        }
      ]
    },
    {
      "metadata": {
        "colab_type": "text",
        "id": "uRzaB6S2lZtn"
      },
      "cell_type": "markdown",
      "source": [
        "#### Let's train and validate our \"vanilla\" model, using the separate 10,000 samples left as holdout validation set and  compute learning curves (accuracy vs epochs):\n"
      ]
    },
    {
      "metadata": {
        "id": "xyVh1RUo46Ne",
        "colab_type": "code",
        "outputId": "85381002-8253-47e4-d3f4-a659c161293c",
        "colab": {
          "base_uri": "https://localhost:8080/",
          "height": 2124
        }
      },
      "cell_type": "code",
      "source": [
        "history_callback = mlp.fit(X_train, y_train, batch_size=32, epochs=50,\n",
        "                           shuffle=True, verbose=1,\n",
        "                           validation_data=(X_val, y_val))\n",
        "pd.DataFrame(history_callback.history).plot(figsize=(10, 6), \n",
        "                                            title='Accuracy and Loss vs epochs')"
      ],
      "execution_count": 0,
      "outputs": [
        {
          "output_type": "stream",
          "text": [
            "Train on 50000 samples, validate on 10000 samples\n",
            "Epoch 1/50\n",
            "50000/50000 [==============================] - 8s 155us/step - loss: 0.4514 - acc: 0.8347 - val_loss: 0.3522 - val_acc: 0.8723\n",
            "Epoch 2/50\n",
            "50000/50000 [==============================] - 6s 123us/step - loss: 0.3384 - acc: 0.8763 - val_loss: 0.3476 - val_acc: 0.8746\n",
            "Epoch 3/50\n",
            "50000/50000 [==============================] - 6s 124us/step - loss: 0.2981 - acc: 0.8889 - val_loss: 0.3580 - val_acc: 0.8756\n",
            "Epoch 4/50\n",
            "50000/50000 [==============================] - 6s 125us/step - loss: 0.2692 - acc: 0.8989 - val_loss: 0.3239 - val_acc: 0.8863\n",
            "Epoch 5/50\n",
            "50000/50000 [==============================] - 6s 124us/step - loss: 0.2452 - acc: 0.9062 - val_loss: 0.3168 - val_acc: 0.8900\n",
            "Epoch 6/50\n",
            "50000/50000 [==============================] - 6s 124us/step - loss: 0.2252 - acc: 0.9145 - val_loss: 0.3259 - val_acc: 0.8937\n",
            "Epoch 7/50\n",
            "50000/50000 [==============================] - 6s 123us/step - loss: 0.2098 - acc: 0.9216 - val_loss: 0.3492 - val_acc: 0.8842\n",
            "Epoch 8/50\n",
            "50000/50000 [==============================] - 6s 124us/step - loss: 0.1940 - acc: 0.9268 - val_loss: 0.3165 - val_acc: 0.8929\n",
            "Epoch 9/50\n",
            "50000/50000 [==============================] - 6s 124us/step - loss: 0.1791 - acc: 0.9318 - val_loss: 0.3305 - val_acc: 0.8931\n",
            "Epoch 10/50\n",
            "50000/50000 [==============================] - 6s 123us/step - loss: 0.1671 - acc: 0.9354 - val_loss: 0.3662 - val_acc: 0.8888\n",
            "Epoch 11/50\n",
            "50000/50000 [==============================] - 7s 133us/step - loss: 0.1580 - acc: 0.9400 - val_loss: 0.3623 - val_acc: 0.8930\n",
            "Epoch 12/50\n",
            "50000/50000 [==============================] - 7s 140us/step - loss: 0.1461 - acc: 0.9442 - val_loss: 0.3894 - val_acc: 0.8903\n",
            "Epoch 13/50\n",
            "50000/50000 [==============================] - 6s 123us/step - loss: 0.1398 - acc: 0.9466 - val_loss: 0.4085 - val_acc: 0.8921\n",
            "Epoch 14/50\n",
            "50000/50000 [==============================] - 6s 124us/step - loss: 0.1280 - acc: 0.9515 - val_loss: 0.3981 - val_acc: 0.8972\n",
            "Epoch 15/50\n",
            "50000/50000 [==============================] - 6s 123us/step - loss: 0.1236 - acc: 0.9533 - val_loss: 0.4173 - val_acc: 0.8946\n",
            "Epoch 16/50\n",
            "50000/50000 [==============================] - 6s 123us/step - loss: 0.1153 - acc: 0.9560 - val_loss: 0.4542 - val_acc: 0.8897\n",
            "Epoch 17/50\n",
            "50000/50000 [==============================] - 6s 126us/step - loss: 0.1098 - acc: 0.9585 - val_loss: 0.4423 - val_acc: 0.8907\n",
            "Epoch 18/50\n",
            "50000/50000 [==============================] - 6s 126us/step - loss: 0.1037 - acc: 0.9609 - val_loss: 0.4765 - val_acc: 0.8939\n",
            "Epoch 19/50\n",
            "50000/50000 [==============================] - 6s 123us/step - loss: 0.0991 - acc: 0.9625 - val_loss: 0.4697 - val_acc: 0.8936\n",
            "Epoch 20/50\n",
            "50000/50000 [==============================] - 6s 124us/step - loss: 0.0961 - acc: 0.9633 - val_loss: 0.5133 - val_acc: 0.8981\n",
            "Epoch 21/50\n",
            "50000/50000 [==============================] - 6s 125us/step - loss: 0.0888 - acc: 0.9670 - val_loss: 0.5320 - val_acc: 0.8879\n",
            "Epoch 22/50\n",
            "50000/50000 [==============================] - 6s 128us/step - loss: 0.0883 - acc: 0.9672 - val_loss: 0.5098 - val_acc: 0.8930\n",
            "Epoch 23/50\n",
            "50000/50000 [==============================] - 6s 126us/step - loss: 0.0855 - acc: 0.9695 - val_loss: 0.6233 - val_acc: 0.8810\n",
            "Epoch 24/50\n",
            "50000/50000 [==============================] - 7s 140us/step - loss: 0.0775 - acc: 0.9712 - val_loss: 0.5237 - val_acc: 0.8956\n",
            "Epoch 25/50\n",
            "50000/50000 [==============================] - 7s 137us/step - loss: 0.0829 - acc: 0.9707 - val_loss: 0.5297 - val_acc: 0.8920\n",
            "Epoch 26/50\n",
            "50000/50000 [==============================] - 7s 145us/step - loss: 0.0778 - acc: 0.9719 - val_loss: 0.5430 - val_acc: 0.8945\n",
            "Epoch 27/50\n",
            "50000/50000 [==============================] - 7s 140us/step - loss: 0.0728 - acc: 0.9735 - val_loss: 0.5732 - val_acc: 0.8947\n",
            "Epoch 28/50\n",
            "50000/50000 [==============================] - 6s 126us/step - loss: 0.0684 - acc: 0.9750 - val_loss: 0.6244 - val_acc: 0.8914\n",
            "Epoch 29/50\n",
            "50000/50000 [==============================] - 6s 125us/step - loss: 0.0714 - acc: 0.9744 - val_loss: 0.6079 - val_acc: 0.8951\n",
            "Epoch 30/50\n",
            "50000/50000 [==============================] - 6s 125us/step - loss: 0.0668 - acc: 0.9764 - val_loss: 0.6081 - val_acc: 0.8932\n",
            "Epoch 31/50\n",
            "50000/50000 [==============================] - 6s 126us/step - loss: 0.0684 - acc: 0.9764 - val_loss: 0.6046 - val_acc: 0.8957\n",
            "Epoch 32/50\n",
            "50000/50000 [==============================] - 6s 124us/step - loss: 0.0618 - acc: 0.9782 - val_loss: 0.6262 - val_acc: 0.8956\n",
            "Epoch 33/50\n",
            "50000/50000 [==============================] - 6s 123us/step - loss: 0.0686 - acc: 0.9758 - val_loss: 0.6507 - val_acc: 0.8919\n",
            "Epoch 34/50\n",
            "50000/50000 [==============================] - 6s 122us/step - loss: 0.0601 - acc: 0.9787 - val_loss: 0.6103 - val_acc: 0.8958\n",
            "Epoch 35/50\n",
            "50000/50000 [==============================] - 6s 123us/step - loss: 0.0559 - acc: 0.9802 - val_loss: 0.6459 - val_acc: 0.8910\n",
            "Epoch 36/50\n",
            "50000/50000 [==============================] - 7s 130us/step - loss: 0.0590 - acc: 0.9800 - val_loss: 0.6527 - val_acc: 0.8971\n",
            "Epoch 37/50\n",
            "50000/50000 [==============================] - 7s 145us/step - loss: 0.0605 - acc: 0.9796 - val_loss: 0.6854 - val_acc: 0.8932\n",
            "Epoch 38/50\n",
            "50000/50000 [==============================] - 6s 129us/step - loss: 0.0560 - acc: 0.9809 - val_loss: 0.6615 - val_acc: 0.8964\n",
            "Epoch 39/50\n",
            "50000/50000 [==============================] - 6s 126us/step - loss: 0.0611 - acc: 0.9803 - val_loss: 0.6354 - val_acc: 0.8960\n",
            "Epoch 40/50\n",
            "50000/50000 [==============================] - 6s 125us/step - loss: 0.0511 - acc: 0.9822 - val_loss: 0.6697 - val_acc: 0.8935\n",
            "Epoch 41/50\n",
            "50000/50000 [==============================] - 6s 124us/step - loss: 0.0602 - acc: 0.9808 - val_loss: 0.6690 - val_acc: 0.8935\n",
            "Epoch 42/50\n",
            "50000/50000 [==============================] - 6s 124us/step - loss: 0.0486 - acc: 0.9838 - val_loss: 0.7283 - val_acc: 0.8936\n",
            "Epoch 43/50\n",
            "50000/50000 [==============================] - 6s 125us/step - loss: 0.0559 - acc: 0.9825 - val_loss: 0.7664 - val_acc: 0.8944\n",
            "Epoch 44/50\n",
            "50000/50000 [==============================] - 6s 126us/step - loss: 0.0519 - acc: 0.9825 - val_loss: 0.7162 - val_acc: 0.8953\n",
            "Epoch 45/50\n",
            "50000/50000 [==============================] - 6s 126us/step - loss: 0.0552 - acc: 0.9819 - val_loss: 0.6734 - val_acc: 0.8985\n",
            "Epoch 46/50\n",
            "50000/50000 [==============================] - 6s 124us/step - loss: 0.0454 - acc: 0.9846 - val_loss: 0.7605 - val_acc: 0.8905\n",
            "Epoch 47/50\n",
            "50000/50000 [==============================] - 6s 123us/step - loss: 0.0488 - acc: 0.9838 - val_loss: 0.7545 - val_acc: 0.8946\n",
            "Epoch 48/50\n",
            "50000/50000 [==============================] - 6s 123us/step - loss: 0.0534 - acc: 0.9836 - val_loss: 0.7124 - val_acc: 0.8932\n",
            "Epoch 49/50\n",
            "50000/50000 [==============================] - 7s 138us/step - loss: 0.0537 - acc: 0.9822 - val_loss: 0.7435 - val_acc: 0.8951\n",
            "Epoch 50/50\n",
            "50000/50000 [==============================] - 7s 140us/step - loss: 0.0508 - acc: 0.9842 - val_loss: 0.7146 - val_acc: 0.8927\n"
          ],
          "name": "stdout"
        },
        {
          "output_type": "execute_result",
          "data": {
            "text/plain": [
              "<matplotlib.axes._subplots.AxesSubplot at 0x7fc59c9fd9e8>"
            ]
          },
          "metadata": {
            "tags": []
          },
          "execution_count": 27
        },
        {
          "output_type": "display_data",
          "data": {
            "image/png": "[encoded data removed]",
            "text/plain": [
              "<Figure size 720x432 with 1 Axes>"
            ]
          },
          "metadata": {
            "tags": []
          }
        }
      ]
    },
    {
      "metadata": {
        "id": "lB5db8o5jMUG",
        "colab_type": "text"
      },
      "cell_type": "markdown",
      "source": [
        "### Let's build a model using drop-out (our  \"make_mlp\" function will internally increase number of units to compensate dropout rate):.\n",
        "\n",
        "#### First, let's try dropping out rate of 10% (keep 90%):"
      ]
    },
    {
      "metadata": {
        "id": "5ouiztcei4Gc",
        "colab_type": "code",
        "outputId": "a6b3e286-4b3e-419d-ae53-316743127b0b",
        "colab": {
          "base_uri": "https://localhost:8080/",
          "height": 2654
        }
      },
      "cell_type": "code",
      "source": [
        "mlp = make_mlp(n_features=num_features, n_classes=num_classes,\n",
        "                       hidden_units=[256, 256, 256], batchnorm=False, drop=0.1)\n",
        "mlp.summary()\n",
        "history_callback = mlp.fit(X_train, y_train, batch_size=32, epochs=50,\n",
        "                           shuffle=True, verbose=1,\n",
        "                           validation_data=(X_val, y_val))\n",
        "pd.DataFrame(history_callback.history).plot(figsize=(10, 6), \n",
        "                                            title='Accuracy and Loss vs epochs')"
      ],
      "execution_count": 0,
      "outputs": [
        {
          "output_type": "stream",
          "text": [
            "WARNING:tensorflow:From /usr/local/lib/python3.6/dist-packages/keras/backend/tensorflow_backend.py:3445: calling dropout (from tensorflow.python.ops.nn_ops) with keep_prob is deprecated and will be removed in a future version.\n",
            "Instructions for updating:\n",
            "Please use `rate` instead of `keep_prob`. Rate should be set to `rate = 1 - keep_prob`.\n",
            "_________________________________________________________________\n",
            "Layer (type)                 Output Shape              Param #   \n",
            "=================================================================\n",
            "dense_42 (Dense)             (None, 284)               222940    \n",
            "_________________________________________________________________\n",
            "activation_32 (Activation)   (None, 284)               0         \n",
            "_________________________________________________________________\n",
            "dropout_1 (Dropout)          (None, 284)               0         \n",
            "_________________________________________________________________\n",
            "dense_43 (Dense)             (None, 284)               80940     \n",
            "_________________________________________________________________\n",
            "activation_33 (Activation)   (None, 284)               0         \n",
            "_________________________________________________________________\n",
            "dropout_2 (Dropout)          (None, 284)               0         \n",
            "_________________________________________________________________\n",
            "dense_44 (Dense)             (None, 284)               80940     \n",
            "_________________________________________________________________\n",
            "activation_34 (Activation)   (None, 284)               0         \n",
            "_________________________________________________________________\n",
            "dropout_3 (Dropout)          (None, 284)               0         \n",
            "_________________________________________________________________\n",
            "dense_45 (Dense)             (None, 10)                2850      \n",
            "=================================================================\n",
            "Total params: 387,670\n",
            "Trainable params: 387,670\n",
            "Non-trainable params: 0\n",
            "_________________________________________________________________\n",
            "Train on 50000 samples, validate on 10000 samples\n",
            "Epoch 1/50\n",
            "50000/50000 [==============================] - 9s 178us/step - loss: 0.4757 - acc: 0.8288 - val_loss: 0.3629 - val_acc: 0.8651\n",
            "Epoch 2/50\n",
            "50000/50000 [==============================] - 7s 137us/step - loss: 0.3613 - acc: 0.8679 - val_loss: 0.3393 - val_acc: 0.8780\n",
            "Epoch 3/50\n",
            "50000/50000 [==============================] - 7s 138us/step - loss: 0.3235 - acc: 0.8806 - val_loss: 0.3341 - val_acc: 0.8807\n",
            "Epoch 4/50\n",
            "50000/50000 [==============================] - 7s 138us/step - loss: 0.3000 - acc: 0.8889 - val_loss: 0.3677 - val_acc: 0.8709\n",
            "Epoch 5/50\n",
            "50000/50000 [==============================] - 7s 138us/step - loss: 0.2856 - acc: 0.8944 - val_loss: 0.3267 - val_acc: 0.8877\n",
            "Epoch 6/50\n",
            "50000/50000 [==============================] - 7s 138us/step - loss: 0.2625 - acc: 0.9021 - val_loss: 0.3031 - val_acc: 0.8969\n",
            "Epoch 7/50\n",
            "50000/50000 [==============================] - 7s 138us/step - loss: 0.2494 - acc: 0.9056 - val_loss: 0.3071 - val_acc: 0.8930\n",
            "Epoch 8/50\n",
            "50000/50000 [==============================] - 7s 136us/step - loss: 0.2388 - acc: 0.9098 - val_loss: 0.3031 - val_acc: 0.8958\n",
            "Epoch 9/50\n",
            "50000/50000 [==============================] - 7s 134us/step - loss: 0.2269 - acc: 0.9153 - val_loss: 0.3261 - val_acc: 0.8931\n",
            "Epoch 10/50\n",
            "50000/50000 [==============================] - 7s 142us/step - loss: 0.2153 - acc: 0.9190 - val_loss: 0.3230 - val_acc: 0.8953\n",
            "Epoch 11/50\n",
            "50000/50000 [==============================] - 8s 152us/step - loss: 0.2079 - acc: 0.9219 - val_loss: 0.3019 - val_acc: 0.8972\n",
            "Epoch 12/50\n",
            "50000/50000 [==============================] - 7s 137us/step - loss: 0.1973 - acc: 0.9254 - val_loss: 0.3426 - val_acc: 0.8925\n",
            "Epoch 13/50\n",
            "50000/50000 [==============================] - 7s 135us/step - loss: 0.1892 - acc: 0.9282 - val_loss: 0.3428 - val_acc: 0.8941\n",
            "Epoch 14/50\n",
            "50000/50000 [==============================] - 7s 137us/step - loss: 0.1803 - acc: 0.9320 - val_loss: 0.3352 - val_acc: 0.8991\n",
            "Epoch 15/50\n",
            "50000/50000 [==============================] - 7s 138us/step - loss: 0.1757 - acc: 0.9341 - val_loss: 0.3433 - val_acc: 0.8995\n",
            "Epoch 16/50\n",
            "50000/50000 [==============================] - 7s 138us/step - loss: 0.1715 - acc: 0.9360 - val_loss: 0.3563 - val_acc: 0.8914\n",
            "Epoch 17/50\n",
            "50000/50000 [==============================] - 7s 137us/step - loss: 0.1636 - acc: 0.9389 - val_loss: 0.3600 - val_acc: 0.8948\n",
            "Epoch 18/50\n",
            "50000/50000 [==============================] - 7s 137us/step - loss: 0.1603 - acc: 0.9395 - val_loss: 0.3727 - val_acc: 0.8979\n",
            "Epoch 19/50\n",
            "50000/50000 [==============================] - 7s 138us/step - loss: 0.1597 - acc: 0.9407 - val_loss: 0.3629 - val_acc: 0.8975\n",
            "Epoch 20/50\n",
            "50000/50000 [==============================] - 7s 137us/step - loss: 0.1523 - acc: 0.9430 - val_loss: 0.3728 - val_acc: 0.8959\n",
            "Epoch 21/50\n",
            "50000/50000 [==============================] - 7s 138us/step - loss: 0.1457 - acc: 0.9459 - val_loss: 0.3689 - val_acc: 0.8943\n",
            "Epoch 22/50\n",
            "50000/50000 [==============================] - 8s 157us/step - loss: 0.1447 - acc: 0.9464 - val_loss: 0.3650 - val_acc: 0.8960\n",
            "Epoch 23/50\n",
            "50000/50000 [==============================] - 8s 155us/step - loss: 0.1425 - acc: 0.9468 - val_loss: 0.3689 - val_acc: 0.8939\n",
            "Epoch 24/50\n",
            "50000/50000 [==============================] - 7s 137us/step - loss: 0.1386 - acc: 0.9488 - val_loss: 0.3604 - val_acc: 0.9022\n",
            "Epoch 25/50\n",
            "50000/50000 [==============================] - 7s 137us/step - loss: 0.1345 - acc: 0.9508 - val_loss: 0.3967 - val_acc: 0.8997\n",
            "Epoch 26/50\n",
            "50000/50000 [==============================] - 7s 137us/step - loss: 0.1306 - acc: 0.9512 - val_loss: 0.4079 - val_acc: 0.8982\n",
            "Epoch 27/50\n",
            "50000/50000 [==============================] - 7s 137us/step - loss: 0.1292 - acc: 0.9523 - val_loss: 0.4242 - val_acc: 0.8953\n",
            "Epoch 28/50\n",
            "50000/50000 [==============================] - 7s 136us/step - loss: 0.1274 - acc: 0.9528 - val_loss: 0.4125 - val_acc: 0.8974\n",
            "Epoch 29/50\n",
            "50000/50000 [==============================] - 7s 134us/step - loss: 0.1172 - acc: 0.9566 - val_loss: 0.4216 - val_acc: 0.8956\n",
            "Epoch 30/50\n",
            "50000/50000 [==============================] - 7s 136us/step - loss: 0.1204 - acc: 0.9566 - val_loss: 0.4054 - val_acc: 0.8961\n",
            "Epoch 31/50\n",
            "50000/50000 [==============================] - 7s 135us/step - loss: 0.1239 - acc: 0.9556 - val_loss: 0.4112 - val_acc: 0.8993\n",
            "Epoch 32/50\n",
            "50000/50000 [==============================] - 7s 150us/step - loss: 0.1163 - acc: 0.9587 - val_loss: 0.4219 - val_acc: 0.9038\n",
            "Epoch 33/50\n",
            "50000/50000 [==============================] - 7s 140us/step - loss: 0.1112 - acc: 0.9591 - val_loss: 0.4638 - val_acc: 0.9008\n",
            "Epoch 34/50\n",
            "50000/50000 [==============================] - 8s 154us/step - loss: 0.1211 - acc: 0.9571 - val_loss: 0.4203 - val_acc: 0.8959\n",
            "Epoch 35/50\n",
            "50000/50000 [==============================] - 7s 137us/step - loss: 0.1149 - acc: 0.9589 - val_loss: 0.4499 - val_acc: 0.8956\n",
            "Epoch 36/50\n",
            "50000/50000 [==============================] - 7s 138us/step - loss: 0.1109 - acc: 0.9606 - val_loss: 0.4241 - val_acc: 0.9007\n",
            "Epoch 37/50\n",
            "50000/50000 [==============================] - 7s 138us/step - loss: 0.1067 - acc: 0.9625 - val_loss: 0.4603 - val_acc: 0.8953\n",
            "Epoch 38/50\n",
            "50000/50000 [==============================] - 7s 138us/step - loss: 0.1098 - acc: 0.9609 - val_loss: 0.5070 - val_acc: 0.8961\n",
            "Epoch 39/50\n",
            "50000/50000 [==============================] - 7s 138us/step - loss: 0.1058 - acc: 0.9623 - val_loss: 0.4630 - val_acc: 0.9004\n",
            "Epoch 40/50\n",
            "50000/50000 [==============================] - 7s 137us/step - loss: 0.1040 - acc: 0.9633 - val_loss: 0.4753 - val_acc: 0.8933\n",
            "Epoch 41/50\n",
            "50000/50000 [==============================] - 7s 139us/step - loss: 0.1001 - acc: 0.9642 - val_loss: 0.5005 - val_acc: 0.8992\n",
            "Epoch 42/50\n",
            "50000/50000 [==============================] - 7s 137us/step - loss: 0.1037 - acc: 0.9636 - val_loss: 0.4697 - val_acc: 0.8969\n",
            "Epoch 43/50\n",
            "50000/50000 [==============================] - 7s 138us/step - loss: 0.0984 - acc: 0.9642 - val_loss: 0.4919 - val_acc: 0.8956\n",
            "Epoch 44/50\n",
            "50000/50000 [==============================] - 7s 137us/step - loss: 0.0997 - acc: 0.9644 - val_loss: 0.4934 - val_acc: 0.9023\n",
            "Epoch 45/50\n",
            "50000/50000 [==============================] - 8s 154us/step - loss: 0.0927 - acc: 0.9674 - val_loss: 0.5023 - val_acc: 0.8987\n",
            "Epoch 46/50\n",
            "50000/50000 [==============================] - 7s 146us/step - loss: 0.0981 - acc: 0.9661 - val_loss: 0.4842 - val_acc: 0.8994\n",
            "Epoch 47/50\n",
            "50000/50000 [==============================] - 7s 138us/step - loss: 0.0977 - acc: 0.9662 - val_loss: 0.4957 - val_acc: 0.8991\n",
            "Epoch 48/50\n",
            "50000/50000 [==============================] - 7s 137us/step - loss: 0.0924 - acc: 0.9673 - val_loss: 0.4963 - val_acc: 0.8956\n",
            "Epoch 49/50\n",
            "50000/50000 [==============================] - 7s 137us/step - loss: 0.0950 - acc: 0.9679 - val_loss: 0.5107 - val_acc: 0.8989\n",
            "Epoch 50/50\n",
            "50000/50000 [==============================] - 7s 137us/step - loss: 0.0858 - acc: 0.9694 - val_loss: 0.5148 - val_acc: 0.8996\n"
          ],
          "name": "stdout"
        },
        {
          "output_type": "execute_result",
          "data": {
            "text/plain": [
              "<matplotlib.axes._subplots.AxesSubplot at 0x7fc59c2412e8>"
            ]
          },
          "metadata": {
            "tags": []
          },
          "execution_count": 28
        },
        {
          "output_type": "display_data",
          "data": {
            "image/png": "[encoded data removed]",
            "text/plain": [
              "<Figure size 720x432 with 1 Axes>"
            ]
          },
          "metadata": {
            "tags": []
          }
        }
      ]
    },
    {
      "metadata": {
        "colab_type": "text",
        "id": "dZ_catGOlZt4"
      },
      "cell_type": "markdown",
      "source": [
        "#### Looking at the above results and learning curves, we can see that whithout dropout, our model was highly ovefitting while a dropout of rate of just 10% helped to regularize our model thus visibly reducing overfitting and also improved validation accuracy results.\n",
        "\n",
        "#### Let's now try dropping out rate of 30% (keep 70%): "
      ]
    },
    {
      "metadata": {
        "id": "WHxi0P5KKq8F",
        "colab_type": "code",
        "outputId": "69a52e79-e3e3-439f-8cd6-3cbf3f081be1",
        "colab": {
          "base_uri": "https://localhost:8080/",
          "height": 2583
        }
      },
      "cell_type": "code",
      "source": [
        "mlp = make_mlp(n_features=num_features, n_classes=num_classes,\n",
        "                       hidden_units=[256, 256, 256], batchnorm=False, drop=0.3)\n",
        "mlp.summary()\n",
        "history_callback = mlp.fit(X_train, y_train, batch_size=32, epochs=50,\n",
        "                           shuffle=True, verbose=1,\n",
        "                           validation_data=(X_val, y_val))\n",
        "pd.DataFrame(history_callback.history).plot(figsize=(10, 6), \n",
        "                                            title='Accuracy and Loss vs epochs')"
      ],
      "execution_count": 0,
      "outputs": [
        {
          "output_type": "stream",
          "text": [
            "_________________________________________________________________\n",
            "Layer (type)                 Output Shape              Param #   \n",
            "=================================================================\n",
            "dense_50 (Dense)             (None, 365)               286525    \n",
            "_________________________________________________________________\n",
            "activation_38 (Activation)   (None, 365)               0         \n",
            "_________________________________________________________________\n",
            "dropout_7 (Dropout)          (None, 365)               0         \n",
            "_________________________________________________________________\n",
            "dense_51 (Dense)             (None, 365)               133590    \n",
            "_________________________________________________________________\n",
            "activation_39 (Activation)   (None, 365)               0         \n",
            "_________________________________________________________________\n",
            "dropout_8 (Dropout)          (None, 365)               0         \n",
            "_________________________________________________________________\n",
            "dense_52 (Dense)             (None, 365)               133590    \n",
            "_________________________________________________________________\n",
            "activation_40 (Activation)   (None, 365)               0         \n",
            "_________________________________________________________________\n",
            "dropout_9 (Dropout)          (None, 365)               0         \n",
            "_________________________________________________________________\n",
            "dense_53 (Dense)             (None, 10)                3660      \n",
            "=================================================================\n",
            "Total params: 557,365\n",
            "Trainable params: 557,365\n",
            "Non-trainable params: 0\n",
            "_________________________________________________________________\n",
            "Train on 50000 samples, validate on 10000 samples\n",
            "Epoch 1/50\n",
            "50000/50000 [==============================] - 9s 185us/step - loss: 0.5329 - acc: 0.8108 - val_loss: 0.3805 - val_acc: 0.8655\n",
            "Epoch 2/50\n",
            "50000/50000 [==============================] - 8s 152us/step - loss: 0.4188 - acc: 0.8513 - val_loss: 0.3489 - val_acc: 0.8722\n",
            "Epoch 3/50\n",
            "50000/50000 [==============================] - 7s 136us/step - loss: 0.3818 - acc: 0.8630 - val_loss: 0.3315 - val_acc: 0.8799\n",
            "Epoch 4/50\n",
            "50000/50000 [==============================] - 7s 136us/step - loss: 0.3596 - acc: 0.8697 - val_loss: 0.3418 - val_acc: 0.8697\n",
            "Epoch 5/50\n",
            "50000/50000 [==============================] - 7s 136us/step - loss: 0.3431 - acc: 0.8750 - val_loss: 0.3316 - val_acc: 0.8811\n",
            "Epoch 6/50\n",
            "50000/50000 [==============================] - 7s 137us/step - loss: 0.3340 - acc: 0.8790 - val_loss: 0.3154 - val_acc: 0.8818\n",
            "Epoch 7/50\n",
            "50000/50000 [==============================] - 7s 136us/step - loss: 0.3204 - acc: 0.8842 - val_loss: 0.3361 - val_acc: 0.8780\n",
            "Epoch 8/50\n",
            "50000/50000 [==============================] - 7s 136us/step - loss: 0.3155 - acc: 0.8859 - val_loss: 0.3135 - val_acc: 0.8896\n",
            "Epoch 9/50\n",
            "50000/50000 [==============================] - 7s 136us/step - loss: 0.3079 - acc: 0.8880 - val_loss: 0.3153 - val_acc: 0.8897\n",
            "Epoch 10/50\n",
            "50000/50000 [==============================] - 8s 162us/step - loss: 0.2998 - acc: 0.8910 - val_loss: 0.3239 - val_acc: 0.8881\n",
            "Epoch 11/50\n",
            "50000/50000 [==============================] - 7s 145us/step - loss: 0.2894 - acc: 0.8944 - val_loss: 0.3096 - val_acc: 0.8903\n",
            "Epoch 12/50\n",
            "50000/50000 [==============================] - 7s 139us/step - loss: 0.2871 - acc: 0.8946 - val_loss: 0.3105 - val_acc: 0.8878\n",
            "Epoch 13/50\n",
            "50000/50000 [==============================] - 8s 155us/step - loss: 0.2854 - acc: 0.8966 - val_loss: 0.3201 - val_acc: 0.8908\n",
            "Epoch 14/50\n",
            "50000/50000 [==============================] - 7s 140us/step - loss: 0.2730 - acc: 0.8996 - val_loss: 0.3146 - val_acc: 0.8893\n",
            "Epoch 15/50\n",
            "50000/50000 [==============================] - 7s 137us/step - loss: 0.2724 - acc: 0.9016 - val_loss: 0.3566 - val_acc: 0.8770\n",
            "Epoch 16/50\n",
            "50000/50000 [==============================] - 7s 136us/step - loss: 0.2672 - acc: 0.9019 - val_loss: 0.3114 - val_acc: 0.8958\n",
            "Epoch 17/50\n",
            "50000/50000 [==============================] - 7s 139us/step - loss: 0.2617 - acc: 0.9055 - val_loss: 0.3082 - val_acc: 0.8899\n",
            "Epoch 18/50\n",
            "50000/50000 [==============================] - 7s 150us/step - loss: 0.2605 - acc: 0.9062 - val_loss: 0.3292 - val_acc: 0.8867\n",
            "Epoch 19/50\n",
            "50000/50000 [==============================] - 7s 137us/step - loss: 0.2565 - acc: 0.9068 - val_loss: 0.3060 - val_acc: 0.8941\n",
            "Epoch 20/50\n",
            "50000/50000 [==============================] - 7s 136us/step - loss: 0.2496 - acc: 0.9103 - val_loss: 0.3101 - val_acc: 0.8899\n",
            "Epoch 21/50\n",
            "50000/50000 [==============================] - 7s 136us/step - loss: 0.2515 - acc: 0.9093 - val_loss: 0.2998 - val_acc: 0.8985\n",
            "Epoch 22/50\n",
            "50000/50000 [==============================] - 7s 137us/step - loss: 0.2466 - acc: 0.9130 - val_loss: 0.3286 - val_acc: 0.8886\n",
            "Epoch 23/50\n",
            "50000/50000 [==============================] - 7s 138us/step - loss: 0.2410 - acc: 0.9119 - val_loss: 0.3378 - val_acc: 0.8873\n",
            "Epoch 24/50\n",
            "50000/50000 [==============================] - 7s 149us/step - loss: 0.2450 - acc: 0.9123 - val_loss: 0.3186 - val_acc: 0.8914\n",
            "Epoch 25/50\n",
            "50000/50000 [==============================] - 7s 149us/step - loss: 0.2394 - acc: 0.9139 - val_loss: 0.3059 - val_acc: 0.8956\n",
            "Epoch 26/50\n",
            "50000/50000 [==============================] - 7s 136us/step - loss: 0.2338 - acc: 0.9170 - val_loss: 0.3145 - val_acc: 0.8982\n",
            "Epoch 27/50\n",
            "50000/50000 [==============================] - 7s 136us/step - loss: 0.2341 - acc: 0.9161 - val_loss: 0.3166 - val_acc: 0.8932\n",
            "Epoch 28/50\n",
            "50000/50000 [==============================] - 7s 137us/step - loss: 0.2270 - acc: 0.9191 - val_loss: 0.3145 - val_acc: 0.9007\n",
            "Epoch 29/50\n",
            "50000/50000 [==============================] - 7s 136us/step - loss: 0.2287 - acc: 0.9179 - val_loss: 0.3103 - val_acc: 0.8983\n",
            "Epoch 30/50\n",
            "50000/50000 [==============================] - 7s 137us/step - loss: 0.2248 - acc: 0.9201 - val_loss: 0.3207 - val_acc: 0.8974\n",
            "Epoch 31/50\n",
            "50000/50000 [==============================] - 7s 136us/step - loss: 0.2228 - acc: 0.9210 - val_loss: 0.3196 - val_acc: 0.8980\n",
            "Epoch 32/50\n",
            "50000/50000 [==============================] - 7s 137us/step - loss: 0.2252 - acc: 0.9205 - val_loss: 0.3245 - val_acc: 0.8968\n",
            "Epoch 33/50\n",
            "50000/50000 [==============================] - 7s 136us/step - loss: 0.2186 - acc: 0.9232 - val_loss: 0.3181 - val_acc: 0.8970\n",
            "Epoch 34/50\n",
            "50000/50000 [==============================] - 7s 136us/step - loss: 0.2204 - acc: 0.9226 - val_loss: 0.3226 - val_acc: 0.8998\n",
            "Epoch 35/50\n",
            "50000/50000 [==============================] - 7s 137us/step - loss: 0.2203 - acc: 0.9227 - val_loss: 0.3205 - val_acc: 0.9002\n",
            "Epoch 36/50\n",
            "50000/50000 [==============================] - 8s 156us/step - loss: 0.2076 - acc: 0.9261 - val_loss: 0.3339 - val_acc: 0.8938\n",
            "Epoch 37/50\n",
            "50000/50000 [==============================] - 7s 142us/step - loss: 0.2115 - acc: 0.9254 - val_loss: 0.3169 - val_acc: 0.8969\n",
            "Epoch 38/50\n",
            "50000/50000 [==============================] - 7s 136us/step - loss: 0.2111 - acc: 0.9273 - val_loss: 0.3248 - val_acc: 0.9020\n",
            "Epoch 39/50\n",
            "50000/50000 [==============================] - 7s 137us/step - loss: 0.2031 - acc: 0.9289 - val_loss: 0.3272 - val_acc: 0.9006\n",
            "Epoch 40/50\n",
            "50000/50000 [==============================] - 7s 138us/step - loss: 0.2055 - acc: 0.9285 - val_loss: 0.3368 - val_acc: 0.8989\n",
            "Epoch 41/50\n",
            "50000/50000 [==============================] - 7s 138us/step - loss: 0.2025 - acc: 0.9280 - val_loss: 0.3315 - val_acc: 0.8984\n",
            "Epoch 42/50\n",
            "50000/50000 [==============================] - 7s 138us/step - loss: 0.2029 - acc: 0.9297 - val_loss: 0.3254 - val_acc: 0.9009\n",
            "Epoch 43/50\n",
            "50000/50000 [==============================] - 7s 137us/step - loss: 0.2070 - acc: 0.9281 - val_loss: 0.3219 - val_acc: 0.8971\n",
            "Epoch 44/50\n",
            "50000/50000 [==============================] - 7s 136us/step - loss: 0.1982 - acc: 0.9308 - val_loss: 0.3402 - val_acc: 0.9017\n",
            "Epoch 45/50\n",
            "50000/50000 [==============================] - 7s 137us/step - loss: 0.1995 - acc: 0.9315 - val_loss: 0.3379 - val_acc: 0.9022\n",
            "Epoch 46/50\n",
            "50000/50000 [==============================] - 7s 138us/step - loss: 0.2048 - acc: 0.9298 - val_loss: 0.3358 - val_acc: 0.8997\n",
            "Epoch 47/50\n",
            "50000/50000 [==============================] - 7s 145us/step - loss: 0.1936 - acc: 0.9330 - val_loss: 0.3352 - val_acc: 0.8952\n",
            "Epoch 48/50\n",
            "50000/50000 [==============================] - 8s 153us/step - loss: 0.2065 - acc: 0.9307 - val_loss: 0.3258 - val_acc: 0.9020\n",
            "Epoch 49/50\n",
            "50000/50000 [==============================] - 7s 138us/step - loss: 0.1899 - acc: 0.9333 - val_loss: 0.3522 - val_acc: 0.8985\n",
            "Epoch 50/50\n",
            "50000/50000 [==============================] - 7s 137us/step - loss: 0.1894 - acc: 0.9331 - val_loss: 0.3563 - val_acc: 0.9016\n"
          ],
          "name": "stdout"
        },
        {
          "output_type": "execute_result",
          "data": {
            "text/plain": [
              "<matplotlib.axes._subplots.AxesSubplot at 0x7fc59b58a3c8>"
            ]
          },
          "metadata": {
            "tags": []
          },
          "execution_count": 30
        },
        {
          "output_type": "display_data",
          "data": {
            "image/png": "[encoded data removed]",
            "text/plain": [
              "<Figure size 720x432 with 1 Axes>"
            ]
          },
          "metadata": {
            "tags": []
          }
        }
      ]
    },
    {
      "metadata": {
        "colab_type": "text",
        "id": "DXpHgrjPlZuB"
      },
      "cell_type": "markdown",
      "source": [
        "#### As we can see, increasing the dropout rate from 10% to 30%, increased regularization thus reducing overfitting, even more, without decreasing validation accuracy results."
      ]
    },
    {
      "metadata": {
        "id": "wJtFYOnJFc2j",
        "colab_type": "text"
      },
      "cell_type": "markdown",
      "source": [
        "### Now, let's build a model using batch-normalization (but not dropout): "
      ]
    },
    {
      "metadata": {
        "id": "79Ot5Egagejq",
        "colab_type": "code",
        "outputId": "742d70e3-debc-4184-c9e3-1ee1c6a44a16",
        "colab": {
          "base_uri": "https://localhost:8080/",
          "height": 476
        }
      },
      "cell_type": "code",
      "source": [
        "mlp = make_mlp(n_features=num_features, n_classes=num_classes,\n",
        "                       hidden_units=[256, 256, 256], batchnorm=True, drop=0)\n",
        "mlp.summary()"
      ],
      "execution_count": 0,
      "outputs": [
        {
          "output_type": "stream",
          "text": [
            "_________________________________________________________________\n",
            "Layer (type)                 Output Shape              Param #   \n",
            "=================================================================\n",
            "dense_54 (Dense)             (None, 256)               200960    \n",
            "_________________________________________________________________\n",
            "batch_normalization_26 (Batc (None, 256)               1024      \n",
            "_________________________________________________________________\n",
            "activation_41 (Activation)   (None, 256)               0         \n",
            "_________________________________________________________________\n",
            "dense_55 (Dense)             (None, 256)               65792     \n",
            "_________________________________________________________________\n",
            "batch_normalization_27 (Batc (None, 256)               1024      \n",
            "_________________________________________________________________\n",
            "activation_42 (Activation)   (None, 256)               0         \n",
            "_________________________________________________________________\n",
            "dense_56 (Dense)             (None, 256)               65792     \n",
            "_________________________________________________________________\n",
            "batch_normalization_28 (Batc (None, 256)               1024      \n",
            "_________________________________________________________________\n",
            "activation_43 (Activation)   (None, 256)               0         \n",
            "_________________________________________________________________\n",
            "dense_57 (Dense)             (None, 10)                2570      \n",
            "=================================================================\n",
            "Total params: 338,186\n",
            "Trainable params: 336,650\n",
            "Non-trainable params: 1,536\n",
            "_________________________________________________________________\n"
          ],
          "name": "stdout"
        }
      ]
    },
    {
      "metadata": {
        "colab_type": "text",
        "id": "LKixtJl4lZuJ"
      },
      "cell_type": "markdown",
      "source": [
        "#### Let's train and validate our batch-normalization model:"
      ]
    },
    {
      "metadata": {
        "id": "5ZUhGgQyDtIU",
        "colab_type": "code",
        "outputId": "374b7279-ccdd-4e70-f6bc-d51ef01bc3cf",
        "colab": {
          "base_uri": "https://localhost:8080/",
          "height": 2124
        }
      },
      "cell_type": "code",
      "source": [
        "history_callback = mlp.fit(X_train, y_train, batch_size=32, epochs=50,\n",
        "                           shuffle=True, verbose=1,\n",
        "                           validation_data=(X_val, y_val))\n",
        "pd.DataFrame(history_callback.history).plot(figsize=(10, 6), \n",
        "                                            title='Accuracy and Loss vs epochs')"
      ],
      "execution_count": 0,
      "outputs": [
        {
          "output_type": "stream",
          "text": [
            "Train on 50000 samples, validate on 10000 samples\n",
            "Epoch 1/50\n",
            "50000/50000 [==============================] - 14s 280us/step - loss: 0.4791 - acc: 0.8266 - val_loss: 0.3535 - val_acc: 0.8697\n",
            "Epoch 2/50\n",
            "50000/50000 [==============================] - 13s 250us/step - loss: 0.3690 - acc: 0.8636 - val_loss: 0.3354 - val_acc: 0.8759\n",
            "Epoch 3/50\n",
            "50000/50000 [==============================] - 13s 250us/step - loss: 0.3293 - acc: 0.8772 - val_loss: 0.3150 - val_acc: 0.8838\n",
            "Epoch 4/50\n",
            "50000/50000 [==============================] - 12s 234us/step - loss: 0.3021 - acc: 0.8870 - val_loss: 0.3192 - val_acc: 0.8848\n",
            "Epoch 5/50\n",
            "50000/50000 [==============================] - 13s 260us/step - loss: 0.2831 - acc: 0.8935 - val_loss: 0.3103 - val_acc: 0.8888\n",
            "Epoch 6/50\n",
            "50000/50000 [==============================] - 12s 242us/step - loss: 0.2632 - acc: 0.8997 - val_loss: 0.2987 - val_acc: 0.8928\n",
            "Epoch 7/50\n",
            "50000/50000 [==============================] - 12s 240us/step - loss: 0.2481 - acc: 0.9068 - val_loss: 0.2852 - val_acc: 0.9002\n",
            "Epoch 8/50\n",
            "50000/50000 [==============================] - 12s 234us/step - loss: 0.2282 - acc: 0.9136 - val_loss: 0.3045 - val_acc: 0.8917\n",
            "Epoch 9/50\n",
            "50000/50000 [==============================] - 12s 236us/step - loss: 0.2210 - acc: 0.9155 - val_loss: 0.3000 - val_acc: 0.8946\n",
            "Epoch 10/50\n",
            "50000/50000 [==============================] - 12s 235us/step - loss: 0.2058 - acc: 0.9219 - val_loss: 0.2914 - val_acc: 0.8996\n",
            "Epoch 11/50\n",
            "50000/50000 [==============================] - 12s 234us/step - loss: 0.1971 - acc: 0.9245 - val_loss: 0.2901 - val_acc: 0.8975\n",
            "Epoch 12/50\n",
            "50000/50000 [==============================] - 13s 259us/step - loss: 0.1863 - acc: 0.9289 - val_loss: 0.3163 - val_acc: 0.8918\n",
            "Epoch 13/50\n",
            "50000/50000 [==============================] - 12s 233us/step - loss: 0.1770 - acc: 0.9324 - val_loss: 0.3057 - val_acc: 0.8957\n",
            "Epoch 14/50\n",
            "50000/50000 [==============================] - 12s 232us/step - loss: 0.1694 - acc: 0.9345 - val_loss: 0.3162 - val_acc: 0.8940\n",
            "Epoch 15/50\n",
            "50000/50000 [==============================] - 12s 234us/step - loss: 0.1593 - acc: 0.9392 - val_loss: 0.3163 - val_acc: 0.8958\n",
            "Epoch 16/50\n",
            "50000/50000 [==============================] - 12s 234us/step - loss: 0.1537 - acc: 0.9412 - val_loss: 0.3374 - val_acc: 0.8934\n",
            "Epoch 17/50\n",
            "50000/50000 [==============================] - 12s 234us/step - loss: 0.1480 - acc: 0.9430 - val_loss: 0.3257 - val_acc: 0.8971\n",
            "Epoch 18/50\n",
            "50000/50000 [==============================] - 12s 240us/step - loss: 0.1406 - acc: 0.9452 - val_loss: 0.3124 - val_acc: 0.9017\n",
            "Epoch 19/50\n",
            "50000/50000 [==============================] - 13s 253us/step - loss: 0.1351 - acc: 0.9483 - val_loss: 0.3300 - val_acc: 0.8960\n",
            "Epoch 20/50\n",
            "50000/50000 [==============================] - 12s 232us/step - loss: 0.1297 - acc: 0.9499 - val_loss: 0.3349 - val_acc: 0.8980\n",
            "Epoch 21/50\n",
            "50000/50000 [==============================] - 12s 233us/step - loss: 0.1211 - acc: 0.9541 - val_loss: 0.3378 - val_acc: 0.8977\n",
            "Epoch 22/50\n",
            "50000/50000 [==============================] - 12s 236us/step - loss: 0.1150 - acc: 0.9558 - val_loss: 0.3425 - val_acc: 0.8966\n",
            "Epoch 23/50\n",
            "50000/50000 [==============================] - 12s 233us/step - loss: 0.1119 - acc: 0.9577 - val_loss: 0.3597 - val_acc: 0.8930\n",
            "Epoch 24/50\n",
            "50000/50000 [==============================] - 12s 236us/step - loss: 0.1093 - acc: 0.9583 - val_loss: 0.3438 - val_acc: 0.9016\n",
            "Epoch 25/50\n",
            "50000/50000 [==============================] - 13s 250us/step - loss: 0.1048 - acc: 0.9603 - val_loss: 0.3543 - val_acc: 0.8994\n",
            "Epoch 26/50\n",
            "50000/50000 [==============================] - 12s 243us/step - loss: 0.0987 - acc: 0.9622 - val_loss: 0.3902 - val_acc: 0.8940\n",
            "Epoch 27/50\n",
            "50000/50000 [==============================] - 12s 233us/step - loss: 0.0970 - acc: 0.9631 - val_loss: 0.3732 - val_acc: 0.9061\n",
            "Epoch 28/50\n",
            "50000/50000 [==============================] - 13s 253us/step - loss: 0.0939 - acc: 0.9650 - val_loss: 0.3808 - val_acc: 0.8957\n",
            "Epoch 29/50\n",
            "50000/50000 [==============================] - 12s 248us/step - loss: 0.0944 - acc: 0.9642 - val_loss: 0.3730 - val_acc: 0.9020\n",
            "Epoch 30/50\n",
            "50000/50000 [==============================] - 12s 232us/step - loss: 0.0885 - acc: 0.9653 - val_loss: 0.3876 - val_acc: 0.8973\n",
            "Epoch 31/50\n",
            "50000/50000 [==============================] - 12s 233us/step - loss: 0.0882 - acc: 0.9671 - val_loss: 0.4082 - val_acc: 0.8933\n",
            "Epoch 32/50\n",
            "50000/50000 [==============================] - 13s 262us/step - loss: 0.0839 - acc: 0.9676 - val_loss: 0.4084 - val_acc: 0.8970\n",
            "Epoch 33/50\n",
            "50000/50000 [==============================] - 12s 233us/step - loss: 0.0819 - acc: 0.9686 - val_loss: 0.3898 - val_acc: 0.9000\n",
            "Epoch 34/50\n",
            "50000/50000 [==============================] - 12s 234us/step - loss: 0.0795 - acc: 0.9704 - val_loss: 0.3986 - val_acc: 0.9005\n",
            "Epoch 35/50\n",
            "50000/50000 [==============================] - 12s 231us/step - loss: 0.0754 - acc: 0.9713 - val_loss: 0.4221 - val_acc: 0.8970\n",
            "Epoch 36/50\n",
            "50000/50000 [==============================] - 12s 232us/step - loss: 0.0762 - acc: 0.9705 - val_loss: 0.3983 - val_acc: 0.8966\n",
            "Epoch 37/50\n",
            "50000/50000 [==============================] - 12s 234us/step - loss: 0.0728 - acc: 0.9723 - val_loss: 0.4352 - val_acc: 0.8934\n",
            "Epoch 38/50\n",
            "50000/50000 [==============================] - 12s 233us/step - loss: 0.0690 - acc: 0.9738 - val_loss: 0.4148 - val_acc: 0.8987\n",
            "Epoch 39/50\n",
            "50000/50000 [==============================] - 13s 260us/step - loss: 0.0705 - acc: 0.9735 - val_loss: 0.4026 - val_acc: 0.9007\n",
            "Epoch 40/50\n",
            "50000/50000 [==============================] - 12s 232us/step - loss: 0.0681 - acc: 0.9748 - val_loss: 0.4223 - val_acc: 0.8967\n",
            "Epoch 41/50\n",
            "50000/50000 [==============================] - 12s 231us/step - loss: 0.0633 - acc: 0.9763 - val_loss: 0.4263 - val_acc: 0.9011\n",
            "Epoch 42/50\n",
            "50000/50000 [==============================] - 12s 233us/step - loss: 0.0639 - acc: 0.9764 - val_loss: 0.4449 - val_acc: 0.8960\n",
            "Epoch 43/50\n",
            "50000/50000 [==============================] - 12s 231us/step - loss: 0.0625 - acc: 0.9766 - val_loss: 0.4705 - val_acc: 0.8971\n",
            "Epoch 44/50\n",
            "50000/50000 [==============================] - 12s 234us/step - loss: 0.0629 - acc: 0.9763 - val_loss: 0.4370 - val_acc: 0.8985\n",
            "Epoch 45/50\n",
            "50000/50000 [==============================] - 12s 239us/step - loss: 0.0566 - acc: 0.9789 - val_loss: 0.4532 - val_acc: 0.8988\n",
            "Epoch 46/50\n",
            "50000/50000 [==============================] - 13s 254us/step - loss: 0.0595 - acc: 0.9774 - val_loss: 0.4536 - val_acc: 0.9000\n",
            "Epoch 47/50\n",
            "50000/50000 [==============================] - 12s 232us/step - loss: 0.0565 - acc: 0.9787 - val_loss: 0.4610 - val_acc: 0.8978\n",
            "Epoch 48/50\n",
            "50000/50000 [==============================] - 12s 231us/step - loss: 0.0568 - acc: 0.9786 - val_loss: 0.4294 - val_acc: 0.9010\n",
            "Epoch 49/50\n",
            "50000/50000 [==============================] - 12s 234us/step - loss: 0.0531 - acc: 0.9804 - val_loss: 0.4598 - val_acc: 0.9006\n",
            "Epoch 50/50\n",
            "50000/50000 [==============================] - 12s 234us/step - loss: 0.0551 - acc: 0.9795 - val_loss: 0.4446 - val_acc: 0.9039\n"
          ],
          "name": "stdout"
        },
        {
          "output_type": "execute_result",
          "data": {
            "text/plain": [
              "<matplotlib.axes._subplots.AxesSubplot at 0x7fc59a5d4f60>"
            ]
          },
          "metadata": {
            "tags": []
          },
          "execution_count": 32
        },
        {
          "output_type": "display_data",
          "data": {
            "image/png": "[encoded data removed]",
            "text/plain": [
              "<Figure size 720x432 with 1 Axes>"
            ]
          },
          "metadata": {
            "tags": []
          }
        }
      ]
    },
    {
      "metadata": {
        "colab_type": "text",
        "id": "lCKCEEqTlZuQ"
      },
      "cell_type": "markdown",
      "source": [
        "#### Looking at the above results and learning curves, we can see that, similarly to using a dropout rate of 10%, when compared to our 'vanilla' model, batch-normalization helped to regularize our model thus reducing overfitting and also improved validation accuracy results."
      ]
    },
    {
      "metadata": {
        "id": "eENrKq5OkjVw",
        "colab_type": "text"
      },
      "cell_type": "markdown",
      "source": [
        "### Now, let's build the same 3-layers model, using both batch normalization and residual connections (but not dropout):"
      ]
    },
    {
      "metadata": {
        "id": "ScAfOYYpEdn9",
        "colab_type": "code",
        "outputId": "3b5ed395-b916-41e0-9cd7-c418e6f9d5fb",
        "colab": {
          "base_uri": "https://localhost:8080/",
          "height": 561
        }
      },
      "cell_type": "code",
      "source": [
        "#from keras.models import Model\n",
        "#from keras.layers import Input\n",
        "\n",
        "inputs = Input(shape=(num_features,))\n",
        "\n",
        "res = Dense(256, kernel_initializer = glorot_uniform(0))(inputs)\n",
        "bn = BatchNormalization()(res)\n",
        "relu = Activation(\"relu\")(bn)\n",
        "\n",
        "dense = Dense(256, kernel_initializer = glorot_uniform(0))(relu)\n",
        "bn = BatchNormalization()(dense)\n",
        "relu = Activation(\"relu\")(bn)\n",
        "\n",
        "dense = Dense(256, kernel_initializer = glorot_uniform(0))(relu)\n",
        "add = keras.layers.add([res, dense])\n",
        "bn = BatchNormalization()(add)\n",
        "relu = Activation(\"relu\")(bn)\n",
        "\n",
        "out = Dense(num_classes, activation='softmax')(relu)\n",
        "\n",
        "mlp = Model(inputs=inputs, outputs=out)\n",
        "mlp.compile(\"adam\", \"categorical_crossentropy\", metrics=['accuracy'])\n",
        "\n",
        "mlp.summary()"
      ],
      "execution_count": 0,
      "outputs": [
        {
          "output_type": "stream",
          "text": [
            "__________________________________________________________________________________________________\n",
            "Layer (type)                    Output Shape         Param #     Connected to                     \n",
            "==================================================================================================\n",
            "input_1 (InputLayer)            (None, 784)          0                                            \n",
            "__________________________________________________________________________________________________\n",
            "dense_58 (Dense)                (None, 256)          200960      input_1[0][0]                    \n",
            "__________________________________________________________________________________________________\n",
            "batch_normalization_29 (BatchNo (None, 256)          1024        dense_58[0][0]                   \n",
            "__________________________________________________________________________________________________\n",
            "activation_44 (Activation)      (None, 256)          0           batch_normalization_29[0][0]     \n",
            "__________________________________________________________________________________________________\n",
            "dense_59 (Dense)                (None, 256)          65792       activation_44[0][0]              \n",
            "__________________________________________________________________________________________________\n",
            "batch_normalization_30 (BatchNo (None, 256)          1024        dense_59[0][0]                   \n",
            "__________________________________________________________________________________________________\n",
            "activation_45 (Activation)      (None, 256)          0           batch_normalization_30[0][0]     \n",
            "__________________________________________________________________________________________________\n",
            "dense_60 (Dense)                (None, 256)          65792       activation_45[0][0]              \n",
            "__________________________________________________________________________________________________\n",
            "add_1 (Add)                     (None, 256)          0           dense_58[0][0]                   \n",
            "                                                                 dense_60[0][0]                   \n",
            "__________________________________________________________________________________________________\n",
            "batch_normalization_31 (BatchNo (None, 256)          1024        add_1[0][0]                      \n",
            "__________________________________________________________________________________________________\n",
            "activation_46 (Activation)      (None, 256)          0           batch_normalization_31[0][0]     \n",
            "__________________________________________________________________________________________________\n",
            "dense_61 (Dense)                (None, 10)           2570        activation_46[0][0]              \n",
            "==================================================================================================\n",
            "Total params: 338,186\n",
            "Trainable params: 336,650\n",
            "Non-trainable params: 1,536\n",
            "__________________________________________________________________________________________________\n"
          ],
          "name": "stdout"
        }
      ]
    },
    {
      "metadata": {
        "id": "3YIjMU8uLcC4",
        "colab_type": "text"
      },
      "cell_type": "markdown",
      "source": [
        "#### Let's train and validate our batch-normalization and residual connections model:"
      ]
    },
    {
      "metadata": {
        "id": "T0_8jByXT6AI",
        "colab_type": "code",
        "outputId": "5b6513d0-9d20-4955-a2f1-38535cb42e78",
        "colab": {
          "base_uri": "https://localhost:8080/",
          "height": 2124
        }
      },
      "cell_type": "code",
      "source": [
        "history_callback = mlp.fit(X_train, y_train, batch_size=32, epochs=50,\n",
        "                           shuffle=True, verbose=1,\n",
        "                           validation_data=(X_val, y_val))\n",
        "pd.DataFrame(history_callback.history).plot(figsize=(10, 6), \n",
        "                                            title='Accuracy and Loss vs epochs')"
      ],
      "execution_count": 0,
      "outputs": [
        {
          "output_type": "stream",
          "text": [
            "Train on 50000 samples, validate on 10000 samples\n",
            "Epoch 1/50\n",
            "50000/50000 [==============================] - 14s 289us/step - loss: 0.4678 - acc: 0.8296 - val_loss: 0.3646 - val_acc: 0.8647\n",
            "Epoch 2/50\n",
            "50000/50000 [==============================] - 13s 263us/step - loss: 0.3600 - acc: 0.8676 - val_loss: 0.3288 - val_acc: 0.8801\n",
            "Epoch 3/50\n",
            "50000/50000 [==============================] - 12s 235us/step - loss: 0.3219 - acc: 0.8807 - val_loss: 0.3151 - val_acc: 0.8846\n",
            "Epoch 4/50\n",
            "50000/50000 [==============================] - 13s 269us/step - loss: 0.2934 - acc: 0.8910 - val_loss: 0.3058 - val_acc: 0.8904\n",
            "Epoch 5/50\n",
            "50000/50000 [==============================] - 12s 235us/step - loss: 0.2750 - acc: 0.8959 - val_loss: 0.2923 - val_acc: 0.8916\n",
            "Epoch 6/50\n",
            "50000/50000 [==============================] - 12s 235us/step - loss: 0.2528 - acc: 0.9046 - val_loss: 0.2902 - val_acc: 0.8965\n",
            "Epoch 7/50\n",
            "50000/50000 [==============================] - 13s 252us/step - loss: 0.2390 - acc: 0.9097 - val_loss: 0.2993 - val_acc: 0.8942\n",
            "Epoch 8/50\n",
            "50000/50000 [==============================] - 12s 244us/step - loss: 0.2225 - acc: 0.9154 - val_loss: 0.2936 - val_acc: 0.8955\n",
            "Epoch 9/50\n",
            "50000/50000 [==============================] - 13s 252us/step - loss: 0.2109 - acc: 0.9204 - val_loss: 0.2906 - val_acc: 0.8958\n",
            "Epoch 10/50\n",
            "50000/50000 [==============================] - 12s 235us/step - loss: 0.1965 - acc: 0.9253 - val_loss: 0.2917 - val_acc: 0.8998\n",
            "Epoch 11/50\n",
            "50000/50000 [==============================] - 12s 234us/step - loss: 0.1844 - acc: 0.9309 - val_loss: 0.2942 - val_acc: 0.8994\n",
            "Epoch 12/50\n",
            "50000/50000 [==============================] - 12s 235us/step - loss: 0.1752 - acc: 0.9339 - val_loss: 0.2860 - val_acc: 0.9022\n",
            "Epoch 13/50\n",
            "50000/50000 [==============================] - 12s 236us/step - loss: 0.1666 - acc: 0.9361 - val_loss: 0.2999 - val_acc: 0.9029\n",
            "Epoch 14/50\n",
            "50000/50000 [==============================] - 12s 238us/step - loss: 0.1591 - acc: 0.9393 - val_loss: 0.3026 - val_acc: 0.9005\n",
            "Epoch 15/50\n",
            "50000/50000 [==============================] - 13s 256us/step - loss: 0.1506 - acc: 0.9424 - val_loss: 0.3057 - val_acc: 0.9000\n",
            "Epoch 16/50\n",
            "50000/50000 [==============================] - 12s 244us/step - loss: 0.1396 - acc: 0.9463 - val_loss: 0.3053 - val_acc: 0.9013\n",
            "Epoch 17/50\n",
            "50000/50000 [==============================] - 12s 237us/step - loss: 0.1362 - acc: 0.9489 - val_loss: 0.3313 - val_acc: 0.9005\n",
            "Epoch 18/50\n",
            "50000/50000 [==============================] - 12s 235us/step - loss: 0.1283 - acc: 0.9514 - val_loss: 0.3243 - val_acc: 0.8981\n",
            "Epoch 19/50\n",
            "50000/50000 [==============================] - 12s 237us/step - loss: 0.1233 - acc: 0.9535 - val_loss: 0.3272 - val_acc: 0.8998\n",
            "Epoch 20/50\n",
            "50000/50000 [==============================] - 12s 235us/step - loss: 0.1183 - acc: 0.9553 - val_loss: 0.3311 - val_acc: 0.8988\n",
            "Epoch 21/50\n",
            "50000/50000 [==============================] - 12s 235us/step - loss: 0.1093 - acc: 0.9576 - val_loss: 0.3486 - val_acc: 0.9015\n",
            "Epoch 22/50\n",
            "50000/50000 [==============================] - 13s 263us/step - loss: 0.1066 - acc: 0.9588 - val_loss: 0.3596 - val_acc: 0.8990\n",
            "Epoch 23/50\n",
            "50000/50000 [==============================] - 12s 235us/step - loss: 0.1004 - acc: 0.9621 - val_loss: 0.3727 - val_acc: 0.8956\n",
            "Epoch 24/50\n",
            "50000/50000 [==============================] - 12s 237us/step - loss: 0.0992 - acc: 0.9625 - val_loss: 0.3690 - val_acc: 0.8979\n",
            "Epoch 25/50\n",
            "50000/50000 [==============================] - 12s 236us/step - loss: 0.0960 - acc: 0.9633 - val_loss: 0.3563 - val_acc: 0.9015\n",
            "Epoch 26/50\n",
            "50000/50000 [==============================] - 12s 235us/step - loss: 0.0912 - acc: 0.9655 - val_loss: 0.3732 - val_acc: 0.8986\n",
            "Epoch 27/50\n",
            "50000/50000 [==============================] - 12s 238us/step - loss: 0.0890 - acc: 0.9662 - val_loss: 0.3778 - val_acc: 0.9001\n",
            "Epoch 28/50\n",
            "50000/50000 [==============================] - 12s 243us/step - loss: 0.0848 - acc: 0.9680 - val_loss: 0.3808 - val_acc: 0.9006\n",
            "Epoch 29/50\n",
            "50000/50000 [==============================] - 13s 262us/step - loss: 0.0817 - acc: 0.9697 - val_loss: 0.3778 - val_acc: 0.9002\n",
            "Epoch 30/50\n",
            "50000/50000 [==============================] - 13s 266us/step - loss: 0.0780 - acc: 0.9711 - val_loss: 0.3823 - val_acc: 0.8995\n",
            "Epoch 31/50\n",
            "50000/50000 [==============================] - 12s 235us/step - loss: 0.0749 - acc: 0.9722 - val_loss: 0.4244 - val_acc: 0.8988\n",
            "Epoch 32/50\n",
            "50000/50000 [==============================] - 12s 248us/step - loss: 0.0748 - acc: 0.9716 - val_loss: 0.4256 - val_acc: 0.8978\n",
            "Epoch 33/50\n",
            "50000/50000 [==============================] - 12s 245us/step - loss: 0.0710 - acc: 0.9733 - val_loss: 0.4332 - val_acc: 0.8938\n",
            "Epoch 34/50\n",
            "50000/50000 [==============================] - 12s 238us/step - loss: 0.0692 - acc: 0.9741 - val_loss: 0.4162 - val_acc: 0.9053\n",
            "Epoch 35/50\n",
            "50000/50000 [==============================] - 13s 261us/step - loss: 0.0662 - acc: 0.9751 - val_loss: 0.4271 - val_acc: 0.8989\n",
            "Epoch 36/50\n",
            "50000/50000 [==============================] - 12s 238us/step - loss: 0.0670 - acc: 0.9751 - val_loss: 0.4275 - val_acc: 0.8982\n",
            "Epoch 37/50\n",
            "50000/50000 [==============================] - 12s 237us/step - loss: 0.0629 - acc: 0.9768 - val_loss: 0.4444 - val_acc: 0.8983\n",
            "Epoch 38/50\n",
            "50000/50000 [==============================] - 12s 235us/step - loss: 0.0602 - acc: 0.9776 - val_loss: 0.4384 - val_acc: 0.8979\n",
            "Epoch 39/50\n",
            "50000/50000 [==============================] - 12s 242us/step - loss: 0.0599 - acc: 0.9777 - val_loss: 0.4477 - val_acc: 0.8993\n",
            "Epoch 40/50\n",
            "50000/50000 [==============================] - 12s 243us/step - loss: 0.0574 - acc: 0.9790 - val_loss: 0.4370 - val_acc: 0.9019\n",
            "Epoch 41/50\n",
            "50000/50000 [==============================] - 12s 241us/step - loss: 0.0579 - acc: 0.9779 - val_loss: 0.4312 - val_acc: 0.9038\n",
            "Epoch 42/50\n",
            "50000/50000 [==============================] - 13s 270us/step - loss: 0.0565 - acc: 0.9791 - val_loss: 0.4363 - val_acc: 0.9032\n",
            "Epoch 43/50\n",
            "50000/50000 [==============================] - 12s 246us/step - loss: 0.0521 - acc: 0.9803 - val_loss: 0.4487 - val_acc: 0.8995\n",
            "Epoch 44/50\n",
            "50000/50000 [==============================] - 12s 243us/step - loss: 0.0508 - acc: 0.9816 - val_loss: 0.4885 - val_acc: 0.8942\n",
            "Epoch 45/50\n",
            "50000/50000 [==============================] - 12s 244us/step - loss: 0.0513 - acc: 0.9808 - val_loss: 0.4745 - val_acc: 0.8976\n",
            "Epoch 46/50\n",
            "50000/50000 [==============================] - 12s 244us/step - loss: 0.0520 - acc: 0.9808 - val_loss: 0.4633 - val_acc: 0.9018\n",
            "Epoch 47/50\n",
            "50000/50000 [==============================] - 12s 247us/step - loss: 0.0475 - acc: 0.9835 - val_loss: 0.4758 - val_acc: 0.9008\n",
            "Epoch 48/50\n",
            "50000/50000 [==============================] - 13s 265us/step - loss: 0.0494 - acc: 0.9814 - val_loss: 0.4696 - val_acc: 0.9012\n",
            "Epoch 49/50\n",
            "50000/50000 [==============================] - 12s 249us/step - loss: 0.0486 - acc: 0.9824 - val_loss: 0.4665 - val_acc: 0.9048\n",
            "Epoch 50/50\n",
            "50000/50000 [==============================] - 12s 238us/step - loss: 0.0460 - acc: 0.9839 - val_loss: 0.4667 - val_acc: 0.9017\n"
          ],
          "name": "stdout"
        },
        {
          "output_type": "execute_result",
          "data": {
            "text/plain": [
              "<matplotlib.axes._subplots.AxesSubplot at 0x7fc5997a12b0>"
            ]
          },
          "metadata": {
            "tags": []
          },
          "execution_count": 34
        },
        {
          "output_type": "display_data",
          "data": {
            "image/png": "[encoded data removed]",
            "text/plain": [
              "<Figure size 720x432 with 1 Axes>"
            ]
          },
          "metadata": {
            "tags": []
          }
        }
      ]
    },
    {
      "metadata": {
        "id": "XGySDFuVWWsh",
        "colab_type": "text"
      },
      "cell_type": "markdown",
      "source": [
        "#### Looking at the above results and learning curves, we can see that, using batch-normalization and residual connections on the  same 3-layers model, produced basically the same results that we obtained either with dropout or with batch-normalization (but no dropout).\n",
        "\n",
        "#### However, as we showed above during the initial/pre model selection, when we tried to use a deeper network going from 3-layers to just-5 layers, decreased validation accuracy.\n",
        "\n",
        "#### Let's now try a deeper network with 7-layers and see if the residual connections allow us to sucessfully train deeper networks:"
      ]
    },
    {
      "metadata": {
        "id": "IGHIFWceQNLN",
        "colab_type": "code",
        "outputId": "5afa8083-daec-47bb-e2d4-3c7e475a07e2",
        "colab": {
          "base_uri": "https://localhost:8080/",
          "height": 1071
        }
      },
      "cell_type": "code",
      "source": [
        "inputs = Input(shape=(num_features,))\n",
        "\n",
        "res = Dense(256, kernel_initializer = glorot_uniform(0))(inputs)\n",
        "bn = BatchNormalization()(res)\n",
        "relu = Activation(\"relu\")(bn)\n",
        "\n",
        "dense = Dense(256, kernel_initializer = glorot_uniform(0))(relu)\n",
        "bn = BatchNormalization()(dense)\n",
        "relu = Activation(\"relu\")(bn)\n",
        "\n",
        "dense = Dense(256, kernel_initializer = glorot_uniform(0))(relu)\n",
        "add_1 = keras.layers.add([res, dense])\n",
        "bn = BatchNormalization()(add_1)\n",
        "relu = Activation(\"relu\")(bn)\n",
        "\n",
        "dense = Dense(256, kernel_initializer = glorot_uniform(0))(relu)\n",
        "bn = BatchNormalization()(dense)\n",
        "relu = Activation(\"relu\")(bn)\n",
        "\n",
        "dense = Dense(256, kernel_initializer = glorot_uniform(0))(relu)\n",
        "add_2 = keras.layers.add([add_1, dense])\n",
        "bn = BatchNormalization()(add_2)\n",
        "relu = Activation(\"relu\")(bn)\n",
        "\n",
        "dense = Dense(256, kernel_initializer = glorot_uniform(0))(relu)\n",
        "bn = BatchNormalization()(dense)\n",
        "relu = Activation(\"relu\")(bn)\n",
        "\n",
        "dense = Dense(256, kernel_initializer = glorot_uniform(0))(relu)\n",
        "add_3 = keras.layers.add([add_2, dense])\n",
        "bn = BatchNormalization()(add_3)\n",
        "relu = Activation(\"relu\")(bn)\n",
        "\n",
        "out = Dense(num_classes, activation='softmax')(relu)\n",
        "\n",
        "mlp = Model(inputs=inputs, outputs=out)\n",
        "mlp.compile(\"adam\", \"categorical_crossentropy\", metrics=['accuracy'])\n",
        "\n",
        "mlp.summary()"
      ],
      "execution_count": 0,
      "outputs": [
        {
          "output_type": "stream",
          "text": [
            "__________________________________________________________________________________________________\n",
            "Layer (type)                    Output Shape         Param #     Connected to                     \n",
            "==================================================================================================\n",
            "input_2 (InputLayer)            (None, 784)          0                                            \n",
            "__________________________________________________________________________________________________\n",
            "dense_62 (Dense)                (None, 256)          200960      input_2[0][0]                    \n",
            "__________________________________________________________________________________________________\n",
            "batch_normalization_32 (BatchNo (None, 256)          1024        dense_62[0][0]                   \n",
            "__________________________________________________________________________________________________\n",
            "activation_47 (Activation)      (None, 256)          0           batch_normalization_32[0][0]     \n",
            "__________________________________________________________________________________________________\n",
            "dense_63 (Dense)                (None, 256)          65792       activation_47[0][0]              \n",
            "__________________________________________________________________________________________________\n",
            "batch_normalization_33 (BatchNo (None, 256)          1024        dense_63[0][0]                   \n",
            "__________________________________________________________________________________________________\n",
            "activation_48 (Activation)      (None, 256)          0           batch_normalization_33[0][0]     \n",
            "__________________________________________________________________________________________________\n",
            "dense_64 (Dense)                (None, 256)          65792       activation_48[0][0]              \n",
            "__________________________________________________________________________________________________\n",
            "add_2 (Add)                     (None, 256)          0           dense_62[0][0]                   \n",
            "                                                                 dense_64[0][0]                   \n",
            "__________________________________________________________________________________________________\n",
            "batch_normalization_34 (BatchNo (None, 256)          1024        add_2[0][0]                      \n",
            "__________________________________________________________________________________________________\n",
            "activation_49 (Activation)      (None, 256)          0           batch_normalization_34[0][0]     \n",
            "__________________________________________________________________________________________________\n",
            "dense_65 (Dense)                (None, 256)          65792       activation_49[0][0]              \n",
            "__________________________________________________________________________________________________\n",
            "batch_normalization_35 (BatchNo (None, 256)          1024        dense_65[0][0]                   \n",
            "__________________________________________________________________________________________________\n",
            "activation_50 (Activation)      (None, 256)          0           batch_normalization_35[0][0]     \n",
            "__________________________________________________________________________________________________\n",
            "dense_66 (Dense)                (None, 256)          65792       activation_50[0][0]              \n",
            "__________________________________________________________________________________________________\n",
            "add_3 (Add)                     (None, 256)          0           add_2[0][0]                      \n",
            "                                                                 dense_66[0][0]                   \n",
            "__________________________________________________________________________________________________\n",
            "batch_normalization_36 (BatchNo (None, 256)          1024        add_3[0][0]                      \n",
            "__________________________________________________________________________________________________\n",
            "activation_51 (Activation)      (None, 256)          0           batch_normalization_36[0][0]     \n",
            "__________________________________________________________________________________________________\n",
            "dense_67 (Dense)                (None, 256)          65792       activation_51[0][0]              \n",
            "__________________________________________________________________________________________________\n",
            "batch_normalization_37 (BatchNo (None, 256)          1024        dense_67[0][0]                   \n",
            "__________________________________________________________________________________________________\n",
            "activation_52 (Activation)      (None, 256)          0           batch_normalization_37[0][0]     \n",
            "__________________________________________________________________________________________________\n",
            "dense_68 (Dense)                (None, 256)          65792       activation_52[0][0]              \n",
            "__________________________________________________________________________________________________\n",
            "add_4 (Add)                     (None, 256)          0           add_3[0][0]                      \n",
            "                                                                 dense_68[0][0]                   \n",
            "__________________________________________________________________________________________________\n",
            "batch_normalization_38 (BatchNo (None, 256)          1024        add_4[0][0]                      \n",
            "__________________________________________________________________________________________________\n",
            "activation_53 (Activation)      (None, 256)          0           batch_normalization_38[0][0]     \n",
            "__________________________________________________________________________________________________\n",
            "dense_69 (Dense)                (None, 10)           2570        activation_53[0][0]              \n",
            "==================================================================================================\n",
            "Total params: 605,450\n",
            "Trainable params: 601,866\n",
            "Non-trainable params: 3,584\n",
            "__________________________________________________________________________________________________\n"
          ],
          "name": "stdout"
        }
      ]
    },
    {
      "metadata": {
        "colab_type": "code",
        "id": "ZBNo831RlZuR",
        "outputId": "11d66d0b-5aa5-481e-afd0-f6383097ecf9",
        "colab": {
          "base_uri": "https://localhost:8080/",
          "height": 2124
        }
      },
      "cell_type": "code",
      "source": [
        "history_callback = mlp.fit(X_train, y_train, batch_size=32, epochs=50,\n",
        "                           shuffle=True, verbose=1,\n",
        "                           validation_data=(X_val, y_val))\n",
        "pd.DataFrame(history_callback.history).plot(figsize=(10, 6), \n",
        "                                            title='Accuracy and Loss vs epochs')"
      ],
      "execution_count": 0,
      "outputs": [
        {
          "output_type": "stream",
          "text": [
            "Train on 50000 samples, validate on 10000 samples\n",
            "Epoch 1/50\n",
            "50000/50000 [==============================] - 25s 495us/step - loss: 0.4941 - acc: 0.8208 - val_loss: 0.3538 - val_acc: 0.8711\n",
            "Epoch 2/50\n",
            "50000/50000 [==============================] - 21s 425us/step - loss: 0.3765 - acc: 0.8606 - val_loss: 0.3440 - val_acc: 0.8734\n",
            "Epoch 3/50\n",
            "50000/50000 [==============================] - 24s 473us/step - loss: 0.3383 - acc: 0.8743 - val_loss: 0.3190 - val_acc: 0.8849\n",
            "Epoch 4/50\n",
            "50000/50000 [==============================] - 23s 462us/step - loss: 0.3091 - acc: 0.8843 - val_loss: 0.2964 - val_acc: 0.8903\n",
            "Epoch 5/50\n",
            "50000/50000 [==============================] - 22s 447us/step - loss: 0.2897 - acc: 0.8916 - val_loss: 0.3254 - val_acc: 0.8814\n",
            "Epoch 6/50\n",
            "50000/50000 [==============================] - 23s 469us/step - loss: 0.2691 - acc: 0.8981 - val_loss: 0.2967 - val_acc: 0.8907\n",
            "Epoch 7/50\n",
            "50000/50000 [==============================] - 21s 426us/step - loss: 0.2524 - acc: 0.9039 - val_loss: 0.2942 - val_acc: 0.8962\n",
            "Epoch 8/50\n",
            "50000/50000 [==============================] - 21s 423us/step - loss: 0.2363 - acc: 0.9117 - val_loss: 0.3033 - val_acc: 0.8904\n",
            "Epoch 9/50\n",
            "50000/50000 [==============================] - 21s 422us/step - loss: 0.2240 - acc: 0.9144 - val_loss: 0.2867 - val_acc: 0.8978\n",
            "Epoch 10/50\n",
            "50000/50000 [==============================] - 23s 452us/step - loss: 0.2095 - acc: 0.9197 - val_loss: 0.2903 - val_acc: 0.8999\n",
            "Epoch 11/50\n",
            "50000/50000 [==============================] - 21s 425us/step - loss: 0.1969 - acc: 0.9242 - val_loss: 0.3008 - val_acc: 0.8921\n",
            "Epoch 12/50\n",
            "50000/50000 [==============================] - 21s 423us/step - loss: 0.1891 - acc: 0.9280 - val_loss: 0.2846 - val_acc: 0.9016\n",
            "Epoch 13/50\n",
            "50000/50000 [==============================] - 22s 446us/step - loss: 0.1783 - acc: 0.9333 - val_loss: 0.2887 - val_acc: 0.8995\n",
            "Epoch 14/50\n",
            "50000/50000 [==============================] - 23s 466us/step - loss: 0.1668 - acc: 0.9360 - val_loss: 0.2956 - val_acc: 0.8999\n",
            "Epoch 15/50\n",
            "50000/50000 [==============================] - 22s 445us/step - loss: 0.1618 - acc: 0.9379 - val_loss: 0.3026 - val_acc: 0.9028\n",
            "Epoch 16/50\n",
            "50000/50000 [==============================] - 22s 445us/step - loss: 0.1505 - acc: 0.9434 - val_loss: 0.3133 - val_acc: 0.8967\n",
            "Epoch 17/50\n",
            "50000/50000 [==============================] - 25s 497us/step - loss: 0.1438 - acc: 0.9449 - val_loss: 0.3053 - val_acc: 0.9051\n",
            "Epoch 18/50\n",
            "50000/50000 [==============================] - 22s 439us/step - loss: 0.1378 - acc: 0.9470 - val_loss: 0.3121 - val_acc: 0.8988\n",
            "Epoch 19/50\n",
            "50000/50000 [==============================] - 21s 423us/step - loss: 0.1306 - acc: 0.9500 - val_loss: 0.3142 - val_acc: 0.9001\n",
            "Epoch 20/50\n",
            "50000/50000 [==============================] - 21s 419us/step - loss: 0.1247 - acc: 0.9527 - val_loss: 0.3449 - val_acc: 0.8940\n",
            "Epoch 21/50\n",
            "50000/50000 [==============================] - 23s 451us/step - loss: 0.1199 - acc: 0.9543 - val_loss: 0.3255 - val_acc: 0.9020\n",
            "Epoch 22/50\n",
            "50000/50000 [==============================] - 21s 424us/step - loss: 0.1121 - acc: 0.9561 - val_loss: 0.3494 - val_acc: 0.9005\n",
            "Epoch 23/50\n",
            "50000/50000 [==============================] - 21s 422us/step - loss: 0.1110 - acc: 0.9570 - val_loss: 0.3617 - val_acc: 0.9004\n",
            "Epoch 24/50\n",
            "50000/50000 [==============================] - 22s 434us/step - loss: 0.1061 - acc: 0.9592 - val_loss: 0.3501 - val_acc: 0.8997\n",
            "Epoch 25/50\n",
            "50000/50000 [==============================] - 22s 440us/step - loss: 0.0989 - acc: 0.9618 - val_loss: 0.3542 - val_acc: 0.8991\n",
            "Epoch 26/50\n",
            "50000/50000 [==============================] - 21s 422us/step - loss: 0.0958 - acc: 0.9632 - val_loss: 0.3551 - val_acc: 0.9020\n",
            "Epoch 27/50\n",
            "50000/50000 [==============================] - 21s 423us/step - loss: 0.0925 - acc: 0.9638 - val_loss: 0.3596 - val_acc: 0.9000\n",
            "Epoch 28/50\n",
            "50000/50000 [==============================] - 22s 449us/step - loss: 0.0911 - acc: 0.9661 - val_loss: 0.3703 - val_acc: 0.9034\n",
            "Epoch 29/50\n",
            "50000/50000 [==============================] - 21s 422us/step - loss: 0.0873 - acc: 0.9673 - val_loss: 0.3680 - val_acc: 0.9036\n",
            "Epoch 30/50\n",
            "50000/50000 [==============================] - 21s 423us/step - loss: 0.0868 - acc: 0.9672 - val_loss: 0.3783 - val_acc: 0.8981\n",
            "Epoch 31/50\n",
            "50000/50000 [==============================] - 23s 457us/step - loss: 0.0795 - acc: 0.9701 - val_loss: 0.3968 - val_acc: 0.9006\n",
            "Epoch 32/50\n",
            "50000/50000 [==============================] - 23s 454us/step - loss: 0.0768 - acc: 0.9703 - val_loss: 0.3873 - val_acc: 0.9009\n",
            "Epoch 33/50\n",
            "50000/50000 [==============================] - 21s 425us/step - loss: 0.0751 - acc: 0.9714 - val_loss: 0.3963 - val_acc: 0.8980\n",
            "Epoch 34/50\n",
            "50000/50000 [==============================] - 21s 423us/step - loss: 0.0713 - acc: 0.9735 - val_loss: 0.4219 - val_acc: 0.8989\n",
            "Epoch 35/50\n",
            "50000/50000 [==============================] - 21s 424us/step - loss: 0.0700 - acc: 0.9735 - val_loss: 0.4246 - val_acc: 0.8990\n",
            "Epoch 36/50\n",
            "50000/50000 [==============================] - 22s 449us/step - loss: 0.0684 - acc: 0.9744 - val_loss: 0.4176 - val_acc: 0.9002\n",
            "Epoch 37/50\n",
            "50000/50000 [==============================] - 21s 423us/step - loss: 0.0671 - acc: 0.9748 - val_loss: 0.4253 - val_acc: 0.8960\n",
            "Epoch 38/50\n",
            "50000/50000 [==============================] - 21s 424us/step - loss: 0.0660 - acc: 0.9751 - val_loss: 0.4087 - val_acc: 0.9015\n",
            "Epoch 39/50\n",
            "50000/50000 [==============================] - 22s 445us/step - loss: 0.0606 - acc: 0.9768 - val_loss: 0.4444 - val_acc: 0.9025\n",
            "Epoch 40/50\n",
            "50000/50000 [==============================] - 22s 430us/step - loss: 0.0607 - acc: 0.9767 - val_loss: 0.4114 - val_acc: 0.9010\n",
            "Epoch 41/50\n",
            "50000/50000 [==============================] - 21s 423us/step - loss: 0.0584 - acc: 0.9780 - val_loss: 0.4060 - val_acc: 0.9045\n",
            "Epoch 42/50\n",
            "50000/50000 [==============================] - 21s 426us/step - loss: 0.0594 - acc: 0.9782 - val_loss: 0.4424 - val_acc: 0.8975\n",
            "Epoch 43/50\n",
            "50000/50000 [==============================] - 23s 450us/step - loss: 0.0566 - acc: 0.9791 - val_loss: 0.4335 - val_acc: 0.9031\n",
            "Epoch 44/50\n",
            "50000/50000 [==============================] - 21s 424us/step - loss: 0.0550 - acc: 0.9795 - val_loss: 0.4396 - val_acc: 0.9014\n",
            "Epoch 45/50\n",
            "50000/50000 [==============================] - 23s 453us/step - loss: 0.0537 - acc: 0.9803 - val_loss: 0.4416 - val_acc: 0.9020\n",
            "Epoch 46/50\n",
            "50000/50000 [==============================] - 22s 447us/step - loss: 0.0532 - acc: 0.9803 - val_loss: 0.4324 - val_acc: 0.8986\n",
            "Epoch 47/50\n",
            "50000/50000 [==============================] - 22s 450us/step - loss: 0.0495 - acc: 0.9810 - val_loss: 0.4629 - val_acc: 0.8972\n",
            "Epoch 48/50\n",
            "50000/50000 [==============================] - 21s 423us/step - loss: 0.0515 - acc: 0.9812 - val_loss: 0.4612 - val_acc: 0.8999\n",
            "Epoch 49/50\n",
            "50000/50000 [==============================] - 21s 425us/step - loss: 0.0494 - acc: 0.9822 - val_loss: 0.4473 - val_acc: 0.9005\n",
            "Epoch 50/50\n",
            "50000/50000 [==============================] - 23s 459us/step - loss: 0.0430 - acc: 0.9842 - val_loss: 0.4673 - val_acc: 0.9008\n"
          ],
          "name": "stdout"
        },
        {
          "output_type": "execute_result",
          "data": {
            "text/plain": [
              "<matplotlib.axes._subplots.AxesSubplot at 0x7fc597b3f4e0>"
            ]
          },
          "metadata": {
            "tags": []
          },
          "execution_count": 36
        },
        {
          "output_type": "display_data",
          "data": {
            "image/png": "[encoded data removed]",
            "text/plain": [
              "<Figure size 720x432 with 1 Axes>"
            ]
          },
          "metadata": {
            "tags": []
          }
        }
      ]
    },
    {
      "metadata": {
        "id": "Jy3wMKS6qmKv",
        "colab_type": "text"
      },
      "cell_type": "markdown",
      "source": [
        "#### As we can see above, on this deeper network using residual connections, we were able to get the same performance than best previous models.\n",
        "\n",
        "#### Now let's see what results we get if we try exactly the same deep network but with no residual connections:"
      ]
    },
    {
      "metadata": {
        "id": "bYIJNmXLKe4I",
        "colab_type": "code",
        "outputId": "fa6a32df-aec9-414d-de2d-82381ed1a0cb",
        "colab": {
          "base_uri": "https://localhost:8080/",
          "height": 918
        }
      },
      "cell_type": "code",
      "source": [
        "inputs = Input(shape=(num_features,))\n",
        "\n",
        "dense = Dense(256, kernel_initializer = glorot_uniform(0))(inputs)\n",
        "bn = BatchNormalization()(dense)\n",
        "relu = Activation(\"relu\")(bn)\n",
        "\n",
        "dense = Dense(256, kernel_initializer = glorot_uniform(0))(relu)\n",
        "bn = BatchNormalization()(dense)\n",
        "relu = Activation(\"relu\")(bn)\n",
        "\n",
        "dense = Dense(256, kernel_initializer = glorot_uniform(0))(relu)\n",
        "bn = BatchNormalization()(dense)\n",
        "relu = Activation(\"relu\")(bn)\n",
        "\n",
        "dense = Dense(256, kernel_initializer = glorot_uniform(0))(relu)\n",
        "bn = BatchNormalization()(dense)\n",
        "relu = Activation(\"relu\")(bn)\n",
        "\n",
        "dense = Dense(256, kernel_initializer = glorot_uniform(0))(relu)\n",
        "bn = BatchNormalization()(dense)\n",
        "relu = Activation(\"relu\")(bn)\n",
        "\n",
        "dense = Dense(256, kernel_initializer = glorot_uniform(0))(relu)\n",
        "bn = BatchNormalization()(dense)\n",
        "relu = Activation(\"relu\")(bn)\n",
        "\n",
        "dense = Dense(256, kernel_initializer = glorot_uniform(0))(relu)\n",
        "bn = BatchNormalization()(dense)\n",
        "relu = Activation(\"relu\")(bn)\n",
        "\n",
        "out = Dense(num_classes, activation='softmax')(relu)\n",
        "\n",
        "mlp = Model(inputs=inputs, outputs=out)\n",
        "mlp.compile(\"adam\", \"categorical_crossentropy\", metrics=['accuracy'])\n",
        "\n",
        "mlp.summary()"
      ],
      "execution_count": 0,
      "outputs": [
        {
          "output_type": "stream",
          "text": [
            "_________________________________________________________________\n",
            "Layer (type)                 Output Shape              Param #   \n",
            "=================================================================\n",
            "input_6 (InputLayer)         (None, 784)               0         \n",
            "_________________________________________________________________\n",
            "dense_90 (Dense)             (None, 256)               200960    \n",
            "_________________________________________________________________\n",
            "batch_normalization_56 (Batc (None, 256)               1024      \n",
            "_________________________________________________________________\n",
            "activation_71 (Activation)   (None, 256)               0         \n",
            "_________________________________________________________________\n",
            "dense_91 (Dense)             (None, 256)               65792     \n",
            "_________________________________________________________________\n",
            "batch_normalization_57 (Batc (None, 256)               1024      \n",
            "_________________________________________________________________\n",
            "activation_72 (Activation)   (None, 256)               0         \n",
            "_________________________________________________________________\n",
            "dense_92 (Dense)             (None, 256)               65792     \n",
            "_________________________________________________________________\n",
            "batch_normalization_58 (Batc (None, 256)               1024      \n",
            "_________________________________________________________________\n",
            "activation_73 (Activation)   (None, 256)               0         \n",
            "_________________________________________________________________\n",
            "dense_93 (Dense)             (None, 256)               65792     \n",
            "_________________________________________________________________\n",
            "batch_normalization_59 (Batc (None, 256)               1024      \n",
            "_________________________________________________________________\n",
            "activation_74 (Activation)   (None, 256)               0         \n",
            "_________________________________________________________________\n",
            "dense_94 (Dense)             (None, 256)               65792     \n",
            "_________________________________________________________________\n",
            "batch_normalization_60 (Batc (None, 256)               1024      \n",
            "_________________________________________________________________\n",
            "activation_75 (Activation)   (None, 256)               0         \n",
            "_________________________________________________________________\n",
            "dense_95 (Dense)             (None, 256)               65792     \n",
            "_________________________________________________________________\n",
            "batch_normalization_61 (Batc (None, 256)               1024      \n",
            "_________________________________________________________________\n",
            "activation_76 (Activation)   (None, 256)               0         \n",
            "_________________________________________________________________\n",
            "dense_96 (Dense)             (None, 256)               65792     \n",
            "_________________________________________________________________\n",
            "batch_normalization_62 (Batc (None, 256)               1024      \n",
            "_________________________________________________________________\n",
            "activation_77 (Activation)   (None, 256)               0         \n",
            "_________________________________________________________________\n",
            "dense_97 (Dense)             (None, 10)                2570      \n",
            "=================================================================\n",
            "Total params: 605,450\n",
            "Trainable params: 601,866\n",
            "Non-trainable params: 3,584\n",
            "_________________________________________________________________\n"
          ],
          "name": "stdout"
        }
      ]
    },
    {
      "metadata": {
        "id": "qMORgF3EahR4",
        "colab_type": "code",
        "outputId": "9a59b9d4-909e-4d89-f7ad-597bf1fc8ad1",
        "colab": {
          "base_uri": "https://localhost:8080/",
          "height": 2124
        }
      },
      "cell_type": "code",
      "source": [
        "history_callback = mlp.fit(X_train, y_train, batch_size=32, epochs=50,\n",
        "                           shuffle=True, verbose=1,\n",
        "                           validation_data=(X_val, y_val))\n",
        "pd.DataFrame(history_callback.history).plot(figsize=(10, 6), \n",
        "                                            title='Accuracy and Loss vs epochs')"
      ],
      "execution_count": 0,
      "outputs": [
        {
          "output_type": "stream",
          "text": [
            "Train on 50000 samples, validate on 10000 samples\n",
            "Epoch 1/50\n",
            "50000/50000 [==============================] - 27s 547us/step - loss: 0.5577 - acc: 0.8044 - val_loss: 0.3800 - val_acc: 0.8620\n",
            "Epoch 2/50\n",
            "50000/50000 [==============================] - 22s 438us/step - loss: 0.4273 - acc: 0.8463 - val_loss: 0.4262 - val_acc: 0.8406\n",
            "Epoch 3/50\n",
            "50000/50000 [==============================] - 24s 480us/step - loss: 0.3861 - acc: 0.8616 - val_loss: 0.3472 - val_acc: 0.8757\n",
            "Epoch 4/50\n",
            "50000/50000 [==============================] - 23s 457us/step - loss: 0.3576 - acc: 0.8696 - val_loss: 0.3316 - val_acc: 0.8815\n",
            "Epoch 5/50\n",
            "50000/50000 [==============================] - 23s 456us/step - loss: 0.3394 - acc: 0.8761 - val_loss: 0.3359 - val_acc: 0.8794\n",
            "Epoch 6/50\n",
            "50000/50000 [==============================] - 22s 444us/step - loss: 0.3158 - acc: 0.8861 - val_loss: 0.3040 - val_acc: 0.8917\n",
            "Epoch 7/50\n",
            "50000/50000 [==============================] - 23s 463us/step - loss: 0.2986 - acc: 0.8899 - val_loss: 0.2983 - val_acc: 0.8912\n",
            "Epoch 8/50\n",
            "50000/50000 [==============================] - 22s 434us/step - loss: 0.2831 - acc: 0.8965 - val_loss: 0.2863 - val_acc: 0.8975\n",
            "Epoch 9/50\n",
            "50000/50000 [==============================] - 22s 449us/step - loss: 0.2683 - acc: 0.9015 - val_loss: 0.2946 - val_acc: 0.8921\n",
            "Epoch 10/50\n",
            "50000/50000 [==============================] - 24s 478us/step - loss: 0.2579 - acc: 0.9035 - val_loss: 0.3016 - val_acc: 0.8963\n",
            "Epoch 11/50\n",
            "50000/50000 [==============================] - 23s 453us/step - loss: 0.2427 - acc: 0.9098 - val_loss: 0.2861 - val_acc: 0.8960\n",
            "Epoch 12/50\n",
            "50000/50000 [==============================] - 22s 435us/step - loss: 0.2327 - acc: 0.9127 - val_loss: 0.2971 - val_acc: 0.8940\n",
            "Epoch 13/50\n",
            "50000/50000 [==============================] - 24s 481us/step - loss: 0.2230 - acc: 0.9164 - val_loss: 0.3140 - val_acc: 0.8884\n",
            "Epoch 14/50\n",
            "50000/50000 [==============================] - 23s 464us/step - loss: 0.2148 - acc: 0.9216 - val_loss: 0.3179 - val_acc: 0.8877\n",
            "Epoch 15/50\n",
            "50000/50000 [==============================] - 22s 435us/step - loss: 0.2059 - acc: 0.9231 - val_loss: 0.2973 - val_acc: 0.8988\n",
            "Epoch 16/50\n",
            "50000/50000 [==============================] - 22s 441us/step - loss: 0.1995 - acc: 0.9259 - val_loss: 0.2907 - val_acc: 0.8989\n",
            "Epoch 17/50\n",
            "50000/50000 [==============================] - 24s 475us/step - loss: 0.1922 - acc: 0.9285 - val_loss: 0.2979 - val_acc: 0.8959\n",
            "Epoch 18/50\n",
            "50000/50000 [==============================] - 22s 448us/step - loss: 0.1835 - acc: 0.9305 - val_loss: 0.3045 - val_acc: 0.8975\n",
            "Epoch 19/50\n",
            "50000/50000 [==============================] - 22s 436us/step - loss: 0.1776 - acc: 0.9327 - val_loss: 0.3008 - val_acc: 0.8968\n",
            "Epoch 20/50\n",
            "50000/50000 [==============================] - 22s 448us/step - loss: 0.1679 - acc: 0.9364 - val_loss: 0.3128 - val_acc: 0.8933\n",
            "Epoch 21/50\n",
            "50000/50000 [==============================] - 24s 479us/step - loss: 0.1667 - acc: 0.9370 - val_loss: 0.3055 - val_acc: 0.8972\n",
            "Epoch 22/50\n",
            "50000/50000 [==============================] - 23s 455us/step - loss: 0.1567 - acc: 0.9398 - val_loss: 0.3057 - val_acc: 0.9021\n",
            "Epoch 23/50\n",
            "50000/50000 [==============================] - 23s 452us/step - loss: 0.1543 - acc: 0.9429 - val_loss: 0.3285 - val_acc: 0.8962\n",
            "Epoch 24/50\n",
            "50000/50000 [==============================] - 24s 476us/step - loss: 0.1491 - acc: 0.9452 - val_loss: 0.3029 - val_acc: 0.9013\n",
            "Epoch 25/50\n",
            "50000/50000 [==============================] - 23s 461us/step - loss: 0.1443 - acc: 0.9459 - val_loss: 0.3271 - val_acc: 0.8969\n",
            "Epoch 26/50\n",
            "50000/50000 [==============================] - 23s 467us/step - loss: 0.1387 - acc: 0.9482 - val_loss: 0.3184 - val_acc: 0.8952\n",
            "Epoch 27/50\n",
            "50000/50000 [==============================] - 24s 485us/step - loss: 0.1338 - acc: 0.9496 - val_loss: 0.3517 - val_acc: 0.8908\n",
            "Epoch 28/50\n",
            "50000/50000 [==============================] - 24s 479us/step - loss: 0.1312 - acc: 0.9507 - val_loss: 0.3118 - val_acc: 0.8989\n",
            "Epoch 29/50\n",
            "50000/50000 [==============================] - 23s 455us/step - loss: 0.1274 - acc: 0.9510 - val_loss: 0.3256 - val_acc: 0.8995\n",
            "Epoch 30/50\n",
            "50000/50000 [==============================] - 23s 454us/step - loss: 0.1223 - acc: 0.9536 - val_loss: 0.3269 - val_acc: 0.8963\n",
            "Epoch 31/50\n",
            "50000/50000 [==============================] - 24s 480us/step - loss: 0.1180 - acc: 0.9550 - val_loss: 0.3383 - val_acc: 0.8958\n",
            "Epoch 32/50\n",
            "50000/50000 [==============================] - 23s 455us/step - loss: 0.1125 - acc: 0.9582 - val_loss: 0.3378 - val_acc: 0.8971\n",
            "Epoch 33/50\n",
            "50000/50000 [==============================] - 23s 455us/step - loss: 0.1123 - acc: 0.9586 - val_loss: 0.3262 - val_acc: 0.9016\n",
            "Epoch 34/50\n",
            "50000/50000 [==============================] - 23s 456us/step - loss: 0.1070 - acc: 0.9595 - val_loss: 0.3359 - val_acc: 0.9025\n",
            "Epoch 35/50\n",
            "50000/50000 [==============================] - 24s 479us/step - loss: 0.1045 - acc: 0.9618 - val_loss: 0.3379 - val_acc: 0.9031\n",
            "Epoch 36/50\n",
            "50000/50000 [==============================] - 23s 455us/step - loss: 0.1032 - acc: 0.9616 - val_loss: 0.3384 - val_acc: 0.8984\n",
            "Epoch 37/50\n",
            "50000/50000 [==============================] - 23s 456us/step - loss: 0.1013 - acc: 0.9620 - val_loss: 0.3543 - val_acc: 0.8962\n",
            "Epoch 38/50\n",
            "50000/50000 [==============================] - 24s 480us/step - loss: 0.0962 - acc: 0.9635 - val_loss: 0.3583 - val_acc: 0.8977\n",
            "Epoch 39/50\n",
            "50000/50000 [==============================] - 23s 466us/step - loss: 0.0929 - acc: 0.9660 - val_loss: 0.3424 - val_acc: 0.9040\n",
            "Epoch 40/50\n",
            "50000/50000 [==============================] - 24s 483us/step - loss: 0.0911 - acc: 0.9661 - val_loss: 0.3527 - val_acc: 0.9003\n",
            "Epoch 41/50\n",
            "50000/50000 [==============================] - 23s 459us/step - loss: 0.0889 - acc: 0.9674 - val_loss: 0.3652 - val_acc: 0.8992\n",
            "Epoch 42/50\n",
            "50000/50000 [==============================] - 24s 474us/step - loss: 0.0875 - acc: 0.9670 - val_loss: 0.3689 - val_acc: 0.9060\n",
            "Epoch 43/50\n",
            "50000/50000 [==============================] - 22s 437us/step - loss: 0.0853 - acc: 0.9679 - val_loss: 0.3723 - val_acc: 0.8964\n",
            "Epoch 44/50\n",
            "50000/50000 [==============================] - 22s 437us/step - loss: 0.0820 - acc: 0.9693 - val_loss: 0.3770 - val_acc: 0.9002\n",
            "Epoch 45/50\n",
            "50000/50000 [==============================] - 23s 463us/step - loss: 0.0831 - acc: 0.9692 - val_loss: 0.3775 - val_acc: 0.8956\n",
            "Epoch 46/50\n",
            "50000/50000 [==============================] - 22s 447us/step - loss: 0.0801 - acc: 0.9694 - val_loss: 0.3790 - val_acc: 0.9003\n",
            "Epoch 47/50\n",
            "50000/50000 [==============================] - 23s 455us/step - loss: 0.0791 - acc: 0.9702 - val_loss: 0.3573 - val_acc: 0.8984\n",
            "Epoch 48/50\n",
            "50000/50000 [==============================] - 23s 457us/step - loss: 0.0748 - acc: 0.9724 - val_loss: 0.4025 - val_acc: 0.8956\n",
            "Epoch 49/50\n",
            "50000/50000 [==============================] - 24s 480us/step - loss: 0.0765 - acc: 0.9719 - val_loss: 0.3787 - val_acc: 0.8958\n",
            "Epoch 50/50\n",
            "50000/50000 [==============================] - 23s 458us/step - loss: 0.0723 - acc: 0.9738 - val_loss: 0.3657 - val_acc: 0.9036\n"
          ],
          "name": "stdout"
        },
        {
          "output_type": "execute_result",
          "data": {
            "text/plain": [
              "<matplotlib.axes._subplots.AxesSubplot at 0x7fc589852da0>"
            ]
          },
          "metadata": {
            "tags": []
          },
          "execution_count": 44
        },
        {
          "output_type": "display_data",
          "data": {
            "image/png": "[encoded data removed]",
            "text/plain": [
              "<Figure size 720x432 with 1 Axes>"
            ]
          },
          "metadata": {
            "tags": []
          }
        }
      ]
    },
    {
      "metadata": {
        "id": "e_vXM4-Aa0UO",
        "colab_type": "text"
      },
      "cell_type": "markdown",
      "source": [
        "#### Though we were expecting worse results on this 7-layers network without using residual connections, as we can see above, we were able to get basically the same results. This may be due to the fact that the network is not deep enought and we are still using batch-normalization.  "
      ]
    },
    {
      "metadata": {
        "id": "J0B8vKKLsBym",
        "colab_type": "text"
      },
      "cell_type": "markdown",
      "source": [
        "#### As a last thing, let's train the 7-layers network with batch-normalization and residual connections using early termination and evaluate it using the test set that we haven't looked until now: "
      ]
    },
    {
      "metadata": {
        "id": "QFUL4DwMeB4_",
        "colab_type": "code",
        "outputId": "7646035e-794e-4dcf-9a0b-5fbd70643323",
        "colab": {
          "base_uri": "https://localhost:8080/",
          "height": 1071
        }
      },
      "cell_type": "code",
      "source": [
        "inputs = Input(shape=(num_features,))\n",
        "\n",
        "res = Dense(256, kernel_initializer = glorot_uniform(0))(inputs)\n",
        "bn = BatchNormalization()(res)\n",
        "relu = Activation(\"relu\")(bn)\n",
        "\n",
        "dense = Dense(256, kernel_initializer = glorot_uniform(0))(relu)\n",
        "bn = BatchNormalization()(dense)\n",
        "relu = Activation(\"relu\")(bn)\n",
        "\n",
        "dense = Dense(256, kernel_initializer = glorot_uniform(0))(relu)\n",
        "add_1 = keras.layers.add([res, dense])\n",
        "bn = BatchNormalization()(add_1)\n",
        "relu = Activation(\"relu\")(bn)\n",
        "\n",
        "dense = Dense(256, kernel_initializer = glorot_uniform(0))(relu)\n",
        "bn = BatchNormalization()(dense)\n",
        "relu = Activation(\"relu\")(bn)\n",
        "\n",
        "dense = Dense(256, kernel_initializer = glorot_uniform(0))(relu)\n",
        "add_2 = keras.layers.add([add_1, dense])\n",
        "bn = BatchNormalization()(add_2)\n",
        "relu = Activation(\"relu\")(bn)\n",
        "\n",
        "dense = Dense(256, kernel_initializer = glorot_uniform(0))(relu)\n",
        "bn = BatchNormalization()(dense)\n",
        "relu = Activation(\"relu\")(bn)\n",
        "\n",
        "dense = Dense(256, kernel_initializer = glorot_uniform(0))(relu)\n",
        "add_3 = keras.layers.add([add_2, dense])\n",
        "bn = BatchNormalization()(add_3)\n",
        "relu = Activation(\"relu\")(bn)\n",
        "\n",
        "out = Dense(num_classes, activation='softmax')(relu)\n",
        "\n",
        "mlp = Model(inputs=inputs, outputs=out)\n",
        "mlp.compile(\"adam\", \"categorical_crossentropy\", metrics=['accuracy'])\n",
        "\n",
        "mlp.summary()"
      ],
      "execution_count": 0,
      "outputs": [
        {
          "output_type": "stream",
          "text": [
            "__________________________________________________________________________________________________\n",
            "Layer (type)                    Output Shape         Param #     Connected to                     \n",
            "==================================================================================================\n",
            "input_10 (InputLayer)           (None, 784)          0                                            \n",
            "__________________________________________________________________________________________________\n",
            "dense_122 (Dense)               (None, 256)          200960      input_10[0][0]                   \n",
            "__________________________________________________________________________________________________\n",
            "batch_normalization_84 (BatchNo (None, 256)          1024        dense_122[0][0]                  \n",
            "__________________________________________________________________________________________________\n",
            "activation_99 (Activation)      (None, 256)          0           batch_normalization_84[0][0]     \n",
            "__________________________________________________________________________________________________\n",
            "dense_123 (Dense)               (None, 256)          65792       activation_99[0][0]              \n",
            "__________________________________________________________________________________________________\n",
            "batch_normalization_85 (BatchNo (None, 256)          1024        dense_123[0][0]                  \n",
            "__________________________________________________________________________________________________\n",
            "activation_100 (Activation)     (None, 256)          0           batch_normalization_85[0][0]     \n",
            "__________________________________________________________________________________________________\n",
            "dense_124 (Dense)               (None, 256)          65792       activation_100[0][0]             \n",
            "__________________________________________________________________________________________________\n",
            "add_16 (Add)                    (None, 256)          0           dense_122[0][0]                  \n",
            "                                                                 dense_124[0][0]                  \n",
            "__________________________________________________________________________________________________\n",
            "batch_normalization_86 (BatchNo (None, 256)          1024        add_16[0][0]                     \n",
            "__________________________________________________________________________________________________\n",
            "activation_101 (Activation)     (None, 256)          0           batch_normalization_86[0][0]     \n",
            "__________________________________________________________________________________________________\n",
            "dense_125 (Dense)               (None, 256)          65792       activation_101[0][0]             \n",
            "__________________________________________________________________________________________________\n",
            "batch_normalization_87 (BatchNo (None, 256)          1024        dense_125[0][0]                  \n",
            "__________________________________________________________________________________________________\n",
            "activation_102 (Activation)     (None, 256)          0           batch_normalization_87[0][0]     \n",
            "__________________________________________________________________________________________________\n",
            "dense_126 (Dense)               (None, 256)          65792       activation_102[0][0]             \n",
            "__________________________________________________________________________________________________\n",
            "add_17 (Add)                    (None, 256)          0           add_16[0][0]                     \n",
            "                                                                 dense_126[0][0]                  \n",
            "__________________________________________________________________________________________________\n",
            "batch_normalization_88 (BatchNo (None, 256)          1024        add_17[0][0]                     \n",
            "__________________________________________________________________________________________________\n",
            "activation_103 (Activation)     (None, 256)          0           batch_normalization_88[0][0]     \n",
            "__________________________________________________________________________________________________\n",
            "dense_127 (Dense)               (None, 256)          65792       activation_103[0][0]             \n",
            "__________________________________________________________________________________________________\n",
            "batch_normalization_89 (BatchNo (None, 256)          1024        dense_127[0][0]                  \n",
            "__________________________________________________________________________________________________\n",
            "activation_104 (Activation)     (None, 256)          0           batch_normalization_89[0][0]     \n",
            "__________________________________________________________________________________________________\n",
            "dense_128 (Dense)               (None, 256)          65792       activation_104[0][0]             \n",
            "__________________________________________________________________________________________________\n",
            "add_18 (Add)                    (None, 256)          0           add_17[0][0]                     \n",
            "                                                                 dense_128[0][0]                  \n",
            "__________________________________________________________________________________________________\n",
            "batch_normalization_90 (BatchNo (None, 256)          1024        add_18[0][0]                     \n",
            "__________________________________________________________________________________________________\n",
            "activation_105 (Activation)     (None, 256)          0           batch_normalization_90[0][0]     \n",
            "__________________________________________________________________________________________________\n",
            "dense_129 (Dense)               (None, 10)           2570        activation_105[0][0]             \n",
            "==================================================================================================\n",
            "Total params: 605,450\n",
            "Trainable params: 601,866\n",
            "Non-trainable params: 3,584\n",
            "__________________________________________________________________________________________________\n"
          ],
          "name": "stdout"
        }
      ]
    },
    {
      "metadata": {
        "id": "0EYilcX7f4WM",
        "colab_type": "code",
        "outputId": "e644c235-9aab-48e8-8ed9-afed481b5370",
        "colab": {
          "base_uri": "https://localhost:8080/",
          "height": 51
        }
      },
      "cell_type": "code",
      "source": [
        "callbacks = [EarlyStopping(monitor='val_loss', patience=15)]\n",
        "\n",
        "history_callback = mlp.fit(X_train, y_train, batch_size=32, epochs=50,\n",
        "                           shuffle=True, verbose=0,\n",
        "                           validation_data=(X_val, y_val),\n",
        "                           callbacks = callbacks)\n",
        "\n",
        "score = mlp.evaluate(X_test, y_test, verbose=0)\n",
        "print(\"Test loss: {:.3f}\".format(score[0]))\n",
        "print(\"Test Accuracy: {:.3f}\".format(score[1]))"
      ],
      "execution_count": 0,
      "outputs": [
        {
          "output_type": "stream",
          "text": [
            "Test loss: 0.452\n",
            "Test Accuracy: 0.899\n"
          ],
          "name": "stdout"
        }
      ]
    },
    {
      "metadata": {
        "id": "lGKa1Zflr8HO",
        "colab_type": "text"
      },
      "cell_type": "markdown",
      "source": [
        "#### As we can see above, we got a test accuracy of ≈ 90%, nothing bad for a fully connected network or MLP, which is not the ideal model for image classification and is very far in complexity than the state of the art models. "
      ]
    },
    {
      "metadata": {
        "colab_type": "text",
        "id": "lEbodXgUlZuU"
      },
      "cell_type": "markdown",
      "source": [
        "<h2> Task 3 - Train a convolutional neural network\n",
        "  \n",
        " <h3>  Let's perform all necessary steps to download the dataset from Kaggle into Google's Colab, using Kaggle CLI:"
      ]
    },
    {
      "metadata": {
        "id": "z7QVWDxlVkCj",
        "colab_type": "code",
        "outputId": "cc341c99-8743-4d22-aaf9-6ff097c03614",
        "colab": {
          "base_uri": "https://localhost:8080/",
          "height": 204
        }
      },
      "cell_type": "code",
      "source": [
        "# Install Kaggle CLI:\n",
        "!pip install kaggle"
      ],
      "execution_count": 0,
      "outputs": [
        {
          "output_type": "stream",
          "text": [
            "Requirement already satisfied: kaggle in /usr/local/lib/python3.6/dist-packages (1.5.3)\n",
            "Requirement already satisfied: urllib3<1.25,>=1.21.1 in /usr/local/lib/python3.6/dist-packages (from kaggle) (1.24.2)\n",
            "Requirement already satisfied: six>=1.10 in /usr/local/lib/python3.6/dist-packages (from kaggle) (1.12.0)\n",
            "Requirement already satisfied: certifi in /usr/local/lib/python3.6/dist-packages (from kaggle) (2019.3.9)\n",
            "Requirement already satisfied: python-dateutil in /usr/local/lib/python3.6/dist-packages (from kaggle) (2.5.3)\n",
            "Requirement already satisfied: requests in /usr/local/lib/python3.6/dist-packages (from kaggle) (2.21.0)\n",
            "Requirement already satisfied: tqdm in /usr/local/lib/python3.6/dist-packages (from kaggle) (4.28.1)\n",
            "Requirement already satisfied: python-slugify in /usr/local/lib/python3.6/dist-packages (from kaggle) (3.0.2)\n",
            "Requirement already satisfied: idna<2.9,>=2.5 in /usr/local/lib/python3.6/dist-packages (from requests->kaggle) (2.8)\n",
            "Requirement already satisfied: chardet<3.1.0,>=3.0.2 in /usr/local/lib/python3.6/dist-packages (from requests->kaggle) (3.0.4)\n",
            "Requirement already satisfied: text-unidecode==1.2 in /usr/local/lib/python3.6/dist-packages (from python-slugify->kaggle) (1.2)\n"
          ],
          "name": "stdout"
        }
      ]
    },
    {
      "metadata": {
        "id": "v_pVBI7IVOMA",
        "colab_type": "code",
        "outputId": "177f982f-0b5e-4c58-abfe-871368612be0",
        "colab": {
          "base_uri": "https://localhost:8080/",
          "height": 34
        }
      },
      "cell_type": "code",
      "source": [
        "# Authorize Colab to access Kagle by importing kaggle.json from google drive:\n",
        "# This snippet will output a link which needs authentication from google account\n",
        "from googleapiclient.discovery import build\n",
        "import io, os\n",
        "from googleapiclient.http import MediaIoBaseDownload\n",
        "from google.colab import auth\n",
        "auth.authenticate_user()\n",
        "drive_service = build('drive', 'v3')\n",
        "results = drive_service.files().list(\n",
        "        q=\"name = 'kaggle.json'\", fields=\"files(id)\").execute()\n",
        "kaggle_api_key = results.get('files', [])\n",
        "filename = \"/root/.kaggle/kaggle.json\"\n",
        "os.makedirs(os.path.dirname(filename), exist_ok=True)\n",
        "request = drive_service.files().get_media(fileId=kaggle_api_key[0]['id'])\n",
        "fh = io.FileIO(filename, 'wb')\n",
        "downloader = MediaIoBaseDownload(fh, request)\n",
        "done = False\n",
        "while done is False:\n",
        "    status, done = downloader.next_chunk()\n",
        "    print(\"Download %d%%.\" % int(status.progress() * 100))\n",
        "os.chmod(filename, 600)"
      ],
      "execution_count": 0,
      "outputs": [
        {
          "output_type": "stream",
          "text": [
            "Download 100%.\n"
          ],
          "name": "stdout"
        }
      ]
    },
    {
      "metadata": {
        "id": "rSC8e_WBoNTk",
        "colab_type": "text"
      },
      "cell_type": "markdown",
      "source": [
        "#### List all Kaggle datasets with the keyword 'Histopathology':"
      ]
    },
    {
      "metadata": {
        "id": "yb1aS0uDcCq-",
        "colab_type": "code",
        "outputId": "1c8136c5-eb9b-4e52-c588-b00346b1cfaa",
        "colab": {
          "base_uri": "https://localhost:8080/",
          "height": 119
        }
      },
      "cell_type": "code",
      "source": [
        "!kaggle datasets list -s Histopathology"
      ],
      "execution_count": 0,
      "outputs": [
        {
          "output_type": "stream",
          "text": [
            "ref                                             title                            size  lastUpdated          downloadCount  \n",
            "----------------------------------------------  -------------------------------  ----  -------------------  -------------  \n",
            "paultimothymooney/breast-histopathology-images  Breast Histopathology Images      1GB  2017-12-19 05:46:40           4496  \n",
            "kmader/skin-cancer-mnist-ham10000               Skin Cancer MNIST: HAM10000       3GB  2018-09-20 20:36:13           7803  \n",
            "tywangty/histopathologiccancerwsi               histopathologic-cancer-WSI        5MB  2019-03-14 13:21:16             27  \n",
            "discdiver/mnist1000-with-one-image-folder       MNIST1000_with_one_image_folder   3GB  2019-03-20 17:30:54             28  \n"
          ],
          "name": "stdout"
        }
      ]
    },
    {
      "metadata": {
        "id": "NTxor_QXoe6-",
        "colab_type": "text"
      },
      "cell_type": "markdown",
      "source": [
        "#### Download the dataset to Google's Colab:"
      ]
    },
    {
      "metadata": {
        "id": "pcHgdj0xdd0i",
        "colab_type": "code",
        "outputId": "452fa39f-b4e3-4f0c-f8cc-e4c9596d3cba",
        "colab": {
          "base_uri": "https://localhost:8080/",
          "height": 68
        }
      },
      "cell_type": "code",
      "source": [
        "!kaggle datasets download -d paultimothymooney/breast-histopathology-images"
      ],
      "execution_count": 0,
      "outputs": [
        {
          "output_type": "stream",
          "text": [
            "Downloading breast-histopathology-images.zip to /content\n",
            " 99% 1.48G/1.49G [00:27<00:00, 67.9MB/s]\n",
            "100% 1.49G/1.49G [00:27<00:00, 58.2MB/s]\n"
          ],
          "name": "stdout"
        }
      ]
    },
    {
      "metadata": {
        "id": "aLI6c-9Fo2q9",
        "colab_type": "text"
      },
      "cell_type": "markdown",
      "source": [
        "#### Let's check the name of the dowloaded file:"
      ]
    },
    {
      "metadata": {
        "id": "3WcImvwSeolh",
        "colab_type": "code",
        "outputId": "b831bfcd-24ee-43da-893c-d98a2b32da20",
        "colab": {
          "base_uri": "https://localhost:8080/",
          "height": 34
        }
      },
      "cell_type": "code",
      "source": [
        "#import os\n",
        "\n",
        "os.listdir()"
      ],
      "execution_count": 0,
      "outputs": [
        {
          "output_type": "execute_result",
          "data": {
            "text/plain": [
              "['.config', 'breast-histopathology-images.zip', 'adc.json', 'sample_data']"
            ]
          },
          "metadata": {
            "tags": []
          },
          "execution_count": 140
        }
      ]
    },
    {
      "metadata": {
        "id": "DMqDHW32pDcJ",
        "colab_type": "text"
      },
      "cell_type": "markdown",
      "source": [
        "#### Let's unzip 'breast-histopathology-images.zip' and check unzipped files:"
      ]
    },
    {
      "metadata": {
        "id": "1Grol061gvXK",
        "colab_type": "code",
        "outputId": "9bbe738b-c0a8-47ce-e1f3-d699a29e4bdf",
        "colab": {
          "base_uri": "https://localhost:8080/",
          "height": 68
        }
      },
      "cell_type": "code",
      "source": [
        "!unzip breast-histopathology-images.zip\n",
        "os.remove('breast-histopathology-images.zip')\n",
        "os.listdir()"
      ],
      "execution_count": 0,
      "outputs": [
        {
          "output_type": "stream",
          "text": [
            "Archive:  breast-histopathology-images.zip\n",
            "  inflating: IDC_regular_ps50_idx5.zip  \n"
          ],
          "name": "stdout"
        },
        {
          "output_type": "execute_result",
          "data": {
            "text/plain": [
              "['.config', 'adc.json', 'IDC_regular_ps50_idx5.zip', 'sample_data']"
            ]
          },
          "metadata": {
            "tags": []
          },
          "execution_count": 141
        }
      ]
    },
    {
      "metadata": {
        "id": "390UJvVZpR_W",
        "colab_type": "text"
      },
      "cell_type": "markdown",
      "source": [
        "#### Let's unzip 'IDC_regular_ps50_idx5.zip' into a folder named 'data':"
      ]
    },
    {
      "metadata": {
        "id": "nwvDHf0LkGdl",
        "colab_type": "code",
        "outputId": "77e74b36-4819-4448-cf0a-4da093f5d23a",
        "colab": {
          "base_uri": "https://localhost:8080/",
          "height": 68
        }
      },
      "cell_type": "code",
      "source": [
        "#from zipfile import ZipFile \n",
        "  \n",
        "file_name = 'IDC_regular_ps50_idx5.zip'\n",
        "with ZipFile(file_name, 'r') as zip: \n",
        "    print('Unzipping...') \n",
        "    zip.extractall('data') \n",
        "    print('Done Unzipping!') \n",
        "os.remove('IDC_regular_ps50_idx5.zip')\n",
        "os.listdir()"
      ],
      "execution_count": 0,
      "outputs": [
        {
          "output_type": "stream",
          "text": [
            "Unzipping...\n",
            "Done Unzipping!\n"
          ],
          "name": "stdout"
        },
        {
          "output_type": "execute_result",
          "data": {
            "text/plain": [
              "['.config', 'adc.json', 'data', 'sample_data']"
            ]
          },
          "metadata": {
            "tags": []
          },
          "execution_count": 142
        }
      ]
    },
    {
      "metadata": {
        "id": "p2bCOUb_pvHM",
        "colab_type": "text"
      },
      "cell_type": "markdown",
      "source": [
        "#### Let's check the content of the 'data' Dir: "
      ]
    },
    {
      "metadata": {
        "id": "9maGblfxhaty",
        "colab_type": "code",
        "outputId": "3d9919da-6b78-43b5-eced-73eab13652ae",
        "colab": {
          "base_uri": "https://localhost:8080/",
          "height": 4760
        }
      },
      "cell_type": "code",
      "source": [
        "os.listdir('./data')"
      ],
      "execution_count": 0,
      "outputs": [
        {
          "output_type": "execute_result",
          "data": {
            "text/plain": [
              "['12876',\n",
              " '12821',\n",
              " '12873',\n",
              " '9325',\n",
              " '9083',\n",
              " '12826',\n",
              " '15473',\n",
              " '12811',\n",
              " '10301',\n",
              " '10302',\n",
              " '13023',\n",
              " '15634',\n",
              " '8863',\n",
              " '8951',\n",
              " '9266',\n",
              " '8975',\n",
              " '10253',\n",
              " '9254',\n",
              " '14189',\n",
              " '15471',\n",
              " '14304',\n",
              " '9320',\n",
              " '13691',\n",
              " '12910',\n",
              " '10278',\n",
              " '9382',\n",
              " '12929',\n",
              " '9073',\n",
              " '9265',\n",
              " '12869',\n",
              " '12897',\n",
              " '9125',\n",
              " '16166',\n",
              " '14188',\n",
              " '12823',\n",
              " '13689',\n",
              " '9262',\n",
              " '16165',\n",
              " '9126',\n",
              " '14190',\n",
              " '10254',\n",
              " '16551',\n",
              " '10282',\n",
              " '8914',\n",
              " '9175',\n",
              " '9346',\n",
              " '16895',\n",
              " '10293',\n",
              " '12934',\n",
              " '13024',\n",
              " '12907',\n",
              " '12955',\n",
              " '13019',\n",
              " '9258',\n",
              " '10276',\n",
              " '12884',\n",
              " '12820',\n",
              " '8955',\n",
              " '12242',\n",
              " '13613',\n",
              " '16569',\n",
              " '9256',\n",
              " '9029',\n",
              " '10288',\n",
              " '12948',\n",
              " '9259',\n",
              " '13692',\n",
              " '16552',\n",
              " '12877',\n",
              " '14321',\n",
              " '16554',\n",
              " '12824',\n",
              " '9176',\n",
              " '10279',\n",
              " '12810',\n",
              " '9022',\n",
              " '12932',\n",
              " '16532',\n",
              " '13616',\n",
              " '12909',\n",
              " '14078',\n",
              " '14211',\n",
              " '10291',\n",
              " '9255',\n",
              " '14081',\n",
              " '12931',\n",
              " '10308',\n",
              " '12900',\n",
              " '10286',\n",
              " '16570',\n",
              " '9173',\n",
              " '14154',\n",
              " '8950',\n",
              " '13106',\n",
              " '8984',\n",
              " '15514',\n",
              " '9177',\n",
              " '12949',\n",
              " '13025',\n",
              " '12875',\n",
              " '16167',\n",
              " '10307',\n",
              " '14306',\n",
              " '12870',\n",
              " '12892',\n",
              " '9035',\n",
              " '12871',\n",
              " '14191',\n",
              " '10260',\n",
              " '15840',\n",
              " '14153',\n",
              " '12867',\n",
              " '13400',\n",
              " '15516',\n",
              " '8864',\n",
              " '13403',\n",
              " '9178',\n",
              " '10269',\n",
              " '10259',\n",
              " '9036',\n",
              " '15902',\n",
              " '14157',\n",
              " '10261',\n",
              " '8980',\n",
              " '13458',\n",
              " '9324',\n",
              " '16550',\n",
              " '9344',\n",
              " '12896',\n",
              " '9347',\n",
              " '13617',\n",
              " '12883',\n",
              " '12894',\n",
              " '16896',\n",
              " '13404',\n",
              " '15512',\n",
              " '12626',\n",
              " '9228',\n",
              " '9260',\n",
              " '9345',\n",
              " '13022',\n",
              " '8913',\n",
              " '12750',\n",
              " '9257',\n",
              " '15472',\n",
              " '10274',\n",
              " '10273',\n",
              " '13018',\n",
              " '10303',\n",
              " '12817',\n",
              " '9078',\n",
              " '12748',\n",
              " '10300',\n",
              " '12868',\n",
              " '9123',\n",
              " '13688',\n",
              " '12908',\n",
              " '15513',\n",
              " '12881',\n",
              " '8918',\n",
              " '16014',\n",
              " '9381',\n",
              " '9077',\n",
              " '13021',\n",
              " '12818',\n",
              " '15632',\n",
              " '13916',\n",
              " '14210',\n",
              " '12947',\n",
              " '12749',\n",
              " '9174',\n",
              " '9124',\n",
              " '8957',\n",
              " '13694',\n",
              " '16085',\n",
              " '12905',\n",
              " '9322',\n",
              " '9181',\n",
              " '12911',\n",
              " '10277',\n",
              " '12935',\n",
              " '16553',\n",
              " '13401',\n",
              " '12954',\n",
              " '9041',\n",
              " '14079',\n",
              " '15510',\n",
              " '12822',\n",
              " '12752',\n",
              " '14213',\n",
              " '12906',\n",
              " '12898',\n",
              " '14192',\n",
              " '12886',\n",
              " '13666',\n",
              " '12933',\n",
              " '14156',\n",
              " '14305',\n",
              " '9250',\n",
              " '10299',\n",
              " '13462',\n",
              " '10290',\n",
              " '12879',\n",
              " '9323',\n",
              " '10285',\n",
              " '9226',\n",
              " '14082',\n",
              " '13460',\n",
              " '13591',\n",
              " '9075',\n",
              " '9044',\n",
              " '9227',\n",
              " '12901',\n",
              " '10262',\n",
              " '12241',\n",
              " '9023',\n",
              " '12819',\n",
              " '10306',\n",
              " '9290',\n",
              " '12872',\n",
              " '12895',\n",
              " '10258',\n",
              " '8959',\n",
              " '12890',\n",
              " '9319',\n",
              " '15903',\n",
              " '8956',\n",
              " '13020',\n",
              " '13693',\n",
              " '12893',\n",
              " '9135',\n",
              " '13461',\n",
              " '13459',\n",
              " '15839',\n",
              " '10257',\n",
              " '14155',\n",
              " '16531',\n",
              " '9267',\n",
              " '10295',\n",
              " '9076',\n",
              " '9261',\n",
              " '10264',\n",
              " '12951',\n",
              " '8916',\n",
              " '15633',\n",
              " '10268',\n",
              " '10292',\n",
              " '16534',\n",
              " '8865',\n",
              " '12930',\n",
              " '9081',\n",
              " '16533',\n",
              " '9291',\n",
              " '9043',\n",
              " '13687',\n",
              " '14212',\n",
              " '12880',\n",
              " '9225',\n",
              " '10275',\n",
              " '13402',\n",
              " '10272',\n",
              " '10305',\n",
              " '10256',\n",
              " '12878',\n",
              " '10255',\n",
              " '8867',\n",
              " '9383',\n",
              " '12751',\n",
              " '8974',\n",
              " '8917',\n",
              " '10304',\n",
              " '12891',\n",
              " '9321',\n",
              " '12882',\n",
              " '16568',\n",
              " '15515',\n",
              " '14209',\n",
              " '16555',\n",
              " '9037']"
            ]
          },
          "metadata": {
            "tags": []
          },
          "execution_count": 143
        }
      ]
    },
    {
      "metadata": {
        "id": "vr3o8eX1rp6K",
        "colab_type": "text"
      },
      "cell_type": "markdown",
      "source": [
        "#### There are several folders. According to the metadata, each folder would correspond to a patient ID.\n",
        "\n",
        "#### Inside each patient ID's folder, there are 2 sub-folders named '0'  and '1', where '0' stores the images with no IDC (I'nvasive Ductal Carcinoma' breast cancer) and '1' stores images with IDC:"
      ]
    },
    {
      "metadata": {
        "id": "i8z8xVqOhd8a",
        "colab_type": "code",
        "outputId": "2dfd492f-541a-4fff-896e-352db6fc9db3",
        "colab": {
          "base_uri": "https://localhost:8080/",
          "height": 34
        }
      },
      "cell_type": "code",
      "source": [
        "os.listdir('./data/12810')"
      ],
      "execution_count": 0,
      "outputs": [
        {
          "output_type": "execute_result",
          "data": {
            "text/plain": [
              "['1', '0']"
            ]
          },
          "metadata": {
            "tags": []
          },
          "execution_count": 144
        }
      ]
    },
    {
      "metadata": {
        "id": "QVMX0NUJu24v",
        "colab_type": "code",
        "outputId": "cd770481-3e31-430e-8f42-040a046970b7",
        "colab": {
          "base_uri": "https://localhost:8080/",
          "height": 255
        }
      },
      "cell_type": "code",
      "source": [
        "print('\\nFirst five (5) non-IDC images for patient ID ¨12810¨:')\n",
        "for img in os.listdir('./data/12810/0')[:5]:\n",
        "  print('  *', img)\n",
        "\n",
        "print('\\nFirst five (5) IDC images for patient ID ¨12810¨:')\n",
        "for img in os.listdir('./data/12810/1')[:5]:\n",
        "  print('  *', img)"
      ],
      "execution_count": 0,
      "outputs": [
        {
          "output_type": "stream",
          "text": [
            "\n",
            "First five (5) non-IDC images for patient ID ¨12810¨:\n",
            "  * 12810_idx5_x2501_y1501_class0.png\n",
            "  * 12810_idx5_x1451_y2651_class0.png\n",
            "  * 12810_idx5_x2151_y201_class0.png\n",
            "  * 12810_idx5_x951_y1201_class0.png\n",
            "  * 12810_idx5_x1551_y2501_class0.png\n",
            "\n",
            "First five (5) IDC images for patient ID ¨12810¨:\n",
            "  * 12810_idx5_x1851_y1151_class1.png\n",
            "  * 12810_idx5_x1651_y1101_class1.png\n",
            "  * 12810_idx5_x1601_y651_class1.png\n",
            "  * 12810_idx5_x1001_y1151_class1.png\n",
            "  * 12810_idx5_x1501_y1251_class1.png\n"
          ],
          "name": "stdout"
        }
      ]
    },
    {
      "metadata": {
        "id": "ttG1zvfVu1qg",
        "colab_type": "text"
      },
      "cell_type": "markdown",
      "source": [
        ""
      ]
    },
    {
      "metadata": {
        "id": "rzylT5dK_0tq",
        "colab_type": "code",
        "colab": {}
      },
      "cell_type": "code",
      "source": [
        "from urllib.request import urlretrieve\n",
        "import os\n",
        "\n",
        "def download(url, file):\n",
        "    if not os.path.isfile(file):\n",
        "        print(\"Download file... \" + file + \" ...\")\n",
        "        urlretrieve(url,file)\n",
        "        print(\"File downloaded\")\n",
        "\n",
        "download('https://www.kaggle.com/paultimothymooney/breast-histopathology-images/downloads/breast-histopathology-images.zip/1','breast_cancer2.zip')\n",
        "\n",
        "try:\n",
        "  os.system('7z x breast_cancer.zip')\n",
        "except Exception as e:\n",
        "  print(e)"
      ],
      "execution_count": 0,
      "outputs": []
    },
    {
      "metadata": {
        "id": "xYztO_00Jg-n",
        "colab_type": "code",
        "colab": {}
      },
      "cell_type": "code",
      "source": [
        "try:\n",
        "  !7z e breast_cancer.zip\n",
        "  print('unnzipped')\n",
        "  \n",
        "except Exception as e:\n",
        "  print(e)"
      ],
      "execution_count": 0,
      "outputs": []
    },
    {
      "metadata": {
        "colab_type": "text",
        "id": "X51z0cw3lZuc"
      },
      "cell_type": "markdown",
      "source": [
        "#### Let's plot to see if there is any visually preceptible one-to-one relationship between the target and the newly derived features:"
      ]
    },
    {
      "metadata": {
        "colab_type": "code",
        "id": "4lE0xRUklZud",
        "colab": {}
      },
      "cell_type": "code",
      "source": [
        "os.system( '7z x breast_cancer.zip -oPath/to/Name' )"
      ],
      "execution_count": 0,
      "outputs": []
    },
    {
      "metadata": {
        "colab_type": "text",
        "id": "gzBx9Z_klZuj"
      },
      "cell_type": "markdown",
      "source": [
        "#### It seems like these newly derived features do not encode much information about the target. Let's add them as additional features to our base model and see it it performs better:"
      ]
    },
    {
      "metadata": {
        "colab_type": "code",
        "id": "mO3NAtJ3lZuk",
        "colab": {}
      },
      "cell_type": "code",
      "source": [
        "X_train = bag.fit_transform(text_train)\n",
        "X_train"
      ],
      "execution_count": 0,
      "outputs": []
    },
    {
      "metadata": {
        "colab_type": "code",
        "id": "j8NU4pXHlZun",
        "colab": {}
      },
      "cell_type": "code",
      "source": [
        "new_features = df[new_cols]\n",
        "X_train = hstack((X_train, new_features))\n",
        "X_train"
      ],
      "execution_count": 0,
      "outputs": []
    },
    {
      "metadata": {
        "colab_type": "text",
        "id": "_G8ddlaYlZur"
      },
      "cell_type": "markdown",
      "source": [
        "### Let's evaluate our baseline model with these newly added features:"
      ]
    },
    {
      "metadata": {
        "colab_type": "code",
        "id": "lD4_m5bxlZur",
        "colab": {}
      },
      "cell_type": "code",
      "source": [
        "lr = LogisticRegressionCV(scoring=\"roc_auc\", random_state=0).fit(X_train, y_train)\n",
        "auc_roc_derived_features = lr.scores_[1].mean(axis=0).max()\n",
        "print ('\\nMax auc_roc baseline model: {:.8f}'.format(auc_roc_baseline))\n",
        "print ('Max auc_roc with newly derived features: {:.8f}'.format(auc_roc_derived_features))"
      ],
      "execution_count": 0,
      "outputs": []
    },
    {
      "metadata": {
        "colab_type": "text",
        "id": "bLNYoYi0lZuw"
      },
      "cell_type": "markdown",
      "source": [
        "#### Result didn't improve. \n",
        "\n",
        "### Let's now explore some other features we think may be important for this speficic task:"
      ]
    },
    {
      "metadata": {
        "colab_type": "code",
        "id": "VhL_IIRmlZux",
        "colab": {}
      },
      "cell_type": "code",
      "source": [
        "some_bad_strings = ['shit','fuck','dam','mother','father','dad','hate','sex'] # strings in bad words\n",
        "offense_words = ['you','your','they','their','our','ours','mom', 'comment'] # frequently used in offensive responses\n",
        "\n",
        "bad_words = lambda x: len([word for bad in some_bad_strings for word in x['body'].split() if bad in str.lower(word)])\n",
        "offensive = lambda x: len([word for offense in offense_words for word in x['body'].split() if offense == str.lower(word)])\n",
        "\n",
        "df = df[['body', 'REMOVED']]\n",
        "df['bad_words'] = df.apply(bad_words, axis=1)\n",
        "df['offensive'] = df.apply(offensive, axis=1)\n",
        "print(df[:20])"
      ],
      "execution_count": 0,
      "outputs": []
    },
    {
      "metadata": {
        "colab_type": "text",
        "id": "oXPewMJalZu2"
      },
      "cell_type": "markdown",
      "source": [
        "#### Let's add these newly derived features to our base model and see it it performs better:"
      ]
    },
    {
      "metadata": {
        "colab_type": "code",
        "id": "QylAJ3M8lZu3",
        "colab": {}
      },
      "cell_type": "code",
      "source": [
        "X_train = bag.fit_transform(text_train)\n",
        "X_train"
      ],
      "execution_count": 0,
      "outputs": []
    },
    {
      "metadata": {
        "colab_type": "code",
        "id": "SzgI6yRKlZu6",
        "colab": {}
      },
      "cell_type": "code",
      "source": [
        "new_cols = ['bad_words', 'offensive']\n",
        "new_features = df[new_cols]\n",
        "X_train = hstack((X_train, new_features))\n",
        "X_train"
      ],
      "execution_count": 0,
      "outputs": []
    },
    {
      "metadata": {
        "colab_type": "code",
        "id": "sx-unQy-lZu9",
        "colab": {}
      },
      "cell_type": "code",
      "source": [
        "lr = LogisticRegressionCV(scoring=\"roc_auc\", random_state=0).fit(X_train, y_train)\n",
        "auc_roc_derived_features = lr.scores_[1].mean(axis=0).max()\n",
        "print ('\\nMax auc_roc baseline model: {:.8f}'.format(auc_roc_baseline))\n",
        "print ('Max auc_roc with newly derived features: {:.8f}'.format(auc_roc_derived_features))"
      ],
      "execution_count": 0,
      "outputs": []
    },
    {
      "metadata": {
        "colab_type": "text",
        "id": "hWTZP-6nlZvC"
      },
      "cell_type": "markdown",
      "source": [
        "#### It worked this time!\n",
        "\n",
        "#### Though a very small improvement, we can see that adding the count of bad words and words we think are frequently used in offensive responses, slightly increases the performance of our classifier, using the same random state. "
      ]
    },
    {
      "metadata": {
        "colab_type": "text",
        "id": "y3I7y06hlZvD"
      },
      "cell_type": "markdown",
      "source": [
        "<h2 >Task 2 - Word Vectors\n",
        "\n",
        "### Use a pretrained word-embedding (word2vec, glove or fasttext) instead of the bag-of-words model."
      ]
    },
    {
      "metadata": {
        "colab_type": "text",
        "id": "B0vhuiezlZvF"
      },
      "cell_type": "markdown",
      "source": [
        "#### Let's use Google's Word2Vect pre-trained model:"
      ]
    },
    {
      "metadata": {
        "colab_type": "code",
        "id": "Da3azrW3lZvH",
        "colab": {}
      },
      "cell_type": "code",
      "source": [
        "import gensim as gensim\n",
        "\n",
        "W2V = gensim.models.KeyedVectors.load_word2vec_format('./Models/GoogleNews-vectors-negative300.bin', binary=True)"
      ],
      "execution_count": 0,
      "outputs": []
    },
    {
      "metadata": {
        "colab_type": "text",
        "id": "LcwjOYCnlZvK"
      },
      "cell_type": "markdown",
      "source": [
        "#### Let's get each document in our training dataset as a list of tokens for W2V model: "
      ]
    },
    {
      "metadata": {
        "colab_type": "code",
        "id": "Y4oi3sSmlZvK",
        "colab": {}
      },
      "cell_type": "code",
      "source": [
        "vect_w2v = CountVectorizer(vocabulary=W2V.index2word)\n",
        "vect_w2v.fit(text_train)\n",
        "docs = vect_w2v.inverse_transform(vect_w2v.transform(text_train))\n",
        "docs[0]"
      ],
      "execution_count": 0,
      "outputs": []
    },
    {
      "metadata": {
        "colab_type": "text",
        "id": "DZBg8NqalZvN"
      },
      "cell_type": "markdown",
      "source": [
        "#### Now for each document, we will replace each tokens in the document by a 300-dimensional vector, then represent each document by the mean of all the 300-dimensional vectors:"
      ]
    },
    {
      "metadata": {
        "colab_type": "code",
        "id": "JvJ1kb4ClZvO",
        "colab": {}
      },
      "cell_type": "code",
      "source": [
        "try:\n",
        "    X_train = np.vstack([np.mean(W2V[doc], axis=0) for doc in docs])\n",
        "    X_train.shape\n",
        "except Exception as e:\n",
        "    print('Got error/exception:', e)"
      ],
      "execution_count": 0,
      "outputs": []
    },
    {
      "metadata": {
        "colab_type": "text",
        "id": "mo2nUUU5lZvU"
      },
      "cell_type": "markdown",
      "source": [
        "#### We are getting an error: Let's see what is going on in the docs where we are getting that error:"
      ]
    },
    {
      "metadata": {
        "colab_type": "code",
        "id": "gadAsGGElZvV",
        "colab": {}
      },
      "cell_type": "code",
      "source": [
        "removed = 0\n",
        "non_removed = 0\n",
        "for i in range (len(docs)):\n",
        "    try:\n",
        "        W2V[docs[i]]\n",
        "    except Exception as e:\n",
        "        if df['REMOVED'][i] == True:\n",
        "            removed+=1\n",
        "        else: non_removed+=1    \n",
        "        print(i, text_train[i], 'REMOVED?:', df['REMOVED'][i])\n",
        "print('\\nn_removed: {},  n_non_removed: {}'.format(removed, non_removed))"
      ],
      "execution_count": 0,
      "outputs": []
    },
    {
      "metadata": {
        "colab_type": "text",
        "id": "vZiV4vZ4lZvd"
      },
      "cell_type": "markdown",
      "source": [
        "#### As we can see above, the error is taking place in documents wehre there is not a single recognizable word (not a single word that makes sense). So let's replace all those documents with the token 'UNK': "
      ]
    },
    {
      "metadata": {
        "colab_type": "code",
        "id": "bzyZB5eXlZvd",
        "colab": {}
      },
      "cell_type": "code",
      "source": [
        "text_train_repaired = []   \n",
        "for i in range (len(docs)):\n",
        "    try:\n",
        "        W2V[docs[i]]\n",
        "        text_train_repaired.append(text_train[i])\n",
        "    except Exception as e:\n",
        "        text_train_repaired.append('UNK')"
      ],
      "execution_count": 0,
      "outputs": []
    },
    {
      "metadata": {
        "colab_type": "text",
        "id": "GVTt6VxxlZvh"
      },
      "cell_type": "markdown",
      "source": [
        "#### Let's go back and get each document in our repaired training dataset as a list of tokens for W2V model: "
      ]
    },
    {
      "metadata": {
        "colab_type": "code",
        "id": "HPmL8Yu1lZvj",
        "colab": {}
      },
      "cell_type": "code",
      "source": [
        "vect_w2v = CountVectorizer(vocabulary=W2V.index2word)\n",
        "vect_w2v.fit(text_train_repaired)\n",
        "docs = vect_w2v.inverse_transform(vect_w2v.transform(text_train_repaired))\n",
        "docs[0]"
      ],
      "execution_count": 0,
      "outputs": []
    },
    {
      "metadata": {
        "colab_type": "text",
        "id": "NXB0sh8SlZvq"
      },
      "cell_type": "markdown",
      "source": [
        "#### Now for each document, we will replace each tokens in the document by a 300-dimensional vector, then represent each document by the mean of all the 300-dimensional vectors (should work this time):"
      ]
    },
    {
      "metadata": {
        "colab_type": "code",
        "id": "VaKsHxuYlZvr",
        "colab": {}
      },
      "cell_type": "code",
      "source": [
        "X_train = np.vstack([np.mean(W2V[doc], axis=0) for doc in docs])\n",
        "X_train.shape"
      ],
      "execution_count": 0,
      "outputs": []
    },
    {
      "metadata": {
        "colab_type": "text",
        "id": "cxHLtkDMlZvu"
      },
      "cell_type": "markdown",
      "source": [
        "#### It worked!"
      ]
    },
    {
      "metadata": {
        "colab_type": "text",
        "id": "cVEe_p0plZvv"
      },
      "cell_type": "markdown",
      "source": [
        "#### Let's now see what results we get using the pretrained word2vec as compared with the baseline bag-of-words model:"
      ]
    },
    {
      "metadata": {
        "colab_type": "code",
        "id": "Eb3Z6J-ylZvx",
        "colab": {}
      },
      "cell_type": "code",
      "source": [
        "lr = LogisticRegressionCV(scoring=\"roc_auc\", random_state=0).fit(X_train, y_train)\n",
        "auc_roc_w2v = lr.scores_[1].mean(axis=0).max()\n",
        "print ('\\nMax auc_roc baseline bag-of-words model : {:.8f}'.format(auc_roc_baseline))\n",
        "print ('\\nOur best model auc_roc (using character n-grams): {:.8f}'.format(auc_roc_char_ngrams))\n",
        "print ('\\nMax auc_roc using pretrained word2vec: {:.8f}'.format(auc_roc_w2v))"
      ],
      "execution_count": 0,
      "outputs": []
    },
    {
      "metadata": {
        "colab_type": "text",
        "id": "fFOHFSr9lZv0"
      },
      "cell_type": "markdown",
      "source": [
        "### Does this improve classification?"
      ]
    },
    {
      "metadata": {
        "colab_type": "text",
        "id": "NwGEjCk9lZv1"
      },
      "cell_type": "markdown",
      "source": [
        "Using a a pretrained word-embedding (word2vec) instead of the bag-of-words model didn't improve classification but we got an auc_roc of 0.7279, somewhat close to our baseline bag-of-words mode where we got an auc_roc of 0.7593, though far from our best result using character n-grams with an auc_roc of 0.7915"
      ]
    }
  ]
}